{
 "cells": [
  {
   "cell_type": "markdown",
   "metadata": {},
   "source": [
    "# Introduction\n",
    "\n",
    "This notebook is an introduction to the usage of the multiplex.py class constructed by Zeyad and Phil. It provides a brief explanation of the problem addressed by the class, as well as an illustration of some common tasks. It uses the Riyadh data as a standing illustration. \n",
    "\n",
    "This is very young software, so keep your eyes open! "
   ]
  },
  {
   "cell_type": "markdown",
   "metadata": {},
   "source": [
    "## Getting the software and data\n",
    "\n",
    "The easiest way to follow along with this guide is to clone the whole repository in which it lies. Run the following at your terminal:\n",
    "\n",
    "    git clone https://github.mit.edu/pchodrow/multiplex-metro.git\n",
    "\n",
    "The repo includes both the relevant software (in the `metro` subdirectory) as well as our example data sets (in `1_data`) and some scripts that use the software (the \\*.py files in the parent directory). \n",
    "\n",
    "\n",
    "Note that you will need to install the packages listed in `requirements.txt` in order to use this software. If you are using pip as your Python package manager, you can do this by running \n",
    "\n",
    "    pip install -r requirements.txt\n",
    "\n",
    "in the directory in which you cloned the repository. \n"
   ]
  },
  {
   "cell_type": "markdown",
   "metadata": {},
   "source": [
    "# Problem Addressed\n",
    "\n",
    "The `multiplex` class aspires to make it easy to work with multilayer networks in Python. Some tasks it handles include:\n",
    "\n",
    "- Adding layers to a multiplex\n",
    "- Linking the layers by proximity\n",
    "- Reading and writing networks\n",
    "- Summarizing a multilayer network\n",
    "- Reading and keying and OD matrix\n",
    "- Assigning flows on the multiplex based on an OD matrix"
   ]
  },
  {
   "cell_type": "markdown",
   "metadata": {},
   "source": [
    "# How it works\n",
    "\n",
    "The `multiplex` class is a fairly thin wrapper to the `networkx.DiGraph()` class. A multiplex `m` has three attributes:\n",
    "\n",
    "- A `networkx.DiGraph()` which records the network structure\n",
    "- A list `layers` of the distinct layers of the multiplex\n",
    "- An optional `od` for use in assignment algorithms\n"
   ]
  },
  {
   "cell_type": "markdown",
   "metadata": {},
   "source": [
    "# Using the class"
   ]
  },
  {
   "cell_type": "markdown",
   "metadata": {},
   "source": [
    "Let's start by loading in the package and creating a multiplex. "
   ]
  },
  {
   "cell_type": "code",
   "execution_count": 1,
   "metadata": {
    "collapsed": false
   },
   "outputs": [
    {
     "data": {
      "text/plain": [
       "<metro.multiplex.multiplex instance at 0x1c45368>"
      ]
     },
     "execution_count": 1,
     "metadata": {},
     "output_type": "execute_result"
    }
   ],
   "source": [
    "from metro import multiplex as mx\n",
    "m = mx.multiplex()\n",
    "m"
   ]
  },
  {
   "cell_type": "markdown",
   "metadata": {},
   "source": [
    "At first, `m` consists of an empty `networkx.DiGraph()` called `G`. `layers` is an empty list.  `od` is equal to `None`. "
   ]
  },
  {
   "cell_type": "code",
   "execution_count": 2,
   "metadata": {
    "collapsed": false
   },
   "outputs": [
    {
     "data": {
      "text/plain": [
       "{'G': <networkx.classes.digraph.DiGraph at 0x1c42f50>,\n",
       " 'layers': [],\n",
       " 'od': None}"
      ]
     },
     "execution_count": 2,
     "metadata": {},
     "output_type": "execute_result"
    }
   ],
   "source": [
    "m.__dict__ # show the properties of m"
   ]
  },
  {
   "cell_type": "markdown",
   "metadata": {},
   "source": [
    "Another way to see what `m` has in it is to use the `m.summary()` method, which will list the layers and tell you whether or not `m` has an od matrix: "
   ]
  },
  {
   "cell_type": "code",
   "execution_count": 3,
   "metadata": {
    "collapsed": false
   },
   "outputs": [
    {
     "name": "stdout",
     "output_type": "stream",
     "text": [
      "OD: none \n",
      "\n",
      "layer           \tnodes \tedges\n",
      "----------------------------------------\n"
     ]
    }
   ],
   "source": [
    "m.summary()"
   ]
  },
  {
   "cell_type": "markdown",
   "metadata": {},
   "source": [
    "Pretty boring so far! Let's add layers to our multiplex object. Each layer should be a networkx.DiGraph() object. Let's illustrate by reading in the Riyadh metro network. The `read_metro()` and `clean_metro()` functions are helpers to read in the metro and ensure it has the right features. "
   ]
  },
  {
   "cell_type": "code",
   "execution_count": 4,
   "metadata": {},
   "outputs": [
    {
     "ename": "NameError",
     "evalue": "name 'metro' is not defined",
     "output_type": "error",
     "traceback": [
      "\u001b[1;31m---------------------------------------------------------------------------\u001b[0m",
      "\u001b[1;31mNameError\u001b[0m                                 Traceback (most recent call last)",
      "\u001b[1;32mc:\\Users\\Matte\\Desktop\\LUMSA\\2\\Social Network Analysis\\project\\code\\Paris-Euler\\metro\\README.ipynb Cell 13'\u001b[0m in \u001b[0;36m<module>\u001b[1;34m\u001b[0m\n\u001b[1;32m----> <a href='vscode-notebook-cell:/c%3A/Users/Matte/Desktop/LUMSA/2/Social%20Network%20Analysis/project/code/Paris-Euler/metro/README.ipynb#ch0000057?line=0'>1</a>\u001b[0m metro\n",
      "\u001b[1;31mNameError\u001b[0m: name 'metro' is not defined"
     ]
    }
   ],
   "source": [
    "metro"
   ]
  },
  {
   "cell_type": "code",
   "execution_count": 5,
   "metadata": {
    "collapsed": false
   },
   "outputs": [
    {
     "ename": "ModuleNotFoundError",
     "evalue": "No module named 'make_multiplex'",
     "output_type": "error",
     "traceback": [
      "\u001b[1;31m---------------------------------------------------------------------------\u001b[0m",
      "\u001b[1;31mModuleNotFoundError\u001b[0m                       Traceback (most recent call last)",
      "\u001b[1;32mc:\\Users\\Matte\\Desktop\\LUMSA\\2\\Social Network Analysis\\project\\code\\Paris-Euler\\metro\\README.ipynb Cell 14'\u001b[0m in \u001b[0;36m<module>\u001b[1;34m\u001b[0m\n\u001b[1;32m----> <a href='vscode-notebook-cell:/c%3A/Users/Matte/Desktop/LUMSA/2/Social%20Network%20Analysis/project/code/Paris-Euler/metro/README.ipynb#ch0000012?line=0'>1</a>\u001b[0m \u001b[39mfrom\u001b[39;00m \u001b[39mmake_multiplex\u001b[39;00m \u001b[39mimport\u001b[39;00m \u001b[39m*\u001b[39m\n\u001b[0;32m      <a href='vscode-notebook-cell:/c%3A/Users/Matte/Desktop/LUMSA/2/Social%20Network%20Analysis/project/code/Paris-Euler/metro/README.ipynb#ch0000012?line=1'>2</a>\u001b[0m metro \u001b[39m=\u001b[39m read_metro(\u001b[39m'\u001b[39m\u001b[39m1_data/metro\u001b[39m\u001b[39m'\u001b[39m, \u001b[39m'\u001b[39m\u001b[39mmetro\u001b[39m\u001b[39m'\u001b[39m)\n\u001b[0;32m      <a href='vscode-notebook-cell:/c%3A/Users/Matte/Desktop/LUMSA/2/Social%20Network%20Analysis/project/code/Paris-Euler/metro/README.ipynb#ch0000012?line=2'>3</a>\u001b[0m metro \u001b[39m=\u001b[39m clean_metro(metro)\n",
      "\u001b[1;31mModuleNotFoundError\u001b[0m: No module named 'make_multiplex'"
     ]
    }
   ],
   "source": [
    "from make_multiplex import *\n",
    "metro = read_metro('1_data/metro', 'metro')\n",
    "metro = clean_metro(metro)\n",
    "type(metro)"
   ]
  },
  {
   "cell_type": "markdown",
   "metadata": {},
   "source": [
    "For its spatial methods, the `multiplex` class assumes that its networks have latitude given by a node attribute `lat` and longitude given by a node attribute `lon`. We can check that the metro has these properties by inspecting the nodes. `utility.nodes_2_df` creates a dataframe of node attributes for us to peak at:"
   ]
  },
  {
   "cell_type": "code",
   "execution_count": 5,
   "metadata": {
    "collapsed": false
   },
   "outputs": [
    {
     "data": {
      "text/html": [
       "<div>\n",
       "<table border=\"1\" class=\"dataframe\">\n",
       "  <thead>\n",
       "    <tr style=\"text-align: right;\">\n",
       "      <th></th>\n",
       "      <th>Station</th>\n",
       "      <th>lat</th>\n",
       "      <th>lon</th>\n",
       "    </tr>\n",
       "  </thead>\n",
       "  <tbody>\n",
       "    <tr>\n",
       "      <th>0</th>\n",
       "      <td>1-15</td>\n",
       "      <td>24.663750</td>\n",
       "      <td>46.704642</td>\n",
       "    </tr>\n",
       "    <tr>\n",
       "      <th>1</th>\n",
       "      <td>1-14</td>\n",
       "      <td>24.668950</td>\n",
       "      <td>46.698373</td>\n",
       "    </tr>\n",
       "    <tr>\n",
       "      <th>2</th>\n",
       "      <td>1-17</td>\n",
       "      <td>24.648102</td>\n",
       "      <td>46.709414</td>\n",
       "    </tr>\n",
       "    <tr>\n",
       "      <th>3</th>\n",
       "      <td>1-16</td>\n",
       "      <td>24.657330</td>\n",
       "      <td>46.706193</td>\n",
       "    </tr>\n",
       "    <tr>\n",
       "      <th>4</th>\n",
       "      <td>1-11</td>\n",
       "      <td>24.707022</td>\n",
       "      <td>46.678645</td>\n",
       "    </tr>\n",
       "  </tbody>\n",
       "</table>\n",
       "</div>"
      ],
      "text/plain": [
       "  Station        lat        lon\n",
       "0    1-15  24.663750  46.704642\n",
       "1    1-14  24.668950  46.698373\n",
       "2    1-17  24.648102  46.709414\n",
       "3    1-16  24.657330  46.706193\n",
       "4    1-11  24.707022  46.678645"
      ]
     },
     "execution_count": 5,
     "metadata": {},
     "output_type": "execute_result"
    }
   ],
   "source": [
    "from metro.utility import *\n",
    "nodes_2_df(metro, attrs = ['Station', 'lat', 'lon']).head() "
   ]
  },
  {
   "cell_type": "markdown",
   "metadata": {},
   "source": [
    "Ok, looks good. Let's go ahead and add the street and TAZ networks too. "
   ]
  },
  {
   "cell_type": "code",
   "execution_count": 6,
   "metadata": {
    "collapsed": false
   },
   "outputs": [
    {
     "name": "stdout",
     "output_type": "stream",
     "text": [
      "10728 nodes added to street network\n",
      "21524 edges added to street network.\n",
      "4243 nodes added to TAZ connector network\n"
     ]
    }
   ],
   "source": [
    "streets = read_streets('1_data/street', 'street')\n",
    "streets = clean_streets(streets)\n",
    "\n",
    "taz = read_taz('1_data/taz', 'taz')\n",
    "taz = clean_taz(taz)"
   ]
  },
  {
   "cell_type": "markdown",
   "metadata": {},
   "source": [
    "The `clean_streets()` and `clean_taz` functions ensure that these networks have `lat` and `lon` attributes, as well as a few others that we use in the analysis. "
   ]
  },
  {
   "cell_type": "markdown",
   "metadata": {},
   "source": [
    "Great, we're ready to add layers. The easiest way to add layers is to create a `dict` layer names and their associated networks, and then use the `m.add_layers()` function. "
   ]
  },
  {
   "cell_type": "code",
   "execution_count": 7,
   "metadata": {
    "collapsed": false
   },
   "outputs": [
    {
     "name": "stdout",
     "output_type": "stream",
     "text": [
      "OD: none \n",
      "\n",
      "layer           \tnodes \tedges\n",
      "----------------------------------------\n",
      "streets          \t10728 \t21508\n",
      "metro            \t117 \t250\n",
      "taz              \t4243 \t0\n"
     ]
    }
   ],
   "source": [
    "layer_dict = {'metro'   : metro,\n",
    "              'streets' : streets,\n",
    "              'taz'     : taz }\n",
    "m.add_layers(layer_dict)\n",
    "m.summary()"
   ]
  },
  {
   "cell_type": "markdown",
   "metadata": {},
   "source": [
    "Now we're talking! We have three layers with the names we've given them, and the node and edge counts are shown. We can query the multiplex using nodes_2_df or edges_2_df. These functions also allow us to specify a layer:"
   ]
  },
  {
   "cell_type": "code",
   "execution_count": 8,
   "metadata": {
    "collapsed": false
   },
   "outputs": [
    {
     "data": {
      "text/html": [
       "<div>\n",
       "<table border=\"1\" class=\"dataframe\">\n",
       "  <thead>\n",
       "    <tr style=\"text-align: right;\">\n",
       "      <th></th>\n",
       "      <th>id</th>\n",
       "      <th>lat</th>\n",
       "      <th>layer</th>\n",
       "      <th>lon</th>\n",
       "    </tr>\n",
       "  </thead>\n",
       "  <tbody>\n",
       "    <tr>\n",
       "      <th>0</th>\n",
       "      <td>5499</td>\n",
       "      <td>24.785614</td>\n",
       "      <td>streets</td>\n",
       "      <td>46.831065</td>\n",
       "    </tr>\n",
       "    <tr>\n",
       "      <th>1</th>\n",
       "      <td>6901</td>\n",
       "      <td>24.786627</td>\n",
       "      <td>streets</td>\n",
       "      <td>46.795844</td>\n",
       "    </tr>\n",
       "    <tr>\n",
       "      <th>2</th>\n",
       "      <td>6902</td>\n",
       "      <td>24.750756</td>\n",
       "      <td>streets</td>\n",
       "      <td>46.681397</td>\n",
       "    </tr>\n",
       "    <tr>\n",
       "      <th>3</th>\n",
       "      <td>246</td>\n",
       "      <td>24.598586</td>\n",
       "      <td>streets</td>\n",
       "      <td>46.823456</td>\n",
       "    </tr>\n",
       "    <tr>\n",
       "      <th>4</th>\n",
       "      <td>5614</td>\n",
       "      <td>24.708366</td>\n",
       "      <td>streets</td>\n",
       "      <td>46.623886</td>\n",
       "    </tr>\n",
       "  </tbody>\n",
       "</table>\n",
       "</div>"
      ],
      "text/plain": [
       "     id        lat    layer        lon\n",
       "0  5499  24.785614  streets  46.831065\n",
       "1  6901  24.786627  streets  46.795844\n",
       "2  6902  24.750756  streets  46.681397\n",
       "3   246  24.598586  streets  46.823456\n",
       "4  5614  24.708366  streets  46.623886"
      ]
     },
     "execution_count": 8,
     "metadata": {},
     "output_type": "execute_result"
    }
   ],
   "source": [
    "m.nodes_2_df(layers = ['streets'], attrs = ['id', 'lat', 'lon'] ).head()"
   ]
  },
  {
   "cell_type": "code",
   "execution_count": 9,
   "metadata": {
    "collapsed": false
   },
   "outputs": [
    {
     "data": {
      "text/html": [
       "<div>\n",
       "<table border=\"1\" class=\"dataframe\">\n",
       "  <thead>\n",
       "    <tr style=\"text-align: right;\">\n",
       "      <th></th>\n",
       "      <th>dist_km</th>\n",
       "      <th>layer</th>\n",
       "    </tr>\n",
       "  </thead>\n",
       "  <tbody>\n",
       "    <tr>\n",
       "      <th>0</th>\n",
       "      <td>3.267371</td>\n",
       "      <td>metro</td>\n",
       "    </tr>\n",
       "    <tr>\n",
       "      <th>1</th>\n",
       "      <td>3.889913</td>\n",
       "      <td>metro</td>\n",
       "    </tr>\n",
       "    <tr>\n",
       "      <th>2</th>\n",
       "      <td>1.436735</td>\n",
       "      <td>metro</td>\n",
       "    </tr>\n",
       "    <tr>\n",
       "      <th>3</th>\n",
       "      <td>1.155173</td>\n",
       "      <td>metro</td>\n",
       "    </tr>\n",
       "    <tr>\n",
       "      <th>4</th>\n",
       "      <td>1.710259</td>\n",
       "      <td>metro</td>\n",
       "    </tr>\n",
       "  </tbody>\n",
       "</table>\n",
       "</div>"
      ],
      "text/plain": [
       "    dist_km  layer\n",
       "0  3.267371  metro\n",
       "1  3.889913  metro\n",
       "2  1.436735  metro\n",
       "3  1.155173  metro\n",
       "4  1.710259  metro"
      ]
     },
     "execution_count": 9,
     "metadata": {},
     "output_type": "execute_result"
    }
   ],
   "source": [
    "m.edges_2_df(layers = ['metro'], attrs = ['dist_km'] ).head()"
   ]
  },
  {
   "cell_type": "markdown",
   "metadata": {},
   "source": [
    "If we ever need to access the underlying networkx.DiGraph() object, we can do this: "
   ]
  },
  {
   "cell_type": "code",
   "execution_count": 10,
   "metadata": {
    "collapsed": false
   },
   "outputs": [
    {
     "data": {
      "text/plain": [
       "15088"
      ]
     },
     "execution_count": 10,
     "metadata": {},
     "output_type": "execute_result"
    }
   ],
   "source": [
    "N = m.layers_as_subgraph(m.get_layers())\n",
    "len(N.node)"
   ]
  },
  {
   "cell_type": "markdown",
   "metadata": {},
   "source": [
    "# Connecting the multiplex"
   ]
  },
  {
   "cell_type": "markdown",
   "metadata": {},
   "source": [
    "Ok, let's connect the layers. Currently, the only way to do this supplied by the multiplex class is a spatial join, which connects nodes of one layer to the nearest node of another layer. For example, the following code is what we use to connect the metro to the streets: "
   ]
  },
  {
   "cell_type": "code",
   "execution_count": 11,
   "metadata": {
    "collapsed": false
   },
   "outputs": [
    {
     "name": "stdout",
     "output_type": "stream",
     "text": [
      "Added 117 bidirectional transfers between metro and streets.\n"
     ]
    }
   ],
   "source": [
    "m.spatial_join(layer1 = 'metro', # connect every node of metro\n",
    "               layer2 = 'streets', # to the nearest node of streets\n",
    "               transfer_speed = 1e10, # how fast the connection is traversed -- this is essentially 'free'\n",
    "               base_cost = 0, # fixed waiting cost, e.g. average of 5 minutes for the train to come\n",
    "               capacity = 1e10, # capacity of the connecting edge\n",
    "               both = True) # bidirectional transfer"
   ]
  },
  {
   "cell_type": "markdown",
   "metadata": {},
   "source": [
    "If we now check summary, we'll see a new layer corresponding to the transfers: "
   ]
  },
  {
   "cell_type": "code",
   "execution_count": 12,
   "metadata": {
    "collapsed": false
   },
   "outputs": [
    {
     "name": "stdout",
     "output_type": "stream",
     "text": [
      "OD: none \n",
      "\n",
      "layer           \tnodes \tedges\n",
      "----------------------------------------\n",
      "metro--streets   \t0 \t234\n",
      "streets          \t10728 \t21508\n",
      "metro            \t117 \t250\n",
      "taz              \t4243 \t0\n"
     ]
    }
   ],
   "source": [
    "m.summary()"
   ]
  },
  {
   "cell_type": "markdown",
   "metadata": {},
   "source": [
    "Let's now add the TAZ connectors. Note that this code will take significantly longer to run, since the underlying code of `m.spatial_join()` is pretty primitive. "
   ]
  },
  {
   "cell_type": "code",
   "execution_count": 13,
   "metadata": {
    "collapsed": false
   },
   "outputs": [
    {
     "name": "stdout",
     "output_type": "stream",
     "text": [
      "Added 4243 bidirectional transfers between taz and streets.\n",
      "OD: none \n",
      "\n",
      "layer           \tnodes \tedges\n",
      "----------------------------------------\n",
      "metro--streets   \t0 \t234\n",
      "streets          \t10728 \t21508\n",
      "metro            \t117 \t250\n",
      "taz              \t4243 \t0\n",
      "taz--streets     \t0 \t8486\n"
     ]
    }
   ],
   "source": [
    "m.spatial_join(layer1 = 'taz', \n",
    "               layer2 = 'streets', \n",
    "               transfer_speed = 1e10, \n",
    "               base_cost = 0, \n",
    "               capacity = 1e10, \n",
    "               both = True, )\n",
    "\n",
    "m.summary()"
   ]
  },
  {
   "cell_type": "markdown",
   "metadata": {},
   "source": [
    "This is all the assembly that we put into the multiplex for the Riyadh metro project. If you want to save your work, you can save the multiplex using the `m.to_txt()` function. The below code will save `m` in the `2_multiplex` folder as two files: `multiplex_example_nodes.txt` and `multiplex_example_edges.txt`.  "
   ]
  },
  {
   "cell_type": "code",
   "execution_count": 14,
   "metadata": {
    "collapsed": false
   },
   "outputs": [],
   "source": [
    "m.to_txt('2_multiplex', 'multiplex_example')"
   ]
  },
  {
   "cell_type": "markdown",
   "metadata": {},
   "source": [
    "When we want to use the multiplex again in further analysis, we can read it in like this: "
   ]
  },
  {
   "cell_type": "code",
   "execution_count": 15,
   "metadata": {
    "collapsed": false
   },
   "outputs": [
    {
     "name": "stdout",
     "output_type": "stream",
     "text": [
      "OD: none \n",
      "\n",
      "layer           \tnodes \tedges\n",
      "----------------------------------------\n",
      "metro--streets   \t0 \t234\n",
      "taz              \t4243 \t0\n",
      "streets          \t10728 \t21508\n",
      "taz--streets     \t0 \t8486\n",
      "metro            \t117 \t250\n"
     ]
    }
   ],
   "source": [
    "m2 = mx.multiplex_from_txt(nodes_file_name = '2_multiplex/multiplex_example_nodes.txt',\n",
    "                        edges_file_name = '2_multiplex/multiplex_example_edges.txt',\n",
    "                        sep = '\\t', \n",
    "                        nid = 'id', \n",
    "                        eidfrom = 'source', \n",
    "                        eidto = 'target')\n",
    "m2.summary()        "
   ]
  },
  {
   "cell_type": "markdown",
   "metadata": {},
   "source": [
    "# ODs and ITA\n",
    "\n",
    "Ok, we've got the network structure all set up. Now, let's load in an OD matrix and run ITA. The OD file should be a .txt or .csv file with three columns: `o`, `d`, and `flow`. Additionally, `o` and `d` should match an attribute of one layer of nodes in `m`. In this case, `o` and `d` match the `taz` attribute of the `taz` layer. "
   ]
  },
  {
   "cell_type": "code",
   "execution_count": 16,
   "metadata": {
    "collapsed": false
   },
   "outputs": [
    {
     "data": {
      "text/html": [
       "<div>\n",
       "<table border=\"1\" class=\"dataframe\">\n",
       "  <thead>\n",
       "    <tr style=\"text-align: right;\">\n",
       "      <th></th>\n",
       "      <th>layer</th>\n",
       "      <th>taz</th>\n",
       "    </tr>\n",
       "  </thead>\n",
       "  <tbody>\n",
       "    <tr>\n",
       "      <th>0</th>\n",
       "      <td>taz</td>\n",
       "      <td>152</td>\n",
       "    </tr>\n",
       "    <tr>\n",
       "      <th>1</th>\n",
       "      <td>taz</td>\n",
       "      <td>152</td>\n",
       "    </tr>\n",
       "    <tr>\n",
       "      <th>2</th>\n",
       "      <td>taz</td>\n",
       "      <td>908</td>\n",
       "    </tr>\n",
       "    <tr>\n",
       "      <th>3</th>\n",
       "      <td>taz</td>\n",
       "      <td>908</td>\n",
       "    </tr>\n",
       "    <tr>\n",
       "      <th>4</th>\n",
       "      <td>taz</td>\n",
       "      <td>643</td>\n",
       "    </tr>\n",
       "  </tbody>\n",
       "</table>\n",
       "</div>"
      ],
      "text/plain": [
       "  layer  taz\n",
       "0   taz  152\n",
       "1   taz  152\n",
       "2   taz  908\n",
       "3   taz  908\n",
       "4   taz  643"
      ]
     },
     "execution_count": 16,
     "metadata": {},
     "output_type": "execute_result"
    }
   ],
   "source": [
    "m.nodes_2_df(layers = ['taz'], attrs = ['taz']).head()"
   ]
  },
  {
   "cell_type": "markdown",
   "metadata": {},
   "source": [
    "We read in the file using the `m.read_od()` function: "
   ]
  },
  {
   "cell_type": "code",
   "execution_count": 17,
   "metadata": {
    "collapsed": true
   },
   "outputs": [],
   "source": [
    "m.read_od(layer = 'taz', # keys are in this layer\n",
    "          key = 'taz', # this is the key attribute\n",
    "          od_file = '1_data/taz_od/0_1.txt', # here's where the file lives\n",
    "          sep = ' ') # this is what separates entries"
   ]
  },
  {
   "cell_type": "markdown",
   "metadata": {},
   "source": [
    "This command will likely take at least 2-3 minutes to run. Internally, Python is constructing a dict of dicts in the format \n",
    "\n",
    "    {o : {d : flow}}\n",
    "\n",
    "This means that the flow between an origin `o` and a destination `d` can be rapidly retrieved using the syntax `od[o][d]`. The drawback is that constructing this dictionary requires quite a bit of memory, which is why it takes a while to read the OD. \n",
    "\n",
    "If we check out or multiplex, we'll see that the OD is loaded: "
   ]
  },
  {
   "cell_type": "code",
   "execution_count": 18,
   "metadata": {
    "collapsed": false
   },
   "outputs": [
    {
     "name": "stdout",
     "output_type": "stream",
     "text": [
      "OD: loaded\n",
      "\n",
      "layer           \tnodes \tedges\n",
      "----------------------------------------\n",
      "metro--streets   \t0 \t234\n",
      "streets          \t10728 \t21508\n",
      "metro            \t117 \t250\n",
      "taz              \t4243 \t0\n",
      "taz--streets     \t0 \t8486\n"
     ]
    }
   ],
   "source": [
    "m.summary()"
   ]
  },
  {
   "cell_type": "markdown",
   "metadata": {},
   "source": [
    "As we'd expect, the multiplex has keys in the `taz` layer: "
   ]
  },
  {
   "cell_type": "code",
   "execution_count": 19,
   "metadata": {
    "collapsed": false
   },
   "outputs": [
    {
     "data": {
      "text/plain": [
       "['taz_10907', 'taz_10906', 'taz_10909', 'taz_10908', 'taz_903']"
      ]
     },
     "execution_count": 19,
     "metadata": {},
     "output_type": "execute_result"
    }
   ],
   "source": [
    "m.od.keys()[:5]"
   ]
  },
  {
   "cell_type": "markdown",
   "metadata": {},
   "source": [
    "We can also check out the values: the code below shows the flows from the first entry of `od` to each of its destinations. "
   ]
  },
  {
   "cell_type": "code",
   "execution_count": 20,
   "metadata": {
    "collapsed": false
   },
   "outputs": [
    {
     "data": {
      "text/plain": [
       "{'taz_10907': 59.32,\n",
       " 'taz_10906': 59.32,\n",
       " 'taz_10909': 0.075555555555555556,\n",
       " 'taz_10908': 0.075555555555555556,\n",
       " 'taz_903': 0.023333333333333331,\n",
       " 'taz_9767': 0.13666666666666666,\n",
       " 'taz_4979': 1.4355555555555555,\n",
       " 'taz_4973': 63.355833333333329,\n",
       " 'taz_2629': 2.5500000000000003,\n",
       " 'taz_10145': 0.024444444444444446,\n",
       " 'taz_4545': 0.56083333333333341,\n",
       " 'taz_2804': 0.030000000000000002,\n",
       " 'taz_12983': 0.38666666666666666,\n",
       " 'taz_12982': 0.38666666666666666,\n",
       " 'taz_12987': 0.11222222222222222,\n",
       " 'taz_12986': 0.11222222222222222,\n",
       " 'taz_12984': 0.11222222222222222,\n",
       " 'taz_10141': 1.1277777777777778,\n",
       " 'taz_12989': 0.20666666666666667,\n",
       " 'taz_12988': 0.20666666666666667,\n",
       " 'taz_9935': 0.23888888888888887,\n",
       " 'taz_4544': 0.56083333333333341,\n",
       " 'taz_14353': 4.177777777777778,\n",
       " 'taz_10588': 0.41666666666666669,\n",
       " 'taz_5233': 1.0688888888888888,\n",
       " 'taz_1593': 0.037777777777777778,\n",
       " 'taz_1592': 0.037777777777777778,\n",
       " 'taz_1595': 5.0241666666666669,\n",
       " 'taz_1597': 5.0241666666666669,\n",
       " 'taz_1596': 2.5449999999999999,\n",
       " 'taz_1599': 2.0433333333333334,\n",
       " 'taz_1598': 5.0241666666666669,\n",
       " 'taz_1918': 0.014444444444444446,\n",
       " 'taz_1915': 0.031111111111111114,\n",
       " 'taz_1914': 0.031111111111111114,\n",
       " 'taz_1917': 0.014444444444444446,\n",
       " 'taz_8511': 0.015555555555555557,\n",
       " 'taz_4546': 0.56083333333333341,\n",
       " 'taz_10299': 0.13777777777777778,\n",
       " 'taz_10298': 0.13777777777777778,\n",
       " 'taz_5580': 0.040000000000000001,\n",
       " 'taz_8146': 0.10111111111111111,\n",
       " 'taz_10295': 0.022500000000000003,\n",
       " 'taz_10294': 0.022500000000000003,\n",
       " 'taz_10297': 0.13777777777777778,\n",
       " 'taz_10296': 0.022500000000000003,\n",
       " 'taz_1829': 0.28999999999999998,\n",
       " 'taz_1828': 1.098888888888889,\n",
       " 'taz_1823': 0.040000000000000001,\n",
       " 'taz_1822': 0.33777777777777779,\n",
       " 'taz_1825': 1.0688888888888888,\n",
       " 'taz_1824': 1.0688888888888888,\n",
       " 'taz_1827': 0.28999999999999998,\n",
       " 'taz_1826': 0.032222222222222222,\n",
       " 'taz_7270': 0.28666666666666668,\n",
       " 'taz_4874': 0.02,\n",
       " 'taz_10129': 9.5,\n",
       " 'taz_10127': 1.01,\n",
       " 'taz_4746': 0.4933333333333334,\n",
       " 'taz_10125': 0.066666666666666666,\n",
       " 'taz_10124': 0.57333333333333336,\n",
       " 'taz_10123': 0.57333333333333336,\n",
       " 'taz_5692': 0.5066666666666666,\n",
       " 'taz_5690': 2.0983333333333332,\n",
       " 'taz_5691': 0.5066666666666666,\n",
       " 'taz_7707': 0.6216666666666667,\n",
       " 'taz_6455': 1.2422222222222221,\n",
       " 'taz_4561': 0.14444444444444446,\n",
       " 'taz_11454': 0.26666666666666666,\n",
       " 'taz_11456': 0.19444444444444445,\n",
       " 'taz_7183': 0.080000000000000002,\n",
       " 'taz_12648': 0.33333333333333331,\n",
       " 'taz_11842': 0.057777777777777782,\n",
       " 'taz_6536': 0.19777777777777777,\n",
       " 'taz_7708': 2.2377777777777776,\n",
       " 'taz_7709': 2.2377777777777776,\n",
       " 'taz_6534': 0.19777777777777777,\n",
       " 'taz_3505': 0.39444444444444443,\n",
       " 'taz_9100': 0.21111111111111111,\n",
       " 'taz_5512': 3.5844444444444443,\n",
       " 'taz_11238': 0.33916666666666667,\n",
       " 'taz_11239': 0.052499999999999998,\n",
       " 'taz_5500': 0.38500000000000001,\n",
       " 'taz_11235': 0.33916666666666667,\n",
       " 'taz_11236': 0.33916666666666667,\n",
       " 'taz_11237': 0.33916666666666667,\n",
       " 'taz_14069': 0.16,\n",
       " 'taz_14593': 0.030000000000000002,\n",
       " 'taz_14596': 0.075555555555555556,\n",
       " 'taz_14594': 0.030000000000000002,\n",
       " 'taz_14595': 0.030000000000000002,\n",
       " 'taz_12431': 0.11166666666666668,\n",
       " 'taz_12437': 0.52777777777777779,\n",
       " 'taz_12436': 0.34777777777777774,\n",
       " 'taz_13740': 0.11333333333333334,\n",
       " 'taz_12349': 2.0333333333333332,\n",
       " 'taz_12348': 2.0333333333333332,\n",
       " 'taz_12345': 0.46500000000000002,\n",
       " 'taz_12344': 0.20166666666666666,\n",
       " 'taz_210': 0.11,\n",
       " 'taz_216': 1.6633333333333333,\n",
       " 'taz_217': 5.5788888888888888,\n",
       " 'taz_12342': 0.46500000000000002,\n",
       " 'taz_11523': 0.23111111111111113,\n",
       " 'taz_5902': 0.4466666666666666,\n",
       " 'taz_9675': 0.72833333333333339,\n",
       " 'taz_9676': 0.72833333333333339,\n",
       " 'taz_4614': 0.048888888888888891,\n",
       " 'taz_889': 0.38999999999999996,\n",
       " 'taz_6831': 0.27222222222222225,\n",
       " 'taz_9830': 3.391111111111111,\n",
       " 'taz_102': 0.29555555555555557,\n",
       " 'taz_100': 0.0033333333333333331,\n",
       " 'taz_101': 0.0033333333333333331,\n",
       " 'taz_12765': 0.19666666666666666,\n",
       " 'taz_12764': 0.22166666666666668,\n",
       " 'taz_12763': 0.22166666666666668,\n",
       " 'taz_12299': 0.49888888888888894,\n",
       " 'taz_919': 0.0011111111111111111,\n",
       " 'taz_9892': 1.1000000000000001,\n",
       " 'taz_13581': 0.86777777777777776,\n",
       " 'taz_13582': 0.66666666666666663,\n",
       " 'taz_4558': 0.14444444444444446,\n",
       " 'taz_360': 0.43888888888888888,\n",
       " 'taz_7993': 0.070000000000000007,\n",
       " 'taz_7990': 0.34777777777777774,\n",
       " 'taz_561': 0.032222222222222222,\n",
       " 'taz_9253': 0.72000000000000008,\n",
       " 'taz_9250': 0.44555555555555554,\n",
       " 'taz_4559': 0.14444444444444446,\n",
       " 'taz_9254': 0.72000000000000008,\n",
       " 'taz_7510': 0.078888888888888883,\n",
       " 'taz_2039': 0.28888888888888892,\n",
       " 'taz_2038': 0.28888888888888892,\n",
       " 'taz_6377': 0.090000000000000011,\n",
       " 'taz_9097': 0.64777777777777779,\n",
       " 'taz_8789': 0.85888888888888892,\n",
       " 'taz_8788': 0.20333333333333334,\n",
       " 'taz_8786': 0.85888888888888892,\n",
       " 'taz_7868': 0.31888888888888889,\n",
       " 'taz_10912': 0.030000000000000002,\n",
       " 'taz_10913': 59.32,\n",
       " 'taz_10911': 0.075555555555555556,\n",
       " 'taz_10260': 1.8016666666666667,\n",
       " 'taz_10261': 0.5,\n",
       " 'taz_10914': 0.030000000000000002,\n",
       " 'taz_10915': 0.030000000000000002,\n",
       " 'taz_10919': 0.19666666666666666,\n",
       " 'taz_1696': 0.54166666666666663,\n",
       " 'taz_1697': 0.12222222222222223,\n",
       " 'taz_8035': 0.26000000000000001,\n",
       " 'taz_1698': 0.43888888888888888,\n",
       " 'taz_1699': 0.43888888888888888,\n",
       " 'taz_8235': 1.8233333333333333,\n",
       " 'taz_8037': 0.81888888888888889,\n",
       " 'taz_2631': 2.4933333333333336,\n",
       " 'taz_2630': 1.0566666666666666,\n",
       " 'taz_2635': 0.063333333333333325,\n",
       " 'taz_2634': 0.051111111111111114,\n",
       " 'taz_2637': 0.063333333333333325,\n",
       " 'taz_2636': 0.063333333333333325,\n",
       " 'taz_9159': 0.028888888888888891,\n",
       " 'taz_2325': 1.8155555555555556,\n",
       " 'taz_2324': 1.8155555555555556,\n",
       " 'taz_10864': 0.54666666666666663,\n",
       " 'taz_2815': 0.030000000000000002,\n",
       " 'taz_2814': 0.030000000000000002,\n",
       " 'taz_1616': 1.171111111111111,\n",
       " 'taz_9291': 0.6711111111111111,\n",
       " 'taz_1617': 0.90416666666666667,\n",
       " 'taz_1614': 0.14666666666666667,\n",
       " 'taz_1615': 1.171111111111111,\n",
       " 'taz_522': 0.40333333333333332,\n",
       " 'taz_3929': 0.18777777777777777,\n",
       " 'taz_13682': 0.083333333333333329,\n",
       " 'taz_3': 0.29222222222222222,\n",
       " 'taz_8039': 0.2233333333333333,\n",
       " 'taz_6118': 3.3833333333333333,\n",
       " 'taz_6370': 0.17444444444444446,\n",
       " 'taz_9290': 0.6711111111111111,\n",
       " 'taz_7414': 0.2466666666666667,\n",
       " 'taz_10048': 0.23888888888888887,\n",
       " 'taz_2241': 1.8233333333333333,\n",
       " 'taz_10734': 0.021111111111111112,\n",
       " 'taz_1078': 0.58999999999999997,\n",
       " 'taz_1072': 0.16666666666666666,\n",
       " 'taz_1073': 0.16666666666666666,\n",
       " 'taz_1070': 0.25111111111111106,\n",
       " 'taz_1071': 0.16666666666666666,\n",
       " 'taz_1076': 0.25111111111111106,\n",
       " 'taz_1077': 0.25111111111111106,\n",
       " 'taz_1859': 0.099999999999999992,\n",
       " 'taz_1670': 0.25888888888888889,\n",
       " 'taz_1671': 0.25888888888888889,\n",
       " 'taz_1674': 0.054444444444444441,\n",
       " 'taz_1675': 0.21111111111111111,\n",
       " 'taz_7269': 0.28666666666666668,\n",
       " 'taz_14745': 0.63249999999999995,\n",
       " 'taz_14743': 0.028888888888888891,\n",
       " 'taz_14742': 0.028888888888888891,\n",
       " 'taz_14741': 0.028888888888888891,\n",
       " 'taz_7263': 0.20444444444444446,\n",
       " 'taz_7264': 0.20444444444444446,\n",
       " 'taz_10130': 9.5,\n",
       " 'taz_10132': 0.080000000000000002,\n",
       " 'taz_10133': 0.080000000000000002,\n",
       " 'taz_10134': 0.080000000000000002,\n",
       " 'taz_10136': 0.34916666666666668,\n",
       " 'taz_10137': 0.34916666666666668,\n",
       " 'taz_10138': 0.34916666666666668,\n",
       " 'taz_5687': 0.08666666666666667,\n",
       " 'taz_5175': 0.097777777777777783,\n",
       " 'taz_4173': 18.195,\n",
       " 'taz_3784': 1.9722222222222223,\n",
       " 'taz_9590': 0.041111111111111112,\n",
       " 'taz_13466': 0.02,\n",
       " 'taz_4677': 1.01,\n",
       " 'taz_3517': 0.34777777777777774,\n",
       " 'taz_3516': 0.34777777777777774,\n",
       " 'taz_3515': 0.027777777777777776,\n",
       " 'taz_3514': 0.027777777777777776,\n",
       " 'taz_3513': 0.027777777777777776,\n",
       " 'taz_3512': 0.1488888888888889,\n",
       " 'taz_8678': 2.8483333333333332,\n",
       " 'taz_3468': 0.20444444444444446,\n",
       " 'taz_4318': 0.19888888888888889,\n",
       " 'taz_4319': 0.098888888888888887,\n",
       " 'taz_4676': 0.29222222222222222,\n",
       " 'taz_14631': 0.64000000000000001,\n",
       " 'taz_11080': 0.19888888888888889,\n",
       " 'taz_4675': 0.29222222222222222,\n",
       " 'taz_6670': 0.32111111111111112,\n",
       " 'taz_4239': 0.10666666666666666,\n",
       " 'taz_12424': 0.22555555555555554,\n",
       " 'taz_12425': 0.22555555555555554,\n",
       " 'taz_12426': 0.2122222222222222,\n",
       " 'taz_12427': 0.2122222222222222,\n",
       " 'taz_12421': 0.027777777777777776,\n",
       " 'taz_12423': 0.22555555555555554,\n",
       " 'taz_4220': 1.4355555555555555,\n",
       " 'taz_3232': 1.0122222222222221,\n",
       " 'taz_4222': 0.90333333333333343,\n",
       " 'taz_4223': 0.04777777777777778,\n",
       " 'taz_12428': 0.2122222222222222,\n",
       " 'taz_4226': 0.04777777777777778,\n",
       " 'taz_3233': 0.37333333333333335,\n",
       " 'taz_779': 0.33555555555555555,\n",
       " 'taz_778': 0.33555555555555555,\n",
       " 'taz_12608': 1.5800000000000001,\n",
       " 'taz_6673': 0.45777777777777778,\n",
       " 'taz_12604': 0.10111111111111111,\n",
       " 'taz_12607': 1.5800000000000001,\n",
       " 'taz_12601': 1.5800000000000001,\n",
       " 'taz_12602': 0.10111111111111111,\n",
       " 'taz_12603': 0.10111111111111111,\n",
       " 'taz_9292': 0.17444444444444446,\n",
       " 'taz_9674': 1.4122222222222223,\n",
       " 'taz_4230': 0.27111111111111108,\n",
       " 'taz_6484': 0.02,\n",
       " 'taz_450': 13.057499999999999,\n",
       " 'taz_4234': 0.38500000000000001,\n",
       " 'taz_6811': 0.054444444444444441,\n",
       " 'taz_12774': 0.52000000000000002,\n",
       " 'taz_12775': 0.52000000000000002,\n",
       " 'taz_12776': 0.20666666666666667,\n",
       " 'taz_12777': 0.024999999999999998,\n",
       " 'taz_12778': 0.065833333333333341,\n",
       " 'taz_12779': 0.065833333333333341,\n",
       " 'taz_6376': 0.14999999999999999,\n",
       " 'taz_9409': 0.091666666666666674,\n",
       " 'taz_6155': 0.39333333333333331,\n",
       " 'taz_12283': 0.0088888888888888889,\n",
       " 'taz_9105': 0.2122222222222222,\n",
       " 'taz_4477': 1.0044444444444443,\n",
       " 'taz_6159': 0.20666666666666667,\n",
       " 'taz_8686': 0.02,\n",
       " 'taz_9888': 1.1000000000000001,\n",
       " 'taz_13391': 0.29333333333333333,\n",
       " 'taz_13393': 0.15166666666666667,\n",
       " 'taz_13392': 0.1075,\n",
       " 'taz_13395': 0.33888888888888885,\n",
       " 'taz_1984': 1.1233333333333333,\n",
       " 'taz_13397': 0.33888888888888885,\n",
       " 'taz_13399': 1.1599999999999999,\n",
       " 'taz_13398': 0.33888888888888885,\n",
       " 'taz_1985': 1.1233333333333333,\n",
       " 'taz_4881': 0.4244444444444444,\n",
       " 'taz_550': 0.47111111111111115,\n",
       " 'taz_9248': 0.44555555555555554,\n",
       " 'taz_13557': 0.66666666666666663,\n",
       " 'taz_13555': 0.63249999999999995,\n",
       " 'taz_13554': 0.63249999999999995,\n",
       " 'taz_13553': 0.16111111111111109,\n",
       " 'taz_1988': 1.1233333333333333,\n",
       " 'taz_9243': 1.4355555555555555,\n",
       " 'taz_2004': 0.071111111111111111,\n",
       " 'taz_1989': 0.1822222222222222,\n",
       " 'taz_2003': 0.071111111111111111,\n",
       " 'taz_2000': 0.12555555555555553,\n",
       " 'taz_2008': 0.087777777777777788,\n",
       " 'taz_2009': 0.087777777777777788,\n",
       " 'taz_483': 0.33222222222222225,\n",
       " 'taz_482': 0.33222222222222225,\n",
       " 'taz_480': 0.33222222222222225,\n",
       " 'taz_10927': 0.81111111111111112,\n",
       " 'taz_10926': 1.2811111111111111,\n",
       " 'taz_10925': 1.2811111111111111,\n",
       " 'taz_10923': 0.74111111111111105,\n",
       " 'taz_10922': 0.74111111111111105,\n",
       " 'taz_10921': 0.74111111111111105,\n",
       " 'taz_10920': 1.2811111111111111,\n",
       " 'taz_5801': 1.6444444444444446,\n",
       " 'taz_10929': 0.23444444444444443,\n",
       " 'taz_10928': 0.81111111111111112,\n",
       " 'taz_1685': 0.21111111111111111,\n",
       " 'taz_1684': 0.21111111111111111,\n",
       " 'taz_1681': 0.72222222222222221,\n",
       " 'taz_8587': 0.026666666666666665,\n",
       " 'taz_1683': 0.72222222222222221,\n",
       " 'taz_1682': 0.72222222222222221,\n",
       " 'taz_6369': 0.17444444444444446,\n",
       " 'taz_1117': 0.16222222222222221,\n",
       " 'taz_2649': 3.855,\n",
       " 'taz_2482': 0.13555555555555554,\n",
       " 'taz_2483': 0.13555555555555554,\n",
       " 'taz_2481': 0.13555555555555554,\n",
       " 'taz_2484': 0.48000000000000004,\n",
       " 'taz_5293': 0.02,\n",
       " 'taz_8033': 0.81888888888888889,\n",
       " 'taz_8482': 0.045555555555555551,\n",
       " 'taz_6921': 0.027777777777777776,\n",
       " 'taz_6920': 1.0044444444444443,\n",
       " 'taz_2269': 0.073333333333333334,\n",
       " 'taz_2266': 0.073333333333333334,\n",
       " 'taz_2267': 0.073333333333333334,\n",
       " 'taz_2264': 1.1144444444444443,\n",
       " 'taz_2265': 1.1144444444444443,\n",
       " 'taz_4750': 1.171111111111111,\n",
       " 'taz_7143': 0.93000000000000005,\n",
       " 'taz_3867': 0.7533333333333333,\n",
       " 'taz_3866': 0.7533333333333333,\n",
       " 'taz_10705': 0.23111111111111113,\n",
       " 'taz_10704': 0.55166666666666664,\n",
       " 'taz_10702': 0.19444444444444445,\n",
       " 'taz_10701': 0.19444444444444445,\n",
       " 'taz_10700': 0.19444444444444445,\n",
       " 'taz_3864': 0.77000000000000002,\n",
       " 'taz_3863': 0.46333333333333332,\n",
       " 'taz_2913': 0.028888888888888891,\n",
       " 'taz_3862': 0.46333333333333332,\n",
       " 'taz_1668': 0.25888888888888889,\n",
       " 'taz_1849': 0.10111111111111111,\n",
       " 'taz_1848': 0.72888888888888881,\n",
       " 'taz_1841': 0.53500000000000003,\n",
       " 'taz_4096': 0.55777777777777771,\n",
       " 'taz_5548': 0.26583333333333331,\n",
       " 'taz_5546': 0.26583333333333331,\n",
       " 'taz_5544': 0.44249999999999995,\n",
       " 'taz_5545': 0.26583333333333331,\n",
       " 'taz_5542': 0.44249999999999995,\n",
       " 'taz_5543': 0.26583333333333331,\n",
       " 'taz_4099': 0.4244444444444444,\n",
       " 'taz_8010': 0.069999999999999993,\n",
       " 'taz_14354': 4.177777777777778,\n",
       " 'taz_14350': 2.6433333333333331,\n",
       " 'taz_14351': 0.11222222222222222,\n",
       " 'taz_14352': 4.177777777777778,\n",
       " 'taz_10142': 0.024444444444444446,\n",
       " 'taz_5143': 49.176666666666669,\n",
       " 'taz_4748': 0.4933333333333334,\n",
       " 'taz_3655': 0.071111111111111111,\n",
       " 'taz_4747': 0.4933333333333334,\n",
       " 'taz_5502': 1.8016666666666667,\n",
       " 'taz_4745': 1.0411111111111111,\n",
       " 'taz_8435': 0.44249999999999995,\n",
       " 'taz_4744': 1.0411111111111111,\n",
       " 'taz_9141': 0.011111111111111112,\n",
       " 'taz_4743': 1.0411111111111111,\n",
       " 'taz_8087': 0.24555555555555555,\n",
       " 'taz_8089': 0.10666666666666666,\n",
       " 'taz_8538': 0.60777777777777775,\n",
       " 'taz_4740': 0.68000000000000005,\n",
       " 'taz_940': 0.051111111111111114,\n",
       " 'taz_4249': 3.6358333333333337,\n",
       " 'taz_5049': 0.30111111111111111,\n",
       " 'taz_8534': 0.64777777777777779,\n",
       " 'taz_4302': 0.85888888888888892,\n",
       " 'taz_8535': 0.60777777777777775,\n",
       " 'taz_5789': 0.097777777777777783,\n",
       " 'taz_8536': 0.60777777777777775,\n",
       " 'taz_5518': 2.8641666666666663,\n",
       " 'taz_9726': 0.22,\n",
       " 'taz_4430': 0.10666666666666666,\n",
       " 'taz_8537': 0.05333333333333333,\n",
       " 'taz_9437': 2.1333333333333333,\n",
       " 'taz_11720': 0.44,\n",
       " 'taz_3782': 0.1711111111111111,\n",
       " 'taz_3783': 0.1711111111111111,\n",
       " 'taz_3781': 0.1711111111111111,\n",
       " 'taz_4678': 0.10888888888888888,\n",
       " 'taz_3236': 0.1388888888888889,\n",
       " 'taz_3237': 0.1388888888888889,\n",
       " 'taz_3234': 1.0122222222222221,\n",
       " 'taz_14138': 0.16333333333333333,\n",
       " 'taz_14139': 0.16333333333333333,\n",
       " 'taz_3230': 0.37333333333333335,\n",
       " 'taz_3231': 0.23111111111111113,\n",
       " 'taz_14134': 0.10444444444444444,\n",
       " 'taz_14137': 0.16333333333333333,\n",
       " 'taz_4237': 0.10666666666666666,\n",
       " 'taz_4235': 0.38500000000000001,\n",
       " 'taz_14133': 0.10444444444444444,\n",
       " 'taz_4850': 2.2333333333333334,\n",
       " 'taz_5503': 0.38500000000000001,\n",
       " 'taz_13451': 0.3666666666666667,\n",
       " 'taz_11895': 0.26000000000000001,\n",
       " 'taz_7149': 0.39166666666666666,\n",
       " 'taz_9008': 0.54000000000000004,\n",
       " 'taz_6496': 0.41666666666666669,\n",
       " 'taz_6499': 0.41666666666666669,\n",
       " 'taz_6498': 3.686666666666667,\n",
       " 'taz_3659': 0.13111111111111109,\n",
       " 'taz_3309': 18.195,\n",
       " 'taz_12568': 3.0522222222222219,\n",
       " 'taz_3302': 0.051666666666666666,\n",
       " 'taz_3301': 0.051666666666666666,\n",
       " 'taz_3654': 0.071111111111111111,\n",
       " 'taz_3307': 1.5783333333333334,\n",
       " 'taz_3656': 0.071111111111111111,\n",
       " 'taz_9438': 0.68888888888888888,\n",
       " 'taz_13168': 0.046666666666666669,\n",
       " 'taz_8438': 0.043333333333333335,\n",
       " 'taz_6147': 1.4591666666666667,\n",
       " 'taz_6146': 1.4591666666666667,\n",
       " 'taz_6145': 1.4591666666666667,\n",
       " 'taz_6144': 4.3688888888888888,\n",
       " 'taz_6143': 4.3688888888888888,\n",
       " 'taz_6142': 4.3688888888888888,\n",
       " 'taz_6148': 1.4591666666666667,\n",
       " 'taz_9728': 0.022500000000000003,\n",
       " 'taz_6667': 0.12555555555555553,\n",
       " 'taz_7807': 0.39333333333333331,\n",
       " 'taz_13382': 0.022222222222222223,\n",
       " 'taz_13383': 0.090000000000000011,\n",
       " 'taz_13387': 0.29333333333333333,\n",
       " 'taz_8321': 4.2824999999999998,\n",
       " 'taz_6662': 1.0433333333333332,\n",
       " 'taz_13388': 0.091666666666666674,\n",
       " 'taz_13389': 0.13,\n",
       " 'taz_8325': 0.56000000000000005,\n",
       " 'taz_8324': 0.56000000000000005,\n",
       " 'taz_8327': 0.56000000000000005,\n",
       " 'taz_2019': 1.4983333333333333,\n",
       " 'taz_13542': 0.16111111111111109,\n",
       " 'taz_12011': 11.315833333333332,\n",
       " 'taz_12010': 1.1850000000000001,\n",
       " 'taz_12013': 1.1366666666666667,\n",
       " 'taz_12012': 1.1366666666666667,\n",
       " 'taz_2014': 1.141111111111111,\n",
       " 'taz_2787': 0.024444444444444446,\n",
       " 'taz_6669': 0.12555555555555553,\n",
       " 'taz_4248': 3.6358333333333337,\n",
       " 'taz_1476': 0.18916666666666668,\n",
       " 'taz_1477': 0.044166666666666667,\n",
       " 'taz_1475': 0.044166666666666667,\n",
       " 'taz_1472': 0.044166666666666667,\n",
       " 'taz_2659': 0.32000000000000001,\n",
       " 'taz_2657': 0.027777777777777776,\n",
       " 'taz_2656': 0.027777777777777776,\n",
       " 'taz_888': 0.38999999999999996,\n",
       " 'taz_1478': 0.044166666666666667,\n",
       " 'taz_1479': 0.044444444444444446,\n",
       " 'taz_4242': 3.6358333333333337,\n",
       " 'taz_9889': 1.1000000000000001,\n",
       " 'taz_10849': 0.046666666666666662,\n",
       " 'taz_850': 0.17666666666666667,\n",
       " 'taz_4245': 0.75583333333333336,\n",
       " 'taz_4244': 0.75583333333333336,\n",
       " 'taz_1784': 0.063333333333333325,\n",
       " 'taz_1785': 0.19555555555555557,\n",
       " 'taz_1781': 0.19555555555555557,\n",
       " 'taz_1782': 0.049999999999999996,\n",
       " 'taz_1783': 0.049999999999999996,\n",
       " 'taz_1278': 2.8641666666666663,\n",
       " 'taz_1274': 0.12583333333333332,\n",
       " 'taz_1275': 0.12583333333333332,\n",
       " 'taz_1276': 0.12583333333333332,\n",
       " 'taz_1277': 0.12583333333333332,\n",
       " 'taz_1270': 0.30333333333333334,\n",
       " 'taz_1271': 0.30333333333333334,\n",
       " 'taz_1272': 0.30333333333333334,\n",
       " 'taz_1273': 0.30333333333333334,\n",
       " 'taz_2273': 0.53333333333333333,\n",
       " 'taz_2272': 0.53333333333333333,\n",
       " 'taz_5501': 0.11666666666666667,\n",
       " 'taz_10930': 0.23444444444444443,\n",
       " 'taz_10931': 0.032222222222222222,\n",
       " 'taz_10932': 0.032222222222222222,\n",
       " 'taz_10933': 0.81111111111111112,\n",
       " 'taz_10934': 0.032222222222222222,\n",
       " 'taz_9504': 0.014444444444444446,\n",
       " 'taz_8018': 0.043333333333333335,\n",
       " 'taz_14476': 0.13,\n",
       " 'taz_1872': 0.027777777777777776,\n",
       " 'taz_1873': 0.47111111111111115,\n",
       " 'taz_1870': 0.083333333333333329,\n",
       " 'taz_1871': 0.027777777777777776,\n",
       " 'taz_1659': 0.22555555555555554,\n",
       " 'taz_1878': 0.027777777777777776,\n",
       " 'taz_7687': 0.063333333333333325,\n",
       " 'taz_1898': 0.71888888888888891,\n",
       " 'taz_1899': 0.71888888888888891,\n",
       " 'taz_2010': 0.087777777777777788,\n",
       " 'taz_1892': 1.72,\n",
       " 'taz_1893': 1.72,\n",
       " 'taz_1894': 1.72,\n",
       " 'taz_1895': 1.72,\n",
       " 'taz_9503': 0.014444444444444446,\n",
       " 'taz_1634': 0.63111111111111107,\n",
       " 'taz_10150': 0.07166666666666667,\n",
       " 'taz_29': 0.47111111111111115,\n",
       " 'taz_9502': 0.014444444444444446,\n",
       " 'taz_7809': 0.05333333333333333,\n",
       " 'taz_7534': 0.43444444444444447,\n",
       " 'taz_12951': 0.091666666666666674,\n",
       " 'taz_8036': 0.26000000000000001,\n",
       " 'taz_11984': 0.057777777777777782,\n",
       " 'taz_9500': 0.090000000000000011,\n",
       " 'taz_11406': 6.6216666666666661,\n",
       " 'taz_14387': 0.90111111111111108,\n",
       " 'taz_14386': 0.90111111111111108,\n",
       " 'taz_14385': 0.90111111111111108,\n",
       " 'taz_9134': 0.29888888888888887,\n",
       " 'taz_7337': 0.054444444444444441,\n",
       " 'taz_9501': 0.090000000000000011,\n",
       " 'taz_25': 0.8355555555555555,\n",
       " 'taz_5793': 0.094444444444444442,\n",
       " 'taz_5792': 0.20999999999999999,\n",
       " 'taz_5791': 0.20999999999999999,\n",
       " 'taz_5790': 0.094444444444444442,\n",
       " 'taz_14728': 0.20000000000000001,\n",
       " 'taz_5794': 0.094444444444444442,\n",
       " 'taz_14724': 0.097777777777777783,\n",
       " 'taz_14727': 0.20000000000000001,\n",
       " 'taz_14721': 0.20000000000000001,\n",
       " 'taz_14720': 0.036666666666666667,\n",
       " 'taz_14723': 0.097777777777777783,\n",
       " 'taz_14722': 0.097777777777777783,\n",
       " 'taz_14655': 0.11777777777777779,\n",
       " 'taz_14654': 10.978333333333333,\n",
       " 'taz_14657': 0.11777777777777779,\n",
       " 'taz_14656': 0.11777777777777779,\n",
       " 'taz_4442': 5.8399999999999999,\n",
       " 'taz_14652': 2.5891666666666668,\n",
       " 'taz_6447': 1.2422222222222221,\n",
       " 'taz_9139': 0.15222222222222223,\n",
       " 'taz_6674': 0.45777777777777778,\n",
       " 'taz_9138': 0.15222222222222223,\n",
       " 'taz_11719': 0.44,\n",
       " 'taz_3228': 0.23111111111111113,\n",
       " 'taz_9829': 3.391111111111111,\n",
       " 'taz_849': 0.17666666666666667,\n",
       " 'taz_848': 1.78,\n",
       " 'taz_11395': 0.47999999999999998,\n",
       " 'taz_11394': 0.47999999999999998,\n",
       " 'taz_13848': 0.033333333333333333,\n",
       " 'taz_845': 1.78,\n",
       " 'taz_12376': 0.14444444444444446,\n",
       " 'taz_12370': 0.14444444444444446,\n",
       " 'taz_12371': 0.14444444444444446,\n",
       " 'taz_5975': 0.38333333333333336,\n",
       " 'taz_5974': 0.38333333333333336,\n",
       " 'taz_9673': 1.4122222222222223,\n",
       " 'taz_3315': 6.46,\n",
       " 'taz_3311': 37.414999999999999,\n",
       " 'taz_3313': 6.9744444444444449,\n",
       " 'taz_3312': 37.414999999999999,\n",
       " 'taz_158': 0.67555555555555558,\n",
       " 'taz_157': 0.67555555555555558,\n",
       " 'taz_151': 0.67555555555555558,\n",
       " 'taz_6178': 0.27333333333333332,\n",
       " 'taz_6177': 0.27333333333333332,\n",
       " 'taz_6174': 0.08666666666666667,\n",
       " 'taz_6175': 0.08666666666666667,\n",
       " 'taz_6778': 0.33444444444444443,\n",
       " 'taz_6779': 0.8322222222222222,\n",
       " 'taz_6771': 0.19444444444444445,\n",
       " 'taz_6772': 0.19444444444444445,\n",
       " 'taz_6773': 0.53333333333333333,\n",
       " 'taz_11973': 0.057777777777777782,\n",
       " 'taz_11971': 0.057777777777777782,\n",
       " 'taz_6777': 0.33444444444444443,\n",
       " 'taz_6533': 0.19777777777777777,\n",
       " 'taz_12008': 1.1850000000000001,\n",
       " 'taz_12009': 1.1850000000000001,\n",
       " 'taz_534': 1.1366666666666667,\n",
       " 'taz_8196': 0.030833333333333334,\n",
       " 'taz_12438': 0.52777777777777779,\n",
       " 'taz_8197': 0.030833333333333334,\n",
       " 'taz_8038': 0.81888888888888889,\n",
       " 'taz_48': 0.066666666666666666,\n",
       " 'taz_4829': 1.3500000000000001,\n",
       " 'taz_8660': 0.057777777777777782,\n",
       " 'taz_8193': 0.048333333333333332,\n",
       " 'taz_8662': 0.057777777777777782,\n",
       " 'taz_8191': 0.048333333333333332,\n",
       " 'taz_218': 5.5788888888888888,\n",
       " 'taz_447': 0.028888888888888891,\n",
       " 'taz_446': 0.028888888888888891,\n",
       " 'taz_219': 5.5788888888888888,\n",
       " 'taz_440': 0.028888888888888891,\n",
       " 'taz_8777': 0.31888888888888889,\n",
       " 'taz_2662': 0.8666666666666667,\n",
       " 'taz_2663': 0.8666666666666667,\n",
       " 'taz_2660': 0.52666666666666673,\n",
       " 'taz_2661': 0.52666666666666673,\n",
       " 'taz_4826': 0.088888888888888892,\n",
       " 'taz_2669': 0.20999999999999999,\n",
       " 'taz_4827': 0.088888888888888892,\n",
       " 'taz_6251': 0.21833333333333335,\n",
       " 'taz_7494': 0.44,\n",
       " 'taz_6250': 0.21833333333333335,\n",
       " 'taz_746': 0.23444444444444443,\n",
       " 'taz_211': 0.11,\n",
       " 'taz_740': 0.19111111111111112,\n",
       " 'taz_10389': 0.057777777777777782,\n",
       " 'taz_741': 0.19111111111111112,\n",
       " 'taz_6315': 1.5266666666666666,\n",
       " 'taz_1799': 0.40444444444444444,\n",
       " 'taz_1741': 3.855,\n",
       " 'taz_1797': 0.33333333333333331,\n",
       " 'taz_1796': 0.86777777777777776,\n",
       " 'taz_4848': 2.2333333333333334,\n",
       " 'taz_4947': 2.2183333333333333,\n",
       " 'taz_1269': 1.0016666666666667,\n",
       " 'taz_12223': 1.0016666666666667,\n",
       " 'taz_1265': 0.042222222222222223,\n",
       " 'taz_1264': 0.93333333333333335,\n",
       " 'taz_1263': 0.93333333333333335,\n",
       " 'taz_1262': 0.27111111111111108,\n",
       " 'taz_1261': 0.27111111111111108,\n",
       " 'taz_4847': 0.75444444444444447,\n",
       " 'taz_4948': 0.30000000000000004,\n",
       " 'taz_12594': 0.046666666666666662,\n",
       " 'taz_12595': 0.040000000000000001,\n",
       " 'taz_12224': 0.77166666666666661,\n",
       " 'taz_12597': 0.040000000000000001,\n",
       " 'taz_11241': 0.052499999999999998,\n",
       " 'taz_2651': 0.46555555555555561,\n",
       " 'taz_11240': 0.052499999999999998,\n",
       " 'taz_2650': 0.46555555555555561,\n",
       " 'taz_7503': 0.078888888888888883,\n",
       " 'taz_12811': 0.76222222222222225,\n",
       " 'taz_12810': 0.76222222222222225,\n",
       " 'taz_12813': 0.29222222222222222,\n",
       " 'taz_1080': 2.0555555555555554,\n",
       " 'taz_1869': 0.083333333333333329,\n",
       " 'taz_1868': 0.083333333333333329,\n",
       " 'taz_2845': 0.29888888888888887,\n",
       " 'taz_5527': 0.057777777777777782,\n",
       " 'taz_5520': 6.3374999999999995,\n",
       " 'taz_5521': 2.8641666666666663,\n",
       " 'taz_7238': 0.91333333333333344,\n",
       " 'taz_5528': 0.057777777777777782,\n",
       " 'taz_5529': 0.72888888888888881,\n",
       " 'taz_8691': 4.0811111111111105,\n",
       " 'taz_1889': 0.65916666666666668,\n",
       " 'taz_1888': 0.65916666666666668,\n",
       " 'taz_7317': 0.017777777777777778,\n",
       " 'taz_1887': 0.65916666666666668,\n",
       " 'taz_1886': 0.65916666666666668,\n",
       " 'taz_1885': 1.4099999999999999,\n",
       " 'taz_11410': 3.0366666666666666,\n",
       " 'taz_11411': 3.0366666666666666,\n",
       " 'taz_11412': 0.93000000000000005,\n",
       " 'taz_11413': 6.6216666666666661,\n",
       " 'taz_5631': 4.2824999999999998,\n",
       " 'taz_4876': 0.55777777777777771,\n",
       " 'taz_4325': 0.82999999999999996,\n",
       " 'taz_4324': 0.82999999999999996,\n",
       " 'taz_4321': 0.78555555555555556,\n",
       " 'taz_4323': 0.098888888888888887,\n",
       " 'taz_4322': 0.098888888888888887,\n",
       " 'taz_3738': 0.015555555555555557,\n",
       " 'taz_6780': 0.8322222222222222,\n",
       " 'taz_14641': 0.64000000000000001,\n",
       " 'taz_11700': 0.77999999999999992,\n",
       " 'taz_11701': 0.77999999999999992,\n",
       " 'taz_11702': 0.2122222222222222,\n",
       " 'taz_11703': 0.2122222222222222,\n",
       " 'taz_11704': 0.2122222222222222,\n",
       " 'taz_2970': 0.01,\n",
       " 'taz_2971': 0.01,\n",
       " 'taz_9828': 3.391111111111111,\n",
       " 'taz_13856': 2.5699999999999998,\n",
       " 'taz_13857': 0.14222222222222222,\n",
       " 'taz_13854': 2.5699999999999998,\n",
       " 'taz_13855': 2.5699999999999998,\n",
       " 'taz_13852': 0.033333333333333333,\n",
       " 'taz_13853': 0.033333333333333333,\n",
       " 'taz_13850': 0.14222222222222222,\n",
       " 'taz_13851': 0.14222222222222222,\n",
       " 'taz_4219': 0.90333333333333343,\n",
       " 'taz_4218': 1.4355555555555555,\n",
       " 'taz_5942': 0.83000000000000007,\n",
       " 'taz_5943': 0.83000000000000007,\n",
       " 'taz_5940': 9.5,\n",
       " 'taz_5941': 9.5,\n",
       " 'taz_12494': 2.7733333333333334,\n",
       " 'taz_12491': 1.0677777777777777,\n",
       " 'taz_12490': 1.0677777777777777,\n",
       " 'taz_12493': 2.7733333333333334,\n",
       " 'taz_12492': 2.7733333333333334,\n",
       " 'taz_4980': 1.4355555555555555,\n",
       " 'taz_9443': 2.0588888888888892,\n",
       " 'taz_2756': 0.073333333333333334,\n",
       " 'taz_638': 1.51,\n",
       " 'taz_3104': 0.23111111111111113,\n",
       " 'taz_13149': 0.046666666666666669,\n",
       " 'taz_3107': 0.23111111111111113,\n",
       " 'taz_6169': 2.7966666666666669,\n",
       " 'taz_6167': 0.10111111111111111,\n",
       " 'taz_6166': 2.7966666666666669,\n",
       " 'taz_6161': 0.39333333333333331,\n",
       " 'taz_6160': 0.16666666666666666,\n",
       " 'taz_9441': 2.0588888888888892,\n",
       " 'taz_6954': 0.53666666666666663,\n",
       " 'taz_704': 0.16,\n",
       " 'taz_4945': 0.17333333333333334,\n",
       " 'taz_6955': 0.53666666666666663,\n",
       " 'taz_4426': 5.8399999999999999,\n",
       " 'taz_6956': 0.53666666666666663,\n",
       " 'taz_9440': 0.68888888888888888,\n",
       " 'taz_2576': 0.040000000000000001,\n",
       " 'taz_9832': 2.2183333333333333,\n",
       " 'taz_13524': 0.72000000000000008,\n",
       " 'taz_523': 0.40333333333333332,\n",
       " 'taz_524': 0.057777777777777782,\n",
       " 'taz_525': 0.057777777777777782,\n",
       " 'taz_7827': 0.75111111111111106,\n",
       " 'taz_7825': 0.75111111111111106,\n",
       " 'taz_9833': 2.2183333333333333,\n",
       " 'taz_4660': 0.3255555555555556,\n",
       " 'taz_9491': 0.097777777777777783,\n",
       " 'taz_11774': 0.22444444444444445,\n",
       " 'taz_4944': 0.17333333333333334,\n",
       " 'taz_9446': 2.1333333333333333,\n",
       " 'taz_10428': 1.0766666666666667,\n",
       " 'taz_10429': 1.0766666666666667,\n",
       " 'taz_9729': 0.022500000000000003,\n",
       " 'taz_10424': 0.057777777777777782,\n",
       " 'taz_10425': 0.057777777777777782,\n",
       " 'taz_10422': 1.0766666666666667,\n",
       " 'taz_10423': 1.0766666666666667,\n",
       " 'taz_4665': 1.01,\n",
       " 'taz_8761': 0.54166666666666663,\n",
       " 'taz_1418': 0.31111111111111112,\n",
       " 'taz_451': 13.057499999999999,\n",
       " 'taz_452': 13.057499999999999,\n",
       " 'taz_453': 13.057499999999999,\n",
       " 'taz_1414': 0.01,\n",
       " 'taz_6375': 0.17444444444444446,\n",
       " 'taz_1416': 0.01,\n",
       " 'taz_1417': 0.31111111111111112,\n",
       " 'taz_1410': 0.34777777777777774,\n",
       " 'taz_1411': 0.022222222222222223,\n",
       " 'taz_1412': 0.34777777777777774,\n",
       " 'taz_6373': 0.14999999999999999,\n",
       " 'taz_2675': 0.066666666666666666,\n",
       " 'taz_14480': 0.13,\n",
       " 'taz_9445': 2.1333333333333333,\n",
       " 'taz_2676': 0.066666666666666666,\n",
       " 'taz_2671': 0.20999999999999999,\n",
       " 'taz_2670': 0.20999999999999999,\n",
       " 'taz_9160': 0.18555555555555556,\n",
       " 'taz_9161': 0.18555555555555556,\n",
       " 'taz_4928': 0.86777777777777776,\n",
       " 'taz_7953': 0.13833333333333334,\n",
       " 'taz_14483': 0.078333333333333324,\n",
       " 'taz_2477': 0.48000000000000004,\n",
       " 'taz_14956': 0.076666666666666675,\n",
       " 'taz_2478': 0.48000000000000004,\n",
       " 'taz_14485': 0.28666666666666668,\n",
       " 'taz_9444': 0.33444444444444443,\n",
       " 'taz_97': 0.10555555555555556,\n",
       " 'taz_96': 0.10555555555555556,\n",
       " 'taz_90': 0.093333333333333338,\n",
       " 'taz_4859': 0.026666666666666665,\n",
       " 'taz_4853': 1.1344444444444446,\n",
       " 'taz_1529': 0.22222222222222221,\n",
       " 'taz_4851': 1.1344444444444446,\n",
       " 'taz_1259': 0.042222222222222223,\n",
       " 'taz_4857': 0.026666666666666665,\n",
       " 'taz_4855': 0.011111111111111112,\n",
       " 'taz_4854': 0.011111111111111112,\n",
       " 'taz_2215': 0.58333333333333337,\n",
       " 'taz_2213': 1.0677777777777777,\n",
       " 'taz_10958': 0.15222222222222223,\n",
       " 'taz_10956': 0.15222222222222223,\n",
       " 'taz_10957': 0.15222222222222223,\n",
       " 'taz_10952': 0.4466666666666666,\n",
       " 'taz_9895': 1.5266666666666666,\n",
       " 'taz_99': 0.29555555555555557,\n",
       " 'taz_5018': 1.1277777777777778,\n",
       " 'taz_12221': 1.0016666666666667,\n",
       " 'taz_98': 0.29555555555555557,\n",
       " 'taz_8019': 0.043333333333333335,\n",
       " 'taz_12801': 0.34777777777777774,\n",
       " 'taz_12806': 0.41777777777777775,\n",
       " 'taz_12807': 0.29222222222222222,\n",
       " 'taz_12804': 0.76222222222222225,\n",
       " 'taz_12808': 0.41777777777777775,\n",
       " 'taz_12809': 0.41777777777777775,\n",
       " 'taz_1326': 0.81111111111111112,\n",
       " 'taz_1325': 0.81111111111111112,\n",
       " 'taz_1320': 0.81111111111111112,\n",
       " 'taz_20': 0.40111111111111108,\n",
       " 'taz_21': 0.40111111111111108,\n",
       " 'taz_23': 0.8355555555555555,\n",
       " 'taz_24': 0.8355555555555555,\n",
       " 'taz_27': 0.036666666666666667,\n",
       " 'taz_5537': 0.34999999999999998,\n",
       " 'taz_5535': 0.64666666666666672,\n",
       " 'taz_5530': 0.72888888888888881,\n",
       " 'taz_10651': 0.24888888888888891,\n",
       " 'taz_7994': 0.070000000000000007,\n",
       " 'taz_10652': 0.24888888888888891,\n",
       " 'taz_4138': 193.91,\n",
       " 'taz_4133': 1.1366666666666667,\n",
       " 'taz_1748': 0.094999999999999987,\n",
       " 'taz_1749': 0.094999999999999987,\n",
       " 'taz_1740': 0.068888888888888888,\n",
       " 'taz_1632': 0.63111111111111107,\n",
       " 'taz_1743': 0.50333333333333341,\n",
       " 'taz_5628': 4.2824999999999998,\n",
       " 'taz_909': 0.023333333333333331,\n",
       " 'taz_5627': 0.061111111111111116,\n",
       " 'taz_5626': 0.061111111111111116,\n",
       " 'taz_5625': 4.2824999999999998,\n",
       " 'taz_2658': 0.32000000000000001,\n",
       " 'taz_4615': 0.048888888888888891,\n",
       " 'taz_1633': 0.63111111111111107,\n",
       " 'taz_4680': 0.057777777777777782,\n",
       " 'taz_4340': 0.11555555555555556,\n",
       " 'taz_4686': 1.4199999999999999,\n",
       " 'taz_4687': 1.4199999999999999,\n",
       " 'taz_4684': 0.15666666666666665,\n",
       " 'taz_4685': 0.15666666666666665,\n",
       " 'taz_4688': 1.4199999999999999,\n",
       " 'taz_4346': 0.27333333333333332,\n",
       " 'taz_11779': 0.54555555555555557,\n",
       " 'taz_11778': 0.54555555555555557,\n",
       " 'taz_11775': 0.4244444444444444,\n",
       " 'taz_14070': 0.16,\n",
       " 'taz_11776': 0.54555555555555557,\n",
       " 'taz_11770': 0.52777777777777779,\n",
       " 'taz_11773': 0.4244444444444444,\n",
       " 'taz_11772': 0.4244444444444444,\n",
       " 'taz_9998': 0.12555555555555553,\n",
       " 'taz_865': 0.05333333333333333,\n",
       " 'taz_13869': 0.049999999999999996,\n",
       " 'taz_4342': 0.4588888888888889,\n",
       " 'taz_9995': 0.043333333333333335,\n",
       " 'taz_4595': 1.1555555555555557,\n",
       " 'taz_9994': 0.043333333333333335,\n",
       " 'taz_9997': 0.043333333333333335,\n",
       " 'taz_6685': 0.83777777777777773,\n",
       " 'taz_6686': 0.83777777777777773,\n",
       " 'taz_6683': 0.83777777777777773,\n",
       " 'taz_12485': 0.31583333333333335,\n",
       " 'taz_11607': 0.035555555555555556,\n",
       " 'taz_11609': 0.035555555555555556,\n",
       " 'taz_11608': 0.035555555555555556,\n",
       " 'taz_7175': 0.080000000000000002,\n",
       " 'taz_7174': 0.080000000000000002,\n",
       " 'taz_7177': 0.064444444444444443,\n",
       " 'taz_7176': 0.066666666666666666,\n",
       " 'taz_7179': 0.064444444444444443,\n",
       " 'taz_4761': 0.23222222222222222,\n",
       " 'taz_7514': 0.62416666666666665,\n",
       " 'taz_3660': 0.13111111111111109,\n",
       " 'taz_7679': 0.060000000000000005,\n",
       " 'taz_609': 8.6500000000000004,\n",
       " 'taz_608': 1.5783333333333334,\n",
       " 'taz_3119': 0.6791666666666667,\n",
       " 'taz_3118': 17.107499999999998,\n",
       " 'taz_12480': 0.31583333333333335,\n",
       " 'taz_3113': 17.107499999999998,\n",
       " 'taz_3112': 0.032222222222222222,\n",
       " 'taz_3117': 17.107499999999998,\n",
       " 'taz_3114': 17.107499999999998,\n",
       " 'taz_9756': 0.14666666666666667,\n",
       " 'taz_9755': 3.3308333333333331,\n",
       " 'taz_9754': 3.3308333333333331,\n",
       " 'taz_7677': 0.060000000000000005,\n",
       " 'taz_13733': 0.061111111111111116,\n",
       " 'taz_13732': 0.061111111111111116,\n",
       " 'taz_13739': 0.11333333333333334,\n",
       " 'taz_13738': 0.11333333333333334,\n",
       " 'taz_13519': 0.59666666666666668,\n",
       " 'taz_13518': 0.59666666666666668,\n",
       " 'taz_13517': 0.59666666666666668,\n",
       " 'taz_13515': 2.0699999999999998,\n",
       " 'taz_8571': 0.10666666666666666,\n",
       " 'taz_8572': 0.10666666666666666,\n",
       " 'taz_2041': 0.10888888888888888,\n",
       " 'taz_7566': 0.55666666666666664,\n",
       " 'taz_7567': 0.55666666666666664,\n",
       " 'taz_7565': 2.0555555555555554,\n",
       " 'taz_7568': 0.55666666666666664,\n",
       " 'taz_7569': 6.3374999999999995,\n",
       " 'taz_7812': 0.05333333333333333,\n",
       " 'taz_7813': 0.030000000000000002,\n",
       " 'taz_7810': 1.0900000000000001,\n",
       " 'taz_7811': 1.0900000000000001,\n",
       " 'taz_6774': 0.19444444444444445,\n",
       " 'taz_7178': 0.064444444444444443,\n",
       " 'taz_7808': 0.05333333333333333,\n",
       " 'taz_10411': 0.44888888888888889,\n",
       " 'taz_10410': 0.44888888888888889,\n",
       " 'taz_6775': 0.33444444444444443,\n",
       " 'taz_1409': 0.86888888888888893,\n",
       " 'taz_193': 1.1366666666666667,\n",
       " 'taz_195': 0.26555555555555554,\n",
       " 'taz_8481': 0.045555555555555551,\n",
       " 'taz_196': 0.1111111111111111,\n",
       " 'taz_199': 0.10555555555555556,\n",
       " 'taz_198': 0.1111111111111111,\n",
       " 'taz_2190': 0.76166666666666671,\n",
       " 'taz_2191': 0.76166666666666671,\n",
       " 'taz_2192': 14.418333333333335,\n",
       " 'taz_8150': 1.2366666666666666,\n",
       " 'taz_1533': 0.19777777777777777,\n",
       " 'taz_1532': 0.084444444444444447,\n",
       " 'taz_1531': 0.22222222222222221,\n",
       " 'taz_1530': 0.22222222222222221,\n",
       " 'taz_1537': 0.19777777777777777,\n",
       " 'taz_1536': 0.057777777777777782,\n",
       " 'taz_1535': 0.057777777777777782,\n",
       " 'taz_1534': 0.10666666666666666,\n",
       " 'taz_1539': 0.027777777777777776,\n",
       " 'taz_1538': 0.19777777777777777,\n",
       " 'taz_2227': 0.29222222222222222,\n",
       " 'taz_10967': 0.19666666666666666,\n",
       " 'taz_7580': 0.055555555555555552,\n",
       " 'taz_7581': 0.055555555555555552,\n",
       " 'taz_7586': 0.057777777777777782,\n",
       " 'taz_6983': 0.6791666666666667,\n",
       " 'taz_6982': 0.6791666666666667,\n",
       " 'taz_607': 1.1111111111111112,\n",
       " 'taz_8501': 0.27416666666666667,\n",
       " 'taz_1339': 0.40555555555555556,\n",
       " 'taz_1338': 0.17555555555555558,\n",
       " 'taz_30': 0.47111111111111115,\n",
       " 'taz_8502': 2.2075,\n",
       " 'taz_1337': 0.027777777777777776,\n",
       " 'taz_8021': 0.069999999999999993,\n",
       " 'taz_1626': 0.26000000000000001,\n",
       " 'taz_1625': 0.20666666666666667,\n",
       " 'taz_1624': 0.20666666666666667,\n",
       " 'taz_1623': 0.20666666666666667,\n",
       " 'taz_1622': 0.90416666666666667,\n",
       " 'taz_1621': 0.26000000000000001,\n",
       " 'taz_1620': 0.26000000000000001,\n",
       " 'taz_605': 1.1111111111111112,\n",
       " 'taz_1855': 0.10111111111111111,\n",
       " 'taz_604': 1.1111111111111112,\n",
       " 'taz_606': 1.0566666666666666,\n",
       " 'taz_5187': 1.9366666666666665,\n",
       " 'taz_10346': 0.024999999999999998,\n",
       " 'taz_12907': 0.26500000000000001,\n",
       " 'taz_10342': 0.043333333333333335,\n",
       " 'taz_4963': 0.085555555555555551,\n",
       " 'taz_7716': 7.0799999999999992,\n",
       " 'taz_1005': 0.20166666666666666,\n",
       " 'taz_4962': 0.085555555555555551,\n",
       " 'taz_1004': 0.46333333333333332,\n",
       " 'taz_7710': 2.2377777777777776,\n",
       " 'taz_7713': 0.22833333333333336,\n",
       " 'taz_7712': 0.22833333333333336,\n",
       " 'taz_7360': 0.5855555555555555,\n",
       " 'taz_6527': 4.128333333333333,\n",
       " 'taz_14345': 0.5822222222222222,\n",
       " 'taz_5929': 0.9044444444444445,\n",
       " 'taz_4964': 0.16111111111111109,\n",
       " 'taz_893': 0.4366666666666667,\n",
       " 'taz_4691': 0.06777777777777777,\n",
       " 'taz_2326': 1.8155555555555556,\n",
       " 'taz_14710': 0.032222222222222222,\n",
       " 'taz_14711': 0.032222222222222222,\n",
       " 'taz_14712': 0.032222222222222222,\n",
       " 'taz_5050': 0.30111111111111111,\n",
       " 'taz_5051': 0.30111111111111111,\n",
       " 'taz_11505': 0.20999999999999999,\n",
       " 'taz_14719': 0.036666666666666667,\n",
       " 'taz_5057': 0.087777777777777788,\n",
       " 'taz_11764': 1.3200000000000001,\n",
       " 'taz_9112': 0.34444444444444444,\n",
       " 'taz_13878': 0.19166666666666665,\n",
       " 'taz_3907': 0.030833333333333334,\n",
       " ...}"
      ]
     },
     "execution_count": 20,
     "metadata": {},
     "output_type": "execute_result"
    }
   ],
   "source": [
    "m.od[m.od.keys()[0]]"
   ]
  },
  {
   "cell_type": "markdown",
   "metadata": {},
   "source": [
    "Note: Some methods of the multiplex class change the labels of nodes and edges. These methods will also re-key the OD matrix, so the network and multiplex won't get out of sync. Still, it's probably safest to load up the multiplex after you've done your other network transformations. "
   ]
  },
  {
   "cell_type": "markdown",
   "metadata": {},
   "source": [
    "Ok, why would we want an od matrix in the first place? To run ITA of course! The code below runs partial ITA for only the first 50 origins, and in only one iteration (i.e. `P = [1]`). The commented-out version runs a more realistic ITA with all nodes and 4 iterations. "
   ]
  },
  {
   "cell_type": "code",
   "execution_count": 21,
   "metadata": {
    "collapsed": false
   },
   "outputs": [
    {
     "name": "stdout",
     "output_type": "stream",
     "text": [
      "assignment for p = 1 completed in 0.1m\n"
     ]
    }
   ],
   "source": [
    "m.run_ita(n_nodes = 50, \n",
    "          summary = False, # change this to get route tables \n",
    "          attrname = 'congested_time_m',\n",
    "          flow_name = 'flow',\n",
    "          P = [1])\n",
    "\n",
    "# m.run_ita(n_nodes = None, \n",
    "#           summary = False, # change this to get route tables \n",
    "#           attrname = 'congested_time_m',\n",
    "#           flow_name = 'flow',\n",
    "#           P = [.4, .3, .2, .1])"
   ]
  },
  {
   "cell_type": "markdown",
   "metadata": {},
   "source": [
    "Internally, the `run_ita()` function converts the multiplex network into an igraph object and re-keys the OD accordingly. This is why you need the igraph package installed. Using the igraph package leads to significant performance improvements, but does require different syntax. Phil has tried to hide the igraph material behind the multiplex class, so that no one needs to interact with it directly. "
   ]
  },
  {
   "cell_type": "markdown",
   "metadata": {},
   "source": [
    "If we now inspect the multiplex, we'll find that the edges have 'congested_time_m' and 'flow' attributes: "
   ]
  },
  {
   "cell_type": "code",
   "execution_count": 22,
   "metadata": {
    "collapsed": false
   },
   "outputs": [
    {
     "data": {
      "text/html": [
       "<div>\n",
       "<table border=\"1\" class=\"dataframe\">\n",
       "  <thead>\n",
       "    <tr style=\"text-align: right;\">\n",
       "      <th></th>\n",
       "      <th>congested_time_m</th>\n",
       "      <th>flow</th>\n",
       "      <th>layer</th>\n",
       "    </tr>\n",
       "  </thead>\n",
       "  <tbody>\n",
       "    <tr>\n",
       "      <th>0</th>\n",
       "      <td>0.091489</td>\n",
       "      <td>NaN</td>\n",
       "      <td>streets</td>\n",
       "    </tr>\n",
       "    <tr>\n",
       "      <th>1</th>\n",
       "      <td>0.021935</td>\n",
       "      <td>NaN</td>\n",
       "      <td>streets</td>\n",
       "    </tr>\n",
       "    <tr>\n",
       "      <th>2</th>\n",
       "      <td>0.686156</td>\n",
       "      <td>3.427639</td>\n",
       "      <td>streets</td>\n",
       "    </tr>\n",
       "    <tr>\n",
       "      <th>3</th>\n",
       "      <td>0.712885</td>\n",
       "      <td>260.603125</td>\n",
       "      <td>streets</td>\n",
       "    </tr>\n",
       "    <tr>\n",
       "      <th>4</th>\n",
       "      <td>0.037431</td>\n",
       "      <td>72.814375</td>\n",
       "      <td>streets</td>\n",
       "    </tr>\n",
       "  </tbody>\n",
       "</table>\n",
       "</div>"
      ],
      "text/plain": [
       "   congested_time_m        flow    layer\n",
       "0          0.091489         NaN  streets\n",
       "1          0.021935         NaN  streets\n",
       "2          0.686156    3.427639  streets\n",
       "3          0.712885  260.603125  streets\n",
       "4          0.037431   72.814375  streets"
      ]
     },
     "execution_count": 22,
     "metadata": {},
     "output_type": "execute_result"
    }
   ],
   "source": [
    "m.edges_2_df(layers = ['streets'], attrs = ['flow', 'congested_time_m']).head()"
   ]
  },
  {
   "cell_type": "markdown",
   "metadata": {},
   "source": [
    "The networkx package provides a powerful framework for visualizing networks. The following code plots a flow visualization, including streets and the metro: "
   ]
  },
  {
   "cell_type": "code",
   "execution_count": 25,
   "metadata": {
    "collapsed": true
   },
   "outputs": [],
   "source": [
    "def get_coords(G):\n",
    "    return {n : (G.node[n]['lon'], G.node[n]['lat']) for n in G}\n",
    "\n",
    "def get_edge_scalar(G, attr):\n",
    "    return np.array([G.edge[e[0]][e[1]][attr] for e in G.edges_iter()])\n",
    "\n",
    "def flow_plot(multi, flow_attr, ax):\n",
    "    G = multi.layers_as_subgraph(['streets'])\n",
    "    nx.draw_networkx_edges(G, \n",
    "                           get_coords(G),\n",
    "                           edge_color = 'grey',\n",
    "                           width = 1,\n",
    "                           arrows = False,\n",
    "                           alpha = .2,\n",
    "                           ax = ax)\n",
    "\n",
    "    nx.draw_networkx_edges(G, \n",
    "                           get_coords(G),\n",
    "                           edge_color = get_edge_scalar(G, flow_attr)/get_edge_scalar(G, 'capacity'),\n",
    "                           width = get_edge_scalar(G, flow_attr) * .0003,\n",
    "                           arrows = False,\n",
    "                           edge_cmap = plt.get_cmap('plasma'),\n",
    "                           edge_vmin = 0, \n",
    "                           edge_vmax = 1.5,\n",
    "                           ax = ax)\n",
    "\n",
    "    G = multi.layers_as_subgraph(['metro'])\n",
    "    nx.draw_networkx_edges(G, get_coords(G),\n",
    "            edge_color = 'white', \n",
    "            width = get_edge_scalar(G, flow_attr) * .0003,\n",
    "            node_color = 'white',\n",
    "            node_size = 0,\n",
    "            alpha = .4,\n",
    "            with_labels = False,\n",
    "            arrows = False,\n",
    "            ax = ax)"
   ]
  },
  {
   "cell_type": "code",
   "execution_count": 30,
   "metadata": {
    "collapsed": false
   },
   "outputs": [
    {
     "data": {
      "text/plain": [
       "[(24.4833, 24.8833), (46.5167, 46.916700000000006)]"
      ]
     },
     "execution_count": 30,
     "metadata": {},
     "output_type": "execute_result"
    },
    {
     "data": {
      "image/png": "[encoded data removed]",
      "text/plain": [
       "<matplotlib.figure.Figure at 0x34c4ff50>"
      ]
     },
     "metadata": {},
     "output_type": "display_data"
    }
   ],
   "source": [
    "import matplotlib\n",
    "matplotlib.use('Agg')\n",
    "% matplotlib inline \n",
    "\n",
    "import matplotlib.pyplot as plt\n",
    "fig = plt.figure(figsize = (5,5))\n",
    "ax = fig.add_subplot(111)\n",
    "flow_plot(m, 'flow', ax)\n",
    "\n",
    "\n",
    "center_point = (46.7167, 24.6333)\n",
    "l = .2\n",
    "\n",
    "xlim = (center_point[0] - l, center_point[0] + l)\n",
    "ylim = (center_point[1] - l + .05, center_point[1] + l + .05)\n",
    "ax.set(xlim = xlim, ylim = ylim)\n",
    "\n"
   ]
  },
  {
   "cell_type": "markdown",
   "metadata": {},
   "source": [
    "Not the prettiest map, but it's not too hard to spruce it up in various ways. "
   ]
  },
  {
   "cell_type": "markdown",
   "metadata": {},
   "source": [
    "# Conclusions\n",
    "\n",
    "There's some more functionality to see in the multiplex class, including more functions; parameters to functions you've already seen; and more visualization possibilities. Since this software is so young, documentation and other useful functionality is still a work in progress. "
   ]
  }
 ],
 "metadata": {
  "interpreter": {
   "hash": "9974ed1e0e3209fc712a83f89896e0249685223056d5b00c26a959a0c83b9849"
  },
  "kernelspec": {
   "display_name": "Python 3.8.8 64-bit",
   "language": "python",
   "name": "python3"
  },
  "language_info": {
   "codemirror_mode": {
    "name": "ipython",
    "version": 3
   },
   "file_extension": ".py",
   "mimetype": "text/x-python",
   "name": "python",
   "nbconvert_exporter": "python",
   "pygments_lexer": "ipython3",
   "version": "3.8.8"
  }
 },
 "nbformat": 4,
 "nbformat_minor": 0
}
