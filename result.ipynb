{
 "cells": [
  {
   "cell_type": "markdown",
   "metadata": {},
   "source": [
    "# Library"
   ]
  },
  {
   "cell_type": "code",
   "execution_count": 2,
   "metadata": {},
   "outputs": [],
   "source": [
    "try:\n",
    "    import json \n",
    "    import os\n",
    "    import random\n",
    "    from math import sin, cos, sqrt, atan2, radians\n",
    "\n",
    "    import networkx as nx\n",
    "    from networkx.drawing.nx_agraph import graphviz_layout\n",
    "\n",
    "    import powerlaw\n",
    "    from empiricaldist import Cdf\n",
    "\n",
    "    import pandas as pd\n",
    "    import numpy as np\n",
    "\n",
    "    import matplotlib as mpl\n",
    "    import matplotlib.pyplot as plt\n",
    "    import matplotlib.colors as mcolors\n",
    "    import plotly.graph_objects as go\n",
    "    import plotly.express as px\n",
    "    \n",
    "    import folium\n",
    "    from folium import *\n",
    "    from folium import plugins\n",
    "\n",
    "    from mpl_toolkits.mplot3d import Axes3D\n",
    "    from mpl_toolkits.mplot3d.art3d import Line3DCollection\n",
    "    \n",
    "except ModuleNotFoundError as er:\n",
    "    print(er)\n",
    "    %pip install --upgrade pip\n",
    "    %pip install --upgrade wheel\n",
    "    %pip install --upgrade folium\n",
    "    %pip install --upgrade pandas\n",
    "    %pip install --upgrade networkx\n",
    "    %pip install --upgrade plotly.express\n",
    "    %pip install --upgrade numpy\n",
    "    %pip install --global-option=build_ext ` --global-option=\"-IC:\\Program Files\\Graphviz\\include\" ` --global-option=\"-LC:\\Program Files\\Graphviz\\lib\" ` pygraphviz\n",
    "    %pip install powerlaw\n",
    "    %pip install empiricaldist\n",
    "    %pip install pexpect\n",
    "    %pip install pickleshare\n",
    "    %pip install python-igraph\n",
    "    %pip install simplegeneric\n",
    "    %pip install traitlets\n",
    "    %pip install wsgiref\n",
    "    %pip install mpl_toolkits\n",
    "    %pip install kaleido\n",
    "    "
   ]
  },
  {
   "cell_type": "markdown",
   "metadata": {},
   "source": [
    "# Class used in the analysis"
   ]
  },
  {
   "cell_type": "code",
   "execution_count": 3,
   "metadata": {},
   "outputs": [],
   "source": [
    "class ParisTransportation:\n",
    "    \"\"\"\n",
    "    Main class\n",
    "    \"\"\"\n",
    "\n",
    "    def __init__(self):\n",
    "        self.jsonfile = \"geojson/multigraph.geojson\"\n",
    "\n",
    "    def clean_data(self):\n",
    "        if not os.path.exists(\"gml\"):\n",
    "            os.makedirs(\"gml\")\n",
    "\n",
    "        G = nx.DiGraph() #total\n",
    "        H = nx.DiGraph() #road\n",
    "        Q = nx.Graph() #metro\n",
    "        I = nx.Graph() #train\n",
    "        O = nx.Graph() #tram\n",
    "\n",
    "        df_data = []\n",
    "        with open(self.jsonfile, 'r') as jsfile:\n",
    "            for line in jsfile:\n",
    "                jsentry = json.loads(line)\n",
    "                df_data.append(jsentry)\n",
    "                if jsentry['properties']['type'] == \"edge\":\n",
    "                    if 'direction' in jsentry['properties']:\n",
    "                        if jsentry['properties']['direction'] == \"Double sens\":\n",
    "                            direction = \"TwoWay\"\n",
    "                        elif (jsentry['properties']['direction'] == \"Sens inverse\" \n",
    "                            or jsentry['properties']['direction'] == \"Sens unique\"):\n",
    "                            direction = \"OneWay\"\n",
    "                    else:\n",
    "                        direction = \"TwoWay\"\n",
    "\n",
    "                    ID = jsentry['_id']['$oid']\n",
    "                    Source = jsentry['properties']['mongo_org_id']\n",
    "                    Target = jsentry['properties']['mongo_dest_id']\n",
    "                    Layer = jsentry['properties']['layer']\n",
    "                    Coordinates = jsentry['geometry']['coordinates']\n",
    "                    Direction = direction\n",
    "\n",
    "                    try:\n",
    "                        Length = jsentry['properties']['length']\n",
    "                    except:\n",
    "                        Length = None\n",
    "                    try:\n",
    "                        Name = jsentry['properties']['name']\n",
    "                        if Name.startswith(\"54\"):\n",
    "                            Name = None\n",
    "                    except:\n",
    "                        Name = None\n",
    "\n",
    "                    degreeDual = jsentry['properties']['degreeDual']\n",
    "\n",
    "                    if Layer == \"road\":\n",
    "                        if Direction == \"TwoWay\":\n",
    "                            H.add_edge(Source, Target, id = ID, coord = Coordinates, length=Length, name=Name, degreeDual=degreeDual, layer=Layer)\n",
    "                            #H.add_edge(Target, Source, id = ID, coord = Coordinates, length=Length, name=Name, degreeDual=degreeDual, layer=Layer)\n",
    "                        elif Direction == \"OneWay\":\n",
    "                            H.add_edge(Source, Target, id = ID, coord = Coordinates, length=Length, name=Name, degreeDual=degreeDual, layer=Layer)\n",
    "                        H.nodes[Source]['lat'] = Coordinates[0][1]\n",
    "                        H.nodes[Source]['lon'] = Coordinates[0][0]\n",
    "                        H.nodes[Source]['pos'] = f\"{H.nodes[Source]['lat']},{H.nodes[Source]['lon']}\"\n",
    "                        H.nodes[Source]['layer'] = Layer\n",
    "\n",
    "                        H.nodes[Target]['lat'] = Coordinates[1][1]\n",
    "                        H.nodes[Target]['lon'] = Coordinates[1][0]\n",
    "                        H.nodes[Target]['pos'] = f\"{H.nodes[Target]['lat']},{H.nodes[Target]['lon']}\"\n",
    "                        H.nodes[Target]['layer'] = Layer\n",
    "\n",
    "                    elif Layer == \"metro\":\n",
    "                        Q.add_edge(Source, Target, id = ID, coord = Coordinates, length=Length, name=Name, degreeDual=degreeDual,\n",
    "                            layer=Layer)\n",
    "                        #Q.add_edge(Target, Source, id = ID, coord = Coordinates, length=Length, name=Name, degreeDual=degreeDual)\n",
    "                        Q.nodes[Source]['lat'] = Coordinates[0][1]\n",
    "                        Q.nodes[Source]['lon'] = Coordinates[0][0]\n",
    "                        Q.nodes[Source]['pos'] = f\"{Q.nodes[Source]['lat']},{Q.nodes[Source]['lon']}\"\n",
    "                        Q.nodes[Source]['layer'] = Layer\n",
    "\n",
    "                        Q.nodes[Target]['lat'] = Coordinates[1][1]\n",
    "                        Q.nodes[Target]['lon'] = Coordinates[1][0]\n",
    "                        Q.nodes[Target]['pos'] = f\"{Q.nodes[Target]['lat']},{Q.nodes[Target]['lon']}\"\n",
    "                        Q.nodes[Target]['layer'] = Layer\n",
    "\n",
    "                    elif Layer == \"train\":\n",
    "                        I.add_edge(Source, Target, id = ID, coord = Coordinates, length=Length, name=Name, degreeDual=degreeDual,\n",
    "                            layer=Layer)\n",
    "                        #I.add_edge(Target, Source, id = ID, coord = Coordinates, length=Length, name=Name, degreeDual=degreeDual)\n",
    "                        I.nodes[Source]['lat'] = Coordinates[0][1]\n",
    "                        I.nodes[Source]['lon'] = Coordinates[0][0]\n",
    "                        I.nodes[Source]['pos'] = f\"{I.nodes[Source]['lat']},{I.nodes[Source]['lon']}\"\n",
    "                        I.nodes[Source]['layer'] = Layer\n",
    "\n",
    "                        I.nodes[Target]['lat'] = Coordinates[1][1]\n",
    "                        I.nodes[Target]['lon'] = Coordinates[1][0]\n",
    "                        I.nodes[Target]['pos'] = f\"{I.nodes[Target]['lat']},{I.nodes[Target]['lon']}\"\n",
    "                        I.nodes[Target]['layer'] = Layer\n",
    "\n",
    "                    elif Layer == \"tram\":\n",
    "                        O.add_edge(Source, Target, id = ID, coord = Coordinates, length=Length, name=Name, degreeDual=degreeDual,\n",
    "                            layer=Layer)\n",
    "                        #O.add_edge(Target, Source, id = ID, coord = Coordinates, length=Length, name=Name, degreeDual=degreeDual)\n",
    "                        O.nodes[Source]['lat'] = Coordinates[0][1]\n",
    "                        O.nodes[Source]['lon'] = Coordinates[0][0]\n",
    "                        O.nodes[Source]['pos'] = f\"{O.nodes[Source]['lat']},{O.nodes[Source]['lon']}\"\n",
    "                        O.nodes[Source]['layer'] = Layer\n",
    "\n",
    "                        O.nodes[Target]['lat'] = Coordinates[1][1]\n",
    "                        O.nodes[Target]['lon'] = Coordinates[1][0]\n",
    "                        O.nodes[Target]['pos'] = f\"{O.nodes[Target]['lat']},{O.nodes[Target]['lon']}\"\n",
    "                        O.nodes[Target]['layer'] = Layer\n",
    "\n",
    "                    else:\n",
    "                        continue\n",
    "                else:\n",
    "                    continue\n",
    "\n",
    "            return(G, H, Q, I, O, df_data)\n",
    "\n",
    "\n",
    "    def geoJSON(self):\n",
    "        df = pd.read_json('geojson/multigraph.geojson', lines=True)\n",
    "        id = pd.json_normalize(df[\"_id\"])\n",
    "        id = id.rename(columns={\"$oid\": \"ID\"})\n",
    "\n",
    "        geom = pd.json_normalize(df[\"geometry\"])\n",
    "        geom = geom.rename(columns={\"type\": \"LP\"})\n",
    "\n",
    "        prop = pd.json_normalize(df[\"properties\"])\n",
    "\n",
    "        new_df = pd.concat([id, geom, prop], axis=1)\n",
    "        return(new_df)\n",
    "    \n",
    "    class MapMaker:\n",
    "        def __init__(self, df):\n",
    "            self.df = df\n",
    "            self.only_point = df.loc[df['LP'] == \"Point\"]\n",
    "            self.points = self.only_point.coordinates.tolist()\n",
    "            self.center = (48.85654066902656, 2.349154275836)\n",
    "            self.canvas = True,\n",
    "            self.bounds = True,\n",
    "            self.filename = \"france.html\"\n",
    "            self.layerColor = {\n",
    "                \"road\": \"green\",\n",
    "                \"train\": \"blue\",\n",
    "                \"metro\": \"gray\",\n",
    "                \"tram\": \"purple\"\n",
    "            }\n",
    "\n",
    "        @staticmethod\n",
    "        def calculate_distance(lon1, lat1, lon2, lat2, R=6357):\n",
    "            lat1 = radians(lat1)\n",
    "            lat2 = radians(lat2)\n",
    "            lon1 = radians(lon1)\n",
    "            lon2 = radians(lon2)\n",
    "\n",
    "            dlon = lon2 - lon1\n",
    "            dlat = lat2 - lat1\n",
    "\n",
    "            a = sin(dlat / 2) ** 2 + cos(lat1) * cos(lat2) * sin(dlon / 2) ** 2\n",
    "            c = 2 * atan2(sqrt(a), sqrt(1 - a))\n",
    "\n",
    "            distance = R * c\n",
    "            return distance\n",
    "        \n",
    "        def create_map(self):\n",
    "            if not os.path.exists(self.filename):\n",
    "                m = Map(location=[self.center[0], self.center[1]], \n",
    "                    tiles=\"CartoDB positron\", \n",
    "                    min_zoom=7, \n",
    "                    zoom_start=9,\n",
    "                    zoom_control=True, \n",
    "                    min_lat=42, \n",
    "                    max_lat=54, \n",
    "                    min_lon=-10, \n",
    "                    max_lon=14, \n",
    "                    max_bounds=self.bounds,\n",
    "                    prefer_canvas=self.canvas)\n",
    "\n",
    "                minimap = plugins.MiniMap()\n",
    "                m.add_child(minimap)\n",
    "\n",
    "                layers = self.only_point.layer.unique().tolist()\n",
    "\n",
    "                fg = FeatureGroup(control=False, show=False)\n",
    "                m.add_child(fg)\n",
    "\n",
    "                f1 = plugins.FeatureGroupSubGroup(fg, layers[0].capitalize())\n",
    "                m.add_child(f1)\n",
    "\n",
    "                f2 = plugins.FeatureGroupSubGroup(fg, layers[1].capitalize())\n",
    "                m.add_child(f2)\n",
    "\n",
    "                f3 = plugins.FeatureGroupSubGroup(fg, layers[2].capitalize())\n",
    "                m.add_child(f3)\n",
    "\n",
    "                f4 = plugins.FeatureGroupSubGroup(fg, layers[3].capitalize())\n",
    "                m.add_child(f4)\n",
    "\n",
    "                i = 0\n",
    "                layerTypes = self.only_point.layer.tolist()\n",
    "\n",
    "                for lon, lat in self.points:\n",
    "\n",
    "                    distance = self.calculate_distance(lon, lat, self.center[1], self.center[0])\n",
    "                    radiusDistance = distance\n",
    "\n",
    "                    if int(distance) > 0:\n",
    "                        distance = int(distance)\n",
    "                        distance = f\"{distance} km\"\n",
    "                    else:\n",
    "                        distance = distance * 1000\n",
    "                        distance = int(distance)\n",
    "                        distance = f\"{distance} mt\"\n",
    "\n",
    "                    circle = Circle(\n",
    "                        location=(lat, lon),\n",
    "                        tooltip=f\"<strong>Type:</strong> {layerTypes[i]}<br><strong>Center distance:</strong> {distance}\",\n",
    "                        radius=sqrt(radiusDistance * 1000),\n",
    "                        popup=f\"<strong>Type:</strong> {layerTypes[i]}<br><strong>Lat:</strong> {lat}<br><strong>Long:</strong> {lon}<br><strong>Center distance:</strong> {distance}\",\n",
    "                        color=self.layerColor.get(layerTypes[i]),\n",
    "                        fill=False,\n",
    "                        fill_color=self.layerColor.get(layerTypes[i])\n",
    "                    )\n",
    "                    \n",
    "                    if layerTypes[i] == layers[0]:\n",
    "                        f1.add_child(circle)\n",
    "                    elif layerTypes[i] == layers[1]:\n",
    "                        f2.add_child(circle)\n",
    "                    elif layerTypes[i] == layers[2]:\n",
    "                        f3.add_child(circle)\n",
    "                    elif layerTypes[i] == layers[3]:\n",
    "                        f4.add_child(circle)\n",
    "\n",
    "                    i +=1\n",
    "\n",
    "                paris = Circle(\n",
    "                    location=(self.center[0], self.center[1]),\n",
    "                    tooltip=\"Center\",\n",
    "                    popup=\"\",\n",
    "                    radius=80,\n",
    "                    color=\"crimson\",\n",
    "                    fill=True,\n",
    "                    fill_color=\"crimson\"\n",
    "                )\n",
    "                paris.add_to(fg)\n",
    "\n",
    "                plugins.Fullscreen(\n",
    "                        position=\"topright\",\n",
    "                        title=\"Fullscreen\",\n",
    "                        title_cancel=\"Exit fullscreen\",\n",
    "                        force_separate_button=True,\n",
    "                    ).add_to(m)\n",
    "\n",
    "                LayerControl().add_to(m)\n",
    "                m.save(self.filename)"
   ]
  },
  {
   "cell_type": "code",
   "execution_count": 4,
   "metadata": {},
   "outputs": [],
   "source": [
    "class TransportMap:\n",
    "    def __init__(self, metro_layer, train_layer, tram_layer):\n",
    "        self.metro_layer = metro_layer\n",
    "        self.train_layer = train_layer\n",
    "        self.tram_layer = tram_layer\n",
    "    \n",
    "    @staticmethod\n",
    "    def edges2df(G, id_indexed: bool = True):\n",
    "        df = pd.DataFrame(dict(G.edges()).items(),columns = ['Source-Target', 'Values'])\n",
    "        df = pd.concat([df.drop(['Source-Target'], axis=1), df['Source-Target'].apply(pd.Series)], axis=1).rename(columns={0: \"source\", 1: \"target\"})\n",
    "        df = pd.concat([df.drop(['Values'], axis=1), df['Values'].apply(pd.Series)], axis=1)\n",
    "        if id_indexed is True:\n",
    "            df = df.set_index('id')\n",
    "        return(df) \n",
    "\n",
    "    \"\"\"def centerCoord(self): # WORK IN PROGRESS\n",
    "\n",
    "        center = ()\n",
    "        return center\"\"\"\n",
    "    \n",
    "    def drawMap(self, line_width: int):\n",
    "        fig = Figure(width=1000,height=500)\n",
    "        #m = folium.plugins.DualMap(location=[48, 2], tiles='cartodbpositron', zoom_start=5)\n",
    "        m = folium.Map(location=[48.857001, 2.341848], zoom_start=9.5, tiles=\"CartoDBpositron\")\n",
    "        fig.add_child(m)\n",
    "\n",
    "        f1=folium.FeatureGroup(\"Tram\")\n",
    "        f1.add_to(m)\n",
    "        f2=folium.FeatureGroup(\"Metro\")\n",
    "        f2.add_to(m)\n",
    "        f3=folium.FeatureGroup(\"Train\")\n",
    "        f3.add_to(m)\n",
    "\n",
    "        folium.TileLayer('Stamen Terrain').add_to(m)\n",
    "        folium.TileLayer('Stamen Toner').add_to(m)\n",
    "        folium.TileLayer('Stamen Water Color').add_to(m)\n",
    "        folium.TileLayer('cartodbpositron').add_to(m)\n",
    "        folium.TileLayer('cartodbdark_matter').add_to(m)\n",
    "        folium.LayerControl().add_to(m)\n",
    "\n",
    "        train_df = self.edges2df(self.train_layer)\n",
    "        metro_df = self.edges2df(self.metro_layer)\n",
    "        tram_df = self.edges2df(self.tram_layer)\n",
    "\n",
    "        for segment in train_df.coord:\n",
    "            segment[0][0],segment[0][1] = segment[0][1],segment[0][0]\n",
    "            segment[1][0],segment[1][1] = segment[1][1],segment[1][0]\n",
    "            folium.vector_layers.PolyLine(\n",
    "                segment,\n",
    "                popup='<b>Train Network</b>',\n",
    "                tooltip='Train',\n",
    "                color='green',\n",
    "                weight=line_width).add_to(f3)\n",
    "\n",
    "        for segment in metro_df.coord:\n",
    "            segment[0][0],segment[0][1] = segment[0][1],segment[0][0]\n",
    "            segment[1][0],segment[1][1] = segment[1][1],segment[1][0]\n",
    "            folium.vector_layers.PolyLine(\n",
    "                segment,\n",
    "                popup='<b>Metro Network</b>',\n",
    "                tooltip='Metro',\n",
    "                color='blue',\n",
    "                weight=line_width).add_to(f2)\n",
    "\n",
    "        for segment in tram_df.coord:\n",
    "            segment[0][0],segment[0][1] = segment[0][1],segment[0][0]\n",
    "            segment[1][0],segment[1][1] = segment[1][1],segment[1][0]\n",
    "            folium.vector_layers.PolyLine(\n",
    "                segment,\n",
    "                popup='<b>Tram Network</b>',\n",
    "                tooltip='Tram',\n",
    "                color='orange',\n",
    "                weight=line_width).add_to(f1)\n",
    "        \n",
    "        folium.GeoJson({\n",
    "    \"type\": \"LineString\",\n",
    "    \"coordinates\": [[-100, 40], [-105, 45], [-110, 55]]\n",
    "}).add_to(f1)\n",
    "        fmtr = \"function(num) {return L.Util.formatNum(num, 3) + ' º ';};\"\n",
    "        folium.plugins.MousePosition(position='topright', separator=' | ', prefix=\"Mouse:\",\n",
    "              lng_formatter=fmtr, lat_formatter=fmtr).add_to(m)\n",
    "        folium.plugins.LocateControl().add_to(m)\n",
    "        folium.plugins.MiniMap(tile_layer='Stamen WaterColor', position='bottomright').add_to(m)\n",
    "        folium.plugins.Draw(\n",
    "            export=True,\n",
    "            filename='my_data.geojson',\n",
    "            position='topleft',\n",
    "            draw_options={'polyline': {'allowIntersection': False}},\n",
    "            edit_options={'poly': {'allowIntersection': False}}\n",
    "        ).add_to(m)\n",
    "        folium.plugins.Geocoder(collapsed=False, position='topright', add_marker=True).add_to(m)\n",
    "        folium.plugins.Fullscreen(position='topleft', title='Full Screen', title_cancel='Exit Full Screen', force_separate_button=False).add_to(m)\n",
    "        folium.plugins.MeasureControl(position='topright', primary_length_unit='kilometers', secondary_length_unit='meters').add_to(m)\n",
    "        m.save('france_transport.html')\n",
    "        return(m)\n",
    "    "
   ]
  },
  {
   "cell_type": "code",
   "execution_count": 5,
   "metadata": {},
   "outputs": [],
   "source": [
    "class Multiplex():\n",
    "    def __init__(self):\n",
    "        self.layers = []\n",
    "        self.G = nx.Graph()\n",
    "        self.crosslayers = pd.read_csv(\"labeled_crosslayers.csv\", encoding=\"utf-8\",sep=\";\")\n",
    "\n",
    "    @staticmethod\n",
    "    def haversine(lon1, lat1, lon2, lat2, R=6357):\n",
    "        \"\"\"\n",
    "        Compute distance between two points\n",
    "        \"\"\"\n",
    "        lat1 = radians(lat1)\n",
    "        lat2 = radians(lat2)\n",
    "        lon1 = radians(lon1)\n",
    "        lon2 = radians(lon2)\n",
    "\n",
    "        dlon = lon2 - lon1\n",
    "        dlat = lat2 - lat1\n",
    "\n",
    "        a = sin(dlat / 2) ** 2 + cos(lat1) * cos(lat2) * sin(dlon / 2) ** 2\n",
    "        c = 2 * atan2(sqrt(a), sqrt(1 - a))\n",
    "\n",
    "        distance = R * c\n",
    "        return distance\n",
    "\n",
    "    @staticmethod\n",
    "    def centorid(pos1: tuple, pos2: tuple) -> tuple:\n",
    "            \"\"\"\n",
    "            pos1: tuple (lat, lon)\n",
    "            pos2: tuple (lat, lon)\n",
    "\n",
    "            return: (avg_lat,avg_lon)\n",
    "            \"\"\"\n",
    "            avg_lat = (pos1[0]+pos2[0])/2\n",
    "            avg_lon = (pos1[1]+pos2[1])/2\n",
    "            return (avg_lat, avg_lon)\n",
    "\n",
    "    def spatial_join(self, layer1, layer2, distance_threshold: int, transfer_speed: float = 5, base_cost: int = 0):\n",
    "        \"\"\"\n",
    "        transfer_speed (float) -> walking speed to reach destination\n",
    "        base_cost (int) -> mean time waiting the transport vehicle\n",
    "        \"\"\"\n",
    "        if layer1<=layer2:\n",
    "            transfer_layer_name = layer1 + '--' + layer2\n",
    "        else:\n",
    "            transfer_layer_name = layer2 + '--' + layer1\n",
    "        self.layers.append(transfer_layer_name)\n",
    "\n",
    "        layer1_copy = self.layers_as_subgraph([layer1])\t\n",
    "        layer2_copy = self.layers_as_subgraph([layer2])\n",
    "\n",
    "        edges_added = 0\n",
    "        for n in layer1_copy.nodes:\n",
    "            for m in layer2_copy.nodes:\n",
    "                dist = int(self.haversine(layer1_copy.nodes[n]['lon'], layer1_copy.nodes[n]['lat'], layer2_copy.nodes[m]['lon'], layer2_copy.nodes[m]['lat'])*1000)\n",
    "                if dist <= distance_threshold:\n",
    "                    self.G.add_edge(n, m, \n",
    "                            layer = transfer_layer_name,\n",
    "                            dist_km = dist/1000, \n",
    "                            weight = (dist/1000) / transfer_speed + base_cost)\n",
    "\n",
    "                    edges_added += 1\n",
    "\n",
    "        print (f'Added {str(edges_added)} transfers between {layer1} and {layer2}')\n",
    "\n",
    "    def add_crosslayer(self, layer1, layer2):\n",
    "        df = self.crosslayers\n",
    "\n",
    "        if layer1<=layer2:\n",
    "            transfer_layer_name = layer1 + '--' + layer2\n",
    "        else:\n",
    "            transfer_layer_name = layer2 + '--' + layer1\n",
    "        self.layers.append(transfer_layer_name)\n",
    "\n",
    "        layer1_copy = self.layers_as_subgraph([layer1])\t\n",
    "        layer2_copy = self.layers_as_subgraph([layer2])\n",
    "\n",
    "        edges_added = 0\n",
    "        for n,attr1 in layer1_copy.nodes.items():\n",
    "            for m,attr2 in layer2_copy.nodes.items():\n",
    "                if len(df[(df.mongo_org_id==attr1['name']) & (df.mongo_dest_id==attr2['name'])]) != 0:\n",
    "                    self.G.add_edge(n, m, layer = transfer_layer_name)\n",
    "\n",
    "                    edges_added += 1\n",
    "\n",
    "        print (f'Added {str(edges_added)} transfers between {layer1} and {layer2}')\n",
    "\n",
    "    \n",
    "    def add_layers(self, layer_dict):\n",
    "        '''\n",
    "        Add layers from a dict of networkx graphs.\n",
    "        \n",
    "        args:\n",
    "            layer_dict: (dict) a dict of layer names and graphs, e.g. {'metro' : metro, 'street' : street}\n",
    "        '''\n",
    "        for layer in layer_dict:\n",
    "            if layer in self.layers: \n",
    "                print(layer_dict[layer])\n",
    "                print(\"ERROR: The layer\" + layer + \"is already defined in the multiplex, did not overwrite\")\n",
    "            \n",
    "            else:\n",
    "                self.layers.append(layer)\n",
    "                #nx.set_node_attributes(layer_dict[layer], 'layer', layer)\n",
    "                #nx.set_edge_attributes(layer_dict[layer], 'layer', layer)\n",
    "                self.G = nx.disjoint_union(self.G, layer_dict[layer])\n",
    "                #for n, attr in layer_dict[layer].nodes.items():\n",
    "                #    nx.set_node_attributes(layer_dict[layer], n, 'name')\n",
    "                self.label_nodes()\n",
    "                \n",
    "    def label_nodes(self, old_label = 'old_label'):\n",
    "        \"\"\"\n",
    "        Summary:\n",
    "            Generate new labels for the nodes of the multiplex. \n",
    "        \n",
    "        Args:\n",
    "            old_label (str, optional): Name of attribute under which to save the old labels\n",
    "        \n",
    "        Returns:\n",
    "            None \n",
    "        \"\"\"\n",
    "        self.G = nx.convert_node_labels_to_integers(self.G, label_attribute = old_label)\n",
    "        new_labels = {n : self.G.nodes[n]['layer'] + '_' + str(n) for n in self.G.nodes} \n",
    "\n",
    "        self.G = nx.relabel_nodes(self.G, mapping = new_labels, copy = False)\n",
    "\n",
    "    def add_graph(self, H):\n",
    "        \"\"\"\n",
    "        Summary: \n",
    "            Add a graph H to the multiplex and update labels. \n",
    "        \n",
    "        Args:\n",
    "            H (networkx.DiGraph): The graph to add \n",
    "        \n",
    "        Returns:\n",
    "            None\n",
    "        \"\"\"\n",
    "        self.G = nx.disjoint_union(self.G, H)\n",
    "        self.update_layers()\n",
    "        self.label_nodes('id')\n",
    "\n",
    "    def remove_layer(self, layer):\n",
    "        \"\"\"\n",
    "        Summary:\n",
    "            Delete a layer of the multiplex. All nodes in that layer are deleted, as well as any edges that begin or end at a deleted node. \n",
    "        \n",
    "        Args:\n",
    "            layer (str): the layer to remove \n",
    "        \n",
    "        Returns:\n",
    "            None\n",
    "        \"\"\"\n",
    "        if layer not in self.layers:\n",
    "            print (\"Sorry, \" + layer + ' is not current in the multiplex.')\n",
    "        else:\n",
    "            self.layers.remove(layer)\n",
    "            self.G.remove_nodes_from([n for n,attrdict in self.G.nodes.items() if attrdict['layer'] == layer])\n",
    "    \n",
    "    def update_node_attributes(self, attr):\n",
    "        '''\n",
    "        Summary:\n",
    "            Set the attributes of self.G.nodes\n",
    "        \n",
    "        Args:\n",
    "            attr (dict): a dict with nodenames as keys. Values are attribute dicts. \n",
    "\n",
    "        Returns:\n",
    "            None\n",
    "        '''\n",
    "\n",
    "        for n in attr:\n",
    "            for att in attr[n]: self.G.nodes[n][att] = attr[n][att]\n",
    "\n",
    "    def update_edge_attributes(self, attr):\n",
    "        '''\n",
    "        Summary: \n",
    "            Set the attributes of self.G.edge\n",
    "\n",
    "        Args:\n",
    "            attr (dict): a dict with edgenames (or node 2-tuples) as keys. Values are attribute dicts. \n",
    "\n",
    "        Returns:\n",
    "            None\n",
    "        '''\n",
    "        for e in attr:\n",
    "            for att in attr[e]: self.G.edge[e[0]][e[1]] = attr[e][att]\n",
    "    \n",
    "    def update_layers(self):\n",
    "        \"\"\"\n",
    "        Summary:\n",
    "            Check that the layers of self include all layers present in self.G\n",
    "\n",
    "        Args:\n",
    "            None\n",
    "        \n",
    "        Returns:\n",
    "            None \n",
    "        \"\"\"\n",
    "        new_layers = set([attrdict['layer'] \n",
    "                         for n, attrdict in self.G.nodes.items()])\n",
    "        new_layers.update(set([d['layer'] \n",
    "                          for u,v,d in self.G.edges(data=True)]))\n",
    "\n",
    "        self.layers = list(new_layers)\n",
    "\n",
    "    def get_layers(self):\n",
    "        \"\"\"\n",
    "        Summary: Get a list of layers currently included in the multiplex. \n",
    "        \n",
    "        Returns:\n",
    "            list: a list of layers  \n",
    "        \"\"\"\n",
    "        return self.layers\n",
    "\n",
    "    def check_layer(self, layer_name):\n",
    "        \"\"\"\n",
    "        Summary: Check for the presence of a layer in the multiplex. \n",
    "        \n",
    "        Args:\n",
    "            layer_name (str): the name of the layer to check for.  \n",
    "        \n",
    "        Returns:\n",
    "            bool: True iff layer_name is the name of a layer in the multiplex.  \n",
    "        \"\"\"\n",
    "        return layer_name in self.layers \n",
    "                   \n",
    "    def layers_as_subgraph(self, layers):\n",
    "        '''\n",
    "        Summary:\n",
    "            return a subset of the layers of self.G as a networkx.DiGraph() object. \n",
    "        args: \n",
    "            layers (list): a list of layers to return\n",
    "\n",
    "        Returns:\n",
    "            None\n",
    "        '''\n",
    "        return self.G.subgraph([n for n,attrdict in self.G.nodes.items() \n",
    "                               if attrdict.get('layer') in layers])\n",
    "\n",
    "    def as_graph(self):\n",
    "        '''\n",
    "        Summary: \n",
    "            Return self.multiplex as a networkx.DiGraph() object. \n",
    "\n",
    "        Args:\n",
    "            None\n",
    "\n",
    "        Returns:\n",
    "            None\n",
    "        '''\n",
    "        return self.G\n",
    "\n",
    "    def summary(self):\n",
    "        '''\n",
    "        Summary: \n",
    "            View a summary of self, printed to the terminal\n",
    "\n",
    "        Args: \n",
    "            None\n",
    "\n",
    "        Returns:\n",
    "            None\n",
    "\n",
    "        '''\n",
    "        layers = {layer: (len([n for n,attrdict in self.G.nodes.items() if attrdict.get('layer') == layer]), \n",
    "                          len([(u,v,d) for u,v,d in self.G.edges(data=True) if d['layer'] == layer])) for layer in (self.layers)} \n",
    "\n",
    "        print ('{0: <16}'.format('layer') + '\\tnodes \\tedges')\n",
    "        print ('-'*40)\n",
    "        for layer in layers:\n",
    "            print ('{0: <16}'.format(layer), \"\\t\", layers[layer][0], \"\\t\", layers[layer][1] ) \n",
    "\n",
    "    def edges_2_df(self, layers, attrs):\n",
    "        \"\"\"\n",
    "        Summary: \n",
    "            Create a pandas.DataFrame in which each row is an edge and each column an edge attribute. \n",
    "        \n",
    "        Args:\n",
    "            layers (list): a list of strings indicating the layers to be included in the df \n",
    "            attrs (list): a list of attributes to include as columns\n",
    "        \n",
    "        Returns:\n",
    "            pandas.DataFrame: a df in which each row is an edge and each column is an edge attribute.  \n",
    "        \"\"\"\n",
    "        attrs = attrs + ['layer']\n",
    "        G = self.layers_as_subgraph(layers)\n",
    "        attrdict = {attr : [G.edge[e[0]][e[1]][attr] or None for e in G.edges_iter()] \n",
    "                    for attr in attrs}\n",
    "        return pd.DataFrame(attrdict)"
   ]
  },
  {
   "cell_type": "code",
   "execution_count": 6,
   "metadata": {},
   "outputs": [],
   "source": [
    "G, ROAD, METRO, TRAIN, TRAM, df_data = ParisTransportation().clean_data()"
   ]
  },
  {
   "cell_type": "code",
   "execution_count": 7,
   "metadata": {},
   "outputs": [],
   "source": [
    "df = ParisTransportation().geoJSON()"
   ]
  },
  {
   "cell_type": "code",
   "execution_count": 8,
   "metadata": {},
   "outputs": [],
   "source": [
    "ParisTransportation().MapMaker(df).create_map()"
   ]
  },
  {
   "cell_type": "markdown",
   "metadata": {},
   "source": [
    "# GeoJSON Cleaner"
   ]
  },
  {
   "cell_type": "code",
   "execution_count": null,
   "metadata": {},
   "outputs": [],
   "source": [
    "geojson = pd.DataFrame(df_data)\n",
    "geojson = pd.concat([geojson.drop(['_id'], axis=1), geojson['_id'].apply(pd.Series)], axis=1)\n",
    "geojson = geojson.drop([\"type\"], axis=1)\n",
    "geojson = pd.concat([geojson.drop(['geometry'], axis=1), geojson['geometry'].apply(pd.Series)], axis=1)\n",
    "geojson = geojson.rename(columns={\"$oid\": \"ID\", \"type\" : \"geom_type\"})\n",
    "geojson = pd.concat([geojson.drop(['properties'], axis=1), geojson['properties'].apply(pd.Series)], axis=1)\n",
    "geojson = geojson.set_index('ID')\n",
    "if not os.path.exists(\"geojson.csv\"):\n",
    "    geojson.to_csv(\"geojson.csv\", index=True, sep=\";\", encoding=\"UTF-8\")\n",
    "\n",
    "def find_layer(x, y):\n",
    "  df = geojson[geojson.geom_type==\"Point\"]\n",
    "  return df.loc[x].layer, df.loc[y].layer"
   ]
  },
  {
   "cell_type": "code",
   "execution_count": null,
   "metadata": {},
   "outputs": [],
   "source": [
    "crosslayers = geojson[geojson.layer==\"crosslayer\"]\n",
    "crosslayers = crosslayers.drop([\"geom_type\",\"geom_type\",\"database_ref\",\"direction\",\"length\",\"edge_type\",\"degreeDual\",\"db_id\",\"database_id\",\"database_dest_id\",\"database_org_id\"], axis=1)\n",
    "crosslayers[['source_layer','target_layer']] = crosslayers.apply(lambda x: find_layer(x.mongo_org_id, x.mongo_dest_id), axis=1, result_type='expand')\n",
    "if not os.path.exists(\"labeled_crosslayers.csv\"):\n",
    "    crosslayers.to_csv(\"labeled_crosslayers.csv\", index=True, sep=\";\", encoding=\"UTF-8\")"
   ]
  },
  {
   "cell_type": "code",
   "execution_count": null,
   "metadata": {},
   "outputs": [],
   "source": [
    "crosslayers"
   ]
  },
  {
   "cell_type": "code",
   "execution_count": 14,
   "metadata": {},
   "outputs": [
    {
     "data": {
      "text/plain": [
       "<__main__.Multiplex at 0x20b1a700a00>"
      ]
     },
     "execution_count": 14,
     "metadata": {},
     "output_type": "execute_result"
    }
   ],
   "source": [
    "M = Multiplex()\n",
    "M"
   ]
  },
  {
   "cell_type": "code",
   "execution_count": 15,
   "metadata": {},
   "outputs": [],
   "source": [
    "M.add_layers({\n",
    "    \"train\" : TRAIN,\n",
    "    \"metro\" : METRO,\n",
    "    \"tram\" : TRAM,\n",
    "    \"road\" : ROAD\n",
    "    })"
   ]
  },
  {
   "cell_type": "code",
   "execution_count": 16,
   "metadata": {},
   "outputs": [
    {
     "name": "stdout",
     "output_type": "stream",
     "text": [
      "Added 58 transfers between train and metro\n",
      "Added 16 transfers between train and tram\n",
      "Added 1082 transfers between train and road\n",
      "Added 1917 transfers between metro and road\n",
      "Added 49 transfers between metro and tram\n",
      "Added 928 transfers between road and tram\n",
      "layer           \tnodes \tedges\n",
      "----------------------------------------\n",
      "train            \t 241 \t 244\n",
      "metro            \t 303 \t 356\n",
      "tram             \t 144 \t 140\n",
      "road             \t 14804 \t 22281\n",
      "metro--train     \t 0 \t 58\n",
      "train--tram      \t 0 \t 16\n",
      "road--train      \t 0 \t 1082\n",
      "metro--road      \t 0 \t 1917\n",
      "metro--tram      \t 0 \t 49\n",
      "road--tram       \t 0 \t 928\n"
     ]
    }
   ],
   "source": [
    "M.spatial_join(\"train\",\"metro\",distance_threshold=455)\n",
    "M.spatial_join(\"train\",\"tram\",distance_threshold=455)\n",
    "M.spatial_join(\"train\",\"road\",distance_threshold=455)\n",
    "M.spatial_join(\"metro\",\"road\",distance_threshold=455)\n",
    "M.spatial_join(\"metro\",\"tram\",distance_threshold=455)\n",
    "M.spatial_join(\"road\",\"tram\",distance_threshold=455)\n",
    "M.summary()"
   ]
  },
  {
   "cell_type": "code",
   "execution_count": null,
   "metadata": {},
   "outputs": [],
   "source": [
    "#M.add_crosslayer(\"train\",\"metro\")"
   ]
  },
  {
   "cell_type": "code",
   "execution_count": 17,
   "metadata": {},
   "outputs": [
    {
     "name": "stdout",
     "output_type": "stream",
     "text": [
      "layer           \tnodes \tedges\n",
      "----------------------------------------\n",
      "train            \t 241 \t 244\n",
      "metro            \t 303 \t 356\n",
      "tram             \t 144 \t 140\n",
      "road             \t 14804 \t 22281\n",
      "metro--train     \t 0 \t 58\n",
      "train--tram      \t 0 \t 16\n",
      "road--train      \t 0 \t 1082\n",
      "metro--road      \t 0 \t 1917\n",
      "metro--tram      \t 0 \t 49\n",
      "road--tram       \t 0 \t 928\n"
     ]
    }
   ],
   "source": [
    "M.summary()"
   ]
  },
  {
   "cell_type": "code",
   "execution_count": 18,
   "metadata": {},
   "outputs": [],
   "source": [
    "N = M.layers_as_subgraph(M.get_layers())\n",
    "#print(*N.edges(data=True),sep=\"\\n\")\n",
    "#print(len(N.edges))"
   ]
  },
  {
   "cell_type": "code",
   "execution_count": 19,
   "metadata": {},
   "outputs": [
    {
     "data": {
      "text/plain": [
       "[38,\n",
       " 34,\n",
       " 29,\n",
       " 29,\n",
       " 28,\n",
       " 27,\n",
       " 26,\n",
       " 25,\n",
       " 24,\n",
       " 24,\n",
       " 24,\n",
       " 24,\n",
       " 23,\n",
       " 23,\n",
       " 23,\n",
       " 22,\n",
       " 22,\n",
       " 22,\n",
       " 22,\n",
       " 22,\n",
       " 21,\n",
       " 21,\n",
       " 21,\n",
       " 21,\n",
       " 20,\n",
       " 20,\n",
       " 20,\n",
       " 20,\n",
       " 20,\n",
       " 20,\n",
       " 19,\n",
       " 19,\n",
       " 18,\n",
       " 18,\n",
       " 18,\n",
       " 18,\n",
       " 18,\n",
       " 18,\n",
       " 18,\n",
       " 18,\n",
       " 17,\n",
       " 17,\n",
       " 17,\n",
       " 17,\n",
       " 17,\n",
       " 17,\n",
       " 17,\n",
       " 17,\n",
       " 17,\n",
       " 16,\n",
       " 16,\n",
       " 16,\n",
       " 16,\n",
       " 16,\n",
       " 16,\n",
       " 16,\n",
       " 16,\n",
       " 16,\n",
       " 15,\n",
       " 15,\n",
       " 15,\n",
       " 15,\n",
       " 15,\n",
       " 15,\n",
       " 15,\n",
       " 15,\n",
       " 15,\n",
       " 15,\n",
       " 15,\n",
       " 15,\n",
       " 15,\n",
       " 15,\n",
       " 15,\n",
       " 15,\n",
       " 15,\n",
       " 14,\n",
       " 14,\n",
       " 14,\n",
       " 14,\n",
       " 14,\n",
       " 14,\n",
       " 14,\n",
       " 14,\n",
       " 14,\n",
       " 14,\n",
       " 14,\n",
       " 14,\n",
       " 14,\n",
       " 14,\n",
       " 13,\n",
       " 13,\n",
       " 13,\n",
       " 13,\n",
       " 13,\n",
       " 13,\n",
       " 13,\n",
       " 13,\n",
       " 13,\n",
       " 13,\n",
       " 13,\n",
       " 13,\n",
       " 13,\n",
       " 13,\n",
       " 13,\n",
       " 13,\n",
       " 13,\n",
       " 13,\n",
       " 13,\n",
       " 13,\n",
       " 12,\n",
       " 12,\n",
       " 12,\n",
       " 12,\n",
       " 12,\n",
       " 12,\n",
       " 12,\n",
       " 12,\n",
       " 12,\n",
       " 12,\n",
       " 12,\n",
       " 12,\n",
       " 12,\n",
       " 12,\n",
       " 12,\n",
       " 12,\n",
       " 12,\n",
       " 12,\n",
       " 12,\n",
       " 12,\n",
       " 12,\n",
       " 11,\n",
       " 11,\n",
       " 11,\n",
       " 11,\n",
       " 11,\n",
       " 11,\n",
       " 11,\n",
       " 11,\n",
       " 11,\n",
       " 11,\n",
       " 11,\n",
       " 11,\n",
       " 11,\n",
       " 11,\n",
       " 11,\n",
       " 11,\n",
       " 11,\n",
       " 11,\n",
       " 11,\n",
       " 11,\n",
       " 11,\n",
       " 11,\n",
       " 11,\n",
       " 11,\n",
       " 11,\n",
       " 11,\n",
       " 11,\n",
       " 11,\n",
       " 11,\n",
       " 11,\n",
       " 11,\n",
       " 11,\n",
       " 11,\n",
       " 11,\n",
       " 11,\n",
       " 11,\n",
       " 11,\n",
       " 11,\n",
       " 11,\n",
       " 11,\n",
       " 10,\n",
       " 10,\n",
       " 10,\n",
       " 10,\n",
       " 10,\n",
       " 10,\n",
       " 10,\n",
       " 10,\n",
       " 10,\n",
       " 10,\n",
       " 10,\n",
       " 10,\n",
       " 10,\n",
       " 10,\n",
       " 10,\n",
       " 10,\n",
       " 10,\n",
       " 10,\n",
       " 10,\n",
       " 10,\n",
       " 10,\n",
       " 10,\n",
       " 10,\n",
       " 10,\n",
       " 10,\n",
       " 10,\n",
       " 10,\n",
       " 10,\n",
       " 10,\n",
       " 10,\n",
       " 10,\n",
       " 10,\n",
       " 10,\n",
       " 10,\n",
       " 10,\n",
       " 10,\n",
       " 10,\n",
       " 10,\n",
       " 10,\n",
       " 10,\n",
       " 10,\n",
       " 10,\n",
       " 10,\n",
       " 10,\n",
       " 10,\n",
       " 10,\n",
       " 10,\n",
       " 10,\n",
       " 10,\n",
       " 10,\n",
       " 10,\n",
       " 10,\n",
       " 10,\n",
       " 10,\n",
       " 10,\n",
       " 10,\n",
       " 10,\n",
       " 10,\n",
       " 10,\n",
       " 10,\n",
       " 10,\n",
       " 10,\n",
       " 10,\n",
       " 10,\n",
       " 10,\n",
       " 10,\n",
       " 10,\n",
       " 10,\n",
       " 10,\n",
       " 10,\n",
       " 10,\n",
       " 10,\n",
       " 10,\n",
       " 10,\n",
       " 10,\n",
       " 9,\n",
       " 9,\n",
       " 9,\n",
       " 9,\n",
       " 9,\n",
       " 9,\n",
       " 9,\n",
       " 9,\n",
       " 9,\n",
       " 9,\n",
       " 9,\n",
       " 9,\n",
       " 9,\n",
       " 9,\n",
       " 9,\n",
       " 9,\n",
       " 9,\n",
       " 9,\n",
       " 9,\n",
       " 9,\n",
       " 9,\n",
       " 9,\n",
       " 9,\n",
       " 9,\n",
       " 9,\n",
       " 9,\n",
       " 9,\n",
       " 9,\n",
       " 9,\n",
       " 9,\n",
       " 9,\n",
       " 9,\n",
       " 9,\n",
       " 9,\n",
       " 9,\n",
       " 9,\n",
       " 9,\n",
       " 9,\n",
       " 9,\n",
       " 9,\n",
       " 9,\n",
       " 9,\n",
       " 9,\n",
       " 9,\n",
       " 9,\n",
       " 9,\n",
       " 9,\n",
       " 9,\n",
       " 9,\n",
       " 9,\n",
       " 9,\n",
       " 9,\n",
       " 9,\n",
       " 9,\n",
       " 9,\n",
       " 9,\n",
       " 9,\n",
       " 9,\n",
       " 9,\n",
       " 9,\n",
       " 9,\n",
       " 9,\n",
       " 9,\n",
       " 9,\n",
       " 9,\n",
       " 9,\n",
       " 9,\n",
       " 9,\n",
       " 9,\n",
       " 9,\n",
       " 9,\n",
       " 9,\n",
       " 9,\n",
       " 9,\n",
       " 9,\n",
       " 9,\n",
       " 9,\n",
       " 9,\n",
       " 9,\n",
       " 9,\n",
       " 9,\n",
       " 8,\n",
       " 8,\n",
       " 8,\n",
       " 8,\n",
       " 8,\n",
       " 8,\n",
       " 8,\n",
       " 8,\n",
       " 8,\n",
       " 8,\n",
       " 8,\n",
       " 8,\n",
       " 8,\n",
       " 8,\n",
       " 8,\n",
       " 8,\n",
       " 8,\n",
       " 8,\n",
       " 8,\n",
       " 8,\n",
       " 8,\n",
       " 8,\n",
       " 8,\n",
       " 8,\n",
       " 8,\n",
       " 8,\n",
       " 8,\n",
       " 8,\n",
       " 8,\n",
       " 8,\n",
       " 8,\n",
       " 8,\n",
       " 8,\n",
       " 8,\n",
       " 8,\n",
       " 8,\n",
       " 8,\n",
       " 8,\n",
       " 8,\n",
       " 8,\n",
       " 8,\n",
       " 8,\n",
       " 8,\n",
       " 8,\n",
       " 8,\n",
       " 8,\n",
       " 8,\n",
       " 8,\n",
       " 8,\n",
       " 8,\n",
       " 8,\n",
       " 8,\n",
       " 8,\n",
       " 8,\n",
       " 8,\n",
       " 8,\n",
       " 8,\n",
       " 8,\n",
       " 8,\n",
       " 8,\n",
       " 8,\n",
       " 8,\n",
       " 8,\n",
       " 8,\n",
       " 8,\n",
       " 8,\n",
       " 8,\n",
       " 8,\n",
       " 8,\n",
       " 8,\n",
       " 8,\n",
       " 8,\n",
       " 8,\n",
       " 8,\n",
       " 8,\n",
       " 8,\n",
       " 8,\n",
       " 8,\n",
       " 8,\n",
       " 8,\n",
       " 8,\n",
       " 8,\n",
       " 8,\n",
       " 8,\n",
       " 8,\n",
       " 8,\n",
       " 8,\n",
       " 8,\n",
       " 8,\n",
       " 8,\n",
       " 8,\n",
       " 8,\n",
       " 8,\n",
       " 8,\n",
       " 8,\n",
       " 8,\n",
       " 8,\n",
       " 8,\n",
       " 8,\n",
       " 8,\n",
       " 8,\n",
       " 8,\n",
       " 8,\n",
       " 8,\n",
       " 8,\n",
       " 8,\n",
       " 8,\n",
       " 8,\n",
       " 8,\n",
       " 8,\n",
       " 8,\n",
       " 8,\n",
       " 8,\n",
       " 8,\n",
       " 8,\n",
       " 8,\n",
       " 8,\n",
       " 8,\n",
       " 8,\n",
       " 8,\n",
       " 8,\n",
       " 8,\n",
       " 8,\n",
       " 8,\n",
       " 8,\n",
       " 8,\n",
       " 8,\n",
       " 8,\n",
       " 8,\n",
       " 8,\n",
       " 8,\n",
       " 8,\n",
       " 8,\n",
       " 8,\n",
       " 8,\n",
       " 8,\n",
       " 8,\n",
       " 8,\n",
       " 8,\n",
       " 7,\n",
       " 7,\n",
       " 7,\n",
       " 7,\n",
       " 7,\n",
       " 7,\n",
       " 7,\n",
       " 7,\n",
       " 7,\n",
       " 7,\n",
       " 7,\n",
       " 7,\n",
       " 7,\n",
       " 7,\n",
       " 7,\n",
       " 7,\n",
       " 7,\n",
       " 7,\n",
       " 7,\n",
       " 7,\n",
       " 7,\n",
       " 7,\n",
       " 7,\n",
       " 7,\n",
       " 7,\n",
       " 7,\n",
       " 7,\n",
       " 7,\n",
       " 7,\n",
       " 7,\n",
       " 7,\n",
       " 7,\n",
       " 7,\n",
       " 7,\n",
       " 7,\n",
       " 7,\n",
       " 7,\n",
       " 7,\n",
       " 7,\n",
       " 7,\n",
       " 7,\n",
       " 7,\n",
       " 7,\n",
       " 7,\n",
       " 7,\n",
       " 7,\n",
       " 7,\n",
       " 7,\n",
       " 7,\n",
       " 7,\n",
       " 7,\n",
       " 7,\n",
       " 7,\n",
       " 7,\n",
       " 7,\n",
       " 7,\n",
       " 7,\n",
       " 7,\n",
       " 7,\n",
       " 7,\n",
       " 7,\n",
       " 7,\n",
       " 7,\n",
       " 7,\n",
       " 7,\n",
       " 7,\n",
       " 7,\n",
       " 7,\n",
       " 7,\n",
       " 7,\n",
       " 7,\n",
       " 7,\n",
       " 7,\n",
       " 7,\n",
       " 7,\n",
       " 7,\n",
       " 7,\n",
       " 7,\n",
       " 7,\n",
       " 7,\n",
       " 7,\n",
       " 7,\n",
       " 7,\n",
       " 7,\n",
       " 7,\n",
       " 7,\n",
       " 7,\n",
       " 7,\n",
       " 7,\n",
       " 7,\n",
       " 7,\n",
       " 7,\n",
       " 7,\n",
       " 7,\n",
       " 7,\n",
       " 7,\n",
       " 7,\n",
       " 7,\n",
       " 7,\n",
       " 7,\n",
       " 7,\n",
       " 7,\n",
       " 7,\n",
       " 7,\n",
       " 7,\n",
       " 7,\n",
       " 7,\n",
       " 7,\n",
       " 7,\n",
       " 7,\n",
       " 7,\n",
       " 7,\n",
       " 7,\n",
       " 7,\n",
       " 7,\n",
       " 7,\n",
       " 7,\n",
       " 7,\n",
       " 7,\n",
       " 7,\n",
       " 7,\n",
       " 7,\n",
       " 7,\n",
       " 7,\n",
       " 7,\n",
       " 7,\n",
       " 7,\n",
       " 7,\n",
       " 7,\n",
       " 7,\n",
       " 7,\n",
       " 7,\n",
       " 7,\n",
       " 7,\n",
       " 7,\n",
       " 7,\n",
       " 7,\n",
       " 7,\n",
       " 7,\n",
       " 7,\n",
       " 7,\n",
       " 7,\n",
       " 7,\n",
       " 7,\n",
       " 7,\n",
       " 7,\n",
       " 7,\n",
       " 7,\n",
       " 7,\n",
       " 7,\n",
       " 7,\n",
       " 7,\n",
       " 7,\n",
       " 7,\n",
       " 7,\n",
       " 7,\n",
       " 7,\n",
       " 7,\n",
       " 7,\n",
       " 7,\n",
       " 7,\n",
       " 7,\n",
       " 7,\n",
       " 7,\n",
       " 7,\n",
       " 7,\n",
       " 7,\n",
       " 7,\n",
       " 7,\n",
       " 7,\n",
       " 7,\n",
       " 7,\n",
       " 7,\n",
       " 7,\n",
       " 7,\n",
       " 7,\n",
       " 7,\n",
       " 7,\n",
       " 7,\n",
       " 7,\n",
       " 7,\n",
       " 7,\n",
       " 7,\n",
       " 7,\n",
       " 7,\n",
       " 7,\n",
       " 7,\n",
       " 7,\n",
       " 7,\n",
       " 7,\n",
       " 7,\n",
       " 7,\n",
       " 7,\n",
       " 7,\n",
       " 7,\n",
       " 7,\n",
       " 7,\n",
       " 7,\n",
       " 7,\n",
       " 7,\n",
       " 7,\n",
       " 7,\n",
       " 7,\n",
       " 7,\n",
       " 7,\n",
       " 7,\n",
       " 7,\n",
       " 7,\n",
       " 7,\n",
       " 7,\n",
       " 7,\n",
       " 7,\n",
       " 7,\n",
       " 7,\n",
       " 7,\n",
       " 7,\n",
       " 7,\n",
       " 7,\n",
       " 7,\n",
       " 7,\n",
       " 7,\n",
       " 7,\n",
       " 7,\n",
       " 7,\n",
       " 7,\n",
       " 7,\n",
       " 7,\n",
       " 7,\n",
       " 7,\n",
       " 7,\n",
       " 7,\n",
       " 7,\n",
       " 7,\n",
       " 7,\n",
       " 7,\n",
       " 7,\n",
       " 7,\n",
       " 7,\n",
       " 7,\n",
       " 7,\n",
       " 7,\n",
       " 7,\n",
       " 7,\n",
       " 7,\n",
       " 7,\n",
       " 7,\n",
       " 7,\n",
       " 7,\n",
       " 7,\n",
       " 7,\n",
       " 7,\n",
       " 7,\n",
       " 6,\n",
       " 6,\n",
       " 6,\n",
       " 6,\n",
       " 6,\n",
       " 6,\n",
       " 6,\n",
       " 6,\n",
       " 6,\n",
       " 6,\n",
       " 6,\n",
       " 6,\n",
       " 6,\n",
       " 6,\n",
       " 6,\n",
       " 6,\n",
       " 6,\n",
       " 6,\n",
       " 6,\n",
       " 6,\n",
       " 6,\n",
       " 6,\n",
       " 6,\n",
       " 6,\n",
       " 6,\n",
       " 6,\n",
       " 6,\n",
       " 6,\n",
       " 6,\n",
       " 6,\n",
       " 6,\n",
       " 6,\n",
       " 6,\n",
       " 6,\n",
       " 6,\n",
       " 6,\n",
       " 6,\n",
       " 6,\n",
       " 6,\n",
       " 6,\n",
       " 6,\n",
       " 6,\n",
       " 6,\n",
       " 6,\n",
       " 6,\n",
       " 6,\n",
       " 6,\n",
       " 6,\n",
       " 6,\n",
       " 6,\n",
       " 6,\n",
       " 6,\n",
       " 6,\n",
       " 6,\n",
       " 6,\n",
       " 6,\n",
       " 6,\n",
       " 6,\n",
       " 6,\n",
       " 6,\n",
       " 6,\n",
       " 6,\n",
       " 6,\n",
       " 6,\n",
       " 6,\n",
       " 6,\n",
       " 6,\n",
       " 6,\n",
       " 6,\n",
       " 6,\n",
       " 6,\n",
       " 6,\n",
       " 6,\n",
       " 6,\n",
       " 6,\n",
       " 6,\n",
       " 6,\n",
       " 6,\n",
       " 6,\n",
       " 6,\n",
       " 6,\n",
       " 6,\n",
       " 6,\n",
       " 6,\n",
       " 6,\n",
       " 6,\n",
       " 6,\n",
       " 6,\n",
       " 6,\n",
       " 6,\n",
       " 6,\n",
       " 6,\n",
       " 6,\n",
       " 6,\n",
       " 6,\n",
       " 6,\n",
       " 6,\n",
       " 6,\n",
       " 6,\n",
       " 6,\n",
       " 6,\n",
       " 6,\n",
       " 6,\n",
       " 6,\n",
       " 6,\n",
       " 6,\n",
       " 6,\n",
       " 6,\n",
       " 6,\n",
       " 6,\n",
       " 6,\n",
       " 6,\n",
       " 6,\n",
       " 6,\n",
       " 6,\n",
       " 6,\n",
       " 6,\n",
       " 6,\n",
       " 6,\n",
       " 6,\n",
       " 6,\n",
       " 6,\n",
       " 6,\n",
       " 6,\n",
       " 6,\n",
       " 6,\n",
       " 6,\n",
       " 6,\n",
       " 6,\n",
       " 6,\n",
       " 6,\n",
       " 6,\n",
       " 6,\n",
       " 6,\n",
       " 6,\n",
       " 6,\n",
       " 6,\n",
       " 6,\n",
       " 6,\n",
       " 6,\n",
       " 6,\n",
       " 6,\n",
       " 6,\n",
       " 6,\n",
       " 6,\n",
       " 6,\n",
       " 6,\n",
       " 6,\n",
       " 6,\n",
       " 6,\n",
       " 6,\n",
       " 6,\n",
       " 6,\n",
       " 6,\n",
       " 6,\n",
       " 6,\n",
       " 6,\n",
       " 6,\n",
       " 6,\n",
       " 6,\n",
       " 6,\n",
       " 6,\n",
       " 6,\n",
       " 6,\n",
       " 6,\n",
       " 6,\n",
       " 6,\n",
       " 6,\n",
       " 6,\n",
       " 6,\n",
       " 6,\n",
       " 6,\n",
       " 6,\n",
       " 6,\n",
       " 6,\n",
       " 6,\n",
       " 6,\n",
       " 6,\n",
       " 6,\n",
       " 6,\n",
       " 6,\n",
       " 6,\n",
       " 6,\n",
       " 6,\n",
       " 6,\n",
       " 6,\n",
       " 6,\n",
       " 6,\n",
       " 6,\n",
       " 6,\n",
       " 6,\n",
       " 6,\n",
       " 6,\n",
       " 6,\n",
       " 6,\n",
       " 6,\n",
       " 6,\n",
       " 6,\n",
       " 6,\n",
       " 6,\n",
       " 6,\n",
       " 6,\n",
       " 6,\n",
       " 6,\n",
       " 6,\n",
       " 6,\n",
       " 6,\n",
       " 6,\n",
       " 6,\n",
       " 6,\n",
       " 6,\n",
       " 6,\n",
       " 6,\n",
       " 6,\n",
       " 6,\n",
       " 6,\n",
       " 6,\n",
       " 6,\n",
       " 6,\n",
       " 6,\n",
       " 6,\n",
       " 6,\n",
       " 6,\n",
       " 6,\n",
       " 6,\n",
       " 6,\n",
       " 6,\n",
       " 6,\n",
       " 6,\n",
       " 6,\n",
       " 6,\n",
       " 6,\n",
       " 6,\n",
       " 6,\n",
       " 6,\n",
       " 6,\n",
       " 6,\n",
       " 6,\n",
       " 6,\n",
       " 6,\n",
       " 6,\n",
       " 6,\n",
       " 6,\n",
       " 6,\n",
       " 6,\n",
       " 6,\n",
       " 6,\n",
       " 6,\n",
       " 6,\n",
       " 6,\n",
       " 6,\n",
       " 6,\n",
       " 6,\n",
       " 6,\n",
       " 6,\n",
       " 6,\n",
       " 6,\n",
       " 6,\n",
       " 6,\n",
       " 6,\n",
       " 6,\n",
       " 6,\n",
       " 6,\n",
       " 6,\n",
       " 6,\n",
       " 6,\n",
       " 6,\n",
       " 6,\n",
       " 6,\n",
       " 6,\n",
       " 6,\n",
       " 6,\n",
       " 6,\n",
       " 6,\n",
       " 6,\n",
       " 6,\n",
       " 6,\n",
       " 6,\n",
       " 6,\n",
       " 6,\n",
       " 6,\n",
       " 6,\n",
       " 6,\n",
       " ...]"
      ]
     },
     "execution_count": 19,
     "metadata": {},
     "output_type": "execute_result"
    }
   ],
   "source": [
    "sorted((d for n, d in N.degree()), reverse=True)"
   ]
  },
  {
   "cell_type": "markdown",
   "metadata": {},
   "source": [
    "# From GeoJSON to Multiplex Graph"
   ]
  },
  {
   "cell_type": "code",
   "execution_count": null,
   "metadata": {},
   "outputs": [],
   "source": []
  },
  {
   "cell_type": "code",
   "execution_count": null,
   "metadata": {},
   "outputs": [],
   "source": []
  },
  {
   "cell_type": "code",
   "execution_count": null,
   "metadata": {},
   "outputs": [],
   "source": [
    "TRAIN.nodes[\"5453b63455474a3362317f2d\"]"
   ]
  },
  {
   "cell_type": "markdown",
   "metadata": {},
   "source": [
    "# Summary of Multiplex Network Layers"
   ]
  },
  {
   "cell_type": "code",
   "execution_count": null,
   "metadata": {},
   "outputs": [],
   "source": [
    "CC_TRAIN = TRAIN.subgraph(max(nx.connected_components(TRAIN), key=len))\n",
    "CC_TRAM = TRAM.subgraph(max(nx.connected_components(TRAM), key=len))\n",
    "#CC_ROAD = ROAD.subgraph(max(nx.connected_components(ROAD), key=len)) #TODO: Fixed #ERRORE https://stackoverflow.com/questions/47283612/networkx-node-connected-component-not-implemented-for-directed-type\n",
    "CC_ROAD = ROAD.subgraph(max(nx.strongly_connected_components(ROAD), key=len))"
   ]
  },
  {
   "cell_type": "code",
   "execution_count": 8,
   "metadata": {},
   "outputs": [
    {
     "data": {
      "text/html": [
       "<div>\n",
       "<style scoped>\n",
       "    .dataframe tbody tr th:only-of-type {\n",
       "        vertical-align: middle;\n",
       "    }\n",
       "\n",
       "    .dataframe tbody tr th {\n",
       "        vertical-align: top;\n",
       "    }\n",
       "\n",
       "    .dataframe thead th {\n",
       "        text-align: right;\n",
       "    }\n",
       "</style>\n",
       "<table border=\"1\" class=\"dataframe\">\n",
       "  <thead>\n",
       "    <tr style=\"text-align: right;\">\n",
       "      <th></th>\n",
       "      <th>Nodes</th>\n",
       "      <th>Edges</th>\n",
       "      <th>Avg. Degree</th>\n",
       "      <th>Reference</th>\n",
       "    </tr>\n",
       "  </thead>\n",
       "  <tbody>\n",
       "    <tr>\n",
       "      <th>Metro</th>\n",
       "      <td>303</td>\n",
       "      <td>356</td>\n",
       "      <td>2.350</td>\n",
       "      <td>OSM</td>\n",
       "    </tr>\n",
       "    <tr>\n",
       "      <th>Train</th>\n",
       "      <td>241</td>\n",
       "      <td>244</td>\n",
       "      <td>2.025</td>\n",
       "      <td>OSM</td>\n",
       "    </tr>\n",
       "    <tr>\n",
       "      <th>Tram</th>\n",
       "      <td>144</td>\n",
       "      <td>140</td>\n",
       "      <td>1.944</td>\n",
       "      <td>OSM</td>\n",
       "    </tr>\n",
       "    <tr>\n",
       "      <th>Road</th>\n",
       "      <td>14804</td>\n",
       "      <td>22281</td>\n",
       "      <td>3.010</td>\n",
       "      <td>IGN</td>\n",
       "    </tr>\n",
       "  </tbody>\n",
       "</table>\n",
       "</div>"
      ],
      "text/plain": [
       "       Nodes  Edges  Avg. Degree Reference\n",
       "Metro    303    356        2.350       OSM\n",
       "Train    241    244        2.025       OSM\n",
       "Tram     144    140        1.944       OSM\n",
       "Road   14804  22281        3.010       IGN"
      ]
     },
     "execution_count": 8,
     "metadata": {},
     "output_type": "execute_result"
    }
   ],
   "source": [
    "summary_table = pd.DataFrame({\n",
    "    \"Nodes\" : [\n",
    "        len(METRO.nodes), \n",
    "        len(TRAIN.nodes),\n",
    "        len(TRAM.nodes),\n",
    "        len(ROAD.nodes)],\n",
    "    \"Edges\" : [\n",
    "        len(METRO.edges), \n",
    "        len(TRAIN.edges),\n",
    "        len(TRAM.edges),\n",
    "        len(ROAD.edges)],\n",
    "    \"Avg. Degree\" : [\n",
    "        round(sum(dict(METRO.degree()).values())/float(len(METRO)),3),\n",
    "        round(sum(dict(TRAIN.degree()).values())/float(len(TRAIN)),3),\n",
    "        round(sum(dict(TRAM.degree()).values())/float(len(TRAM)),3),\n",
    "        round(sum(dict(ROAD.degree()).values())/float(len(ROAD)),3)],\n",
    "    \"Reference\" : [\"OSM\", \"OSM\", \"OSM\", \"IGN\"]\n",
    "}, index=[\"Metro\", \"Train\", \"Tram\", \"Road\"])\n",
    "summary_table"
   ]
  },
  {
   "cell_type": "markdown",
   "metadata": {},
   "source": [
    "# Nodes distribution"
   ]
  },
  {
   "cell_type": "code",
   "execution_count": 9,
   "metadata": {},
   "outputs": [],
   "source": [
    "import kaleido"
   ]
  },
  {
   "cell_type": "code",
   "execution_count": 9,
   "metadata": {},
   "outputs": [
    {
     "data": {
      "application/vnd.plotly.v1+json": {
       "config": {
        "plotlyServerURL": "https://plot.ly"
       },
       "data": [
        {
         "labels": [
          "road",
          "metro",
          "train",
          "tram"
         ],
         "marker": {
          "colors": [
           "rgb(33, 75, 99)",
           "rgb(79, 129, 102)",
           "rgb(151, 179, 100)",
           "rgb(175, 49, 35)",
           "rgb(36, 73, 147)"
          ]
         },
         "pull": [
          0,
          0.2,
          0.2,
          0.2
         ],
         "type": "pie",
         "values": [
          14807,
          303,
          241,
          146
         ]
        }
       ],
       "layout": {
        "font": {
         "size": 18
        },
        "legend": {
         "title": {
          "text": "Layers"
         }
        },
        "template": {
         "data": {
          "bar": [
           {
            "error_x": {
             "color": "#2a3f5f"
            },
            "error_y": {
             "color": "#2a3f5f"
            },
            "marker": {
             "line": {
              "color": "#E5ECF6",
              "width": 0.5
             },
             "pattern": {
              "fillmode": "overlay",
              "size": 10,
              "solidity": 0.2
             }
            },
            "type": "bar"
           }
          ],
          "barpolar": [
           {
            "marker": {
             "line": {
              "color": "#E5ECF6",
              "width": 0.5
             },
             "pattern": {
              "fillmode": "overlay",
              "size": 10,
              "solidity": 0.2
             }
            },
            "type": "barpolar"
           }
          ],
          "carpet": [
           {
            "aaxis": {
             "endlinecolor": "#2a3f5f",
             "gridcolor": "white",
             "linecolor": "white",
             "minorgridcolor": "white",
             "startlinecolor": "#2a3f5f"
            },
            "baxis": {
             "endlinecolor": "#2a3f5f",
             "gridcolor": "white",
             "linecolor": "white",
             "minorgridcolor": "white",
             "startlinecolor": "#2a3f5f"
            },
            "type": "carpet"
           }
          ],
          "choropleth": [
           {
            "colorbar": {
             "outlinewidth": 0,
             "ticks": ""
            },
            "type": "choropleth"
           }
          ],
          "contour": [
           {
            "colorbar": {
             "outlinewidth": 0,
             "ticks": ""
            },
            "colorscale": [
             [
              0,
              "#0d0887"
             ],
             [
              0.1111111111111111,
              "#46039f"
             ],
             [
              0.2222222222222222,
              "#7201a8"
             ],
             [
              0.3333333333333333,
              "#9c179e"
             ],
             [
              0.4444444444444444,
              "#bd3786"
             ],
             [
              0.5555555555555556,
              "#d8576b"
             ],
             [
              0.6666666666666666,
              "#ed7953"
             ],
             [
              0.7777777777777778,
              "#fb9f3a"
             ],
             [
              0.8888888888888888,
              "#fdca26"
             ],
             [
              1,
              "#f0f921"
             ]
            ],
            "type": "contour"
           }
          ],
          "contourcarpet": [
           {
            "colorbar": {
             "outlinewidth": 0,
             "ticks": ""
            },
            "type": "contourcarpet"
           }
          ],
          "heatmap": [
           {
            "colorbar": {
             "outlinewidth": 0,
             "ticks": ""
            },
            "colorscale": [
             [
              0,
              "#0d0887"
             ],
             [
              0.1111111111111111,
              "#46039f"
             ],
             [
              0.2222222222222222,
              "#7201a8"
             ],
             [
              0.3333333333333333,
              "#9c179e"
             ],
             [
              0.4444444444444444,
              "#bd3786"
             ],
             [
              0.5555555555555556,
              "#d8576b"
             ],
             [
              0.6666666666666666,
              "#ed7953"
             ],
             [
              0.7777777777777778,
              "#fb9f3a"
             ],
             [
              0.8888888888888888,
              "#fdca26"
             ],
             [
              1,
              "#f0f921"
             ]
            ],
            "type": "heatmap"
           }
          ],
          "heatmapgl": [
           {
            "colorbar": {
             "outlinewidth": 0,
             "ticks": ""
            },
            "colorscale": [
             [
              0,
              "#0d0887"
             ],
             [
              0.1111111111111111,
              "#46039f"
             ],
             [
              0.2222222222222222,
              "#7201a8"
             ],
             [
              0.3333333333333333,
              "#9c179e"
             ],
             [
              0.4444444444444444,
              "#bd3786"
             ],
             [
              0.5555555555555556,
              "#d8576b"
             ],
             [
              0.6666666666666666,
              "#ed7953"
             ],
             [
              0.7777777777777778,
              "#fb9f3a"
             ],
             [
              0.8888888888888888,
              "#fdca26"
             ],
             [
              1,
              "#f0f921"
             ]
            ],
            "type": "heatmapgl"
           }
          ],
          "histogram": [
           {
            "marker": {
             "pattern": {
              "fillmode": "overlay",
              "size": 10,
              "solidity": 0.2
             }
            },
            "type": "histogram"
           }
          ],
          "histogram2d": [
           {
            "colorbar": {
             "outlinewidth": 0,
             "ticks": ""
            },
            "colorscale": [
             [
              0,
              "#0d0887"
             ],
             [
              0.1111111111111111,
              "#46039f"
             ],
             [
              0.2222222222222222,
              "#7201a8"
             ],
             [
              0.3333333333333333,
              "#9c179e"
             ],
             [
              0.4444444444444444,
              "#bd3786"
             ],
             [
              0.5555555555555556,
              "#d8576b"
             ],
             [
              0.6666666666666666,
              "#ed7953"
             ],
             [
              0.7777777777777778,
              "#fb9f3a"
             ],
             [
              0.8888888888888888,
              "#fdca26"
             ],
             [
              1,
              "#f0f921"
             ]
            ],
            "type": "histogram2d"
           }
          ],
          "histogram2dcontour": [
           {
            "colorbar": {
             "outlinewidth": 0,
             "ticks": ""
            },
            "colorscale": [
             [
              0,
              "#0d0887"
             ],
             [
              0.1111111111111111,
              "#46039f"
             ],
             [
              0.2222222222222222,
              "#7201a8"
             ],
             [
              0.3333333333333333,
              "#9c179e"
             ],
             [
              0.4444444444444444,
              "#bd3786"
             ],
             [
              0.5555555555555556,
              "#d8576b"
             ],
             [
              0.6666666666666666,
              "#ed7953"
             ],
             [
              0.7777777777777778,
              "#fb9f3a"
             ],
             [
              0.8888888888888888,
              "#fdca26"
             ],
             [
              1,
              "#f0f921"
             ]
            ],
            "type": "histogram2dcontour"
           }
          ],
          "mesh3d": [
           {
            "colorbar": {
             "outlinewidth": 0,
             "ticks": ""
            },
            "type": "mesh3d"
           }
          ],
          "parcoords": [
           {
            "line": {
             "colorbar": {
              "outlinewidth": 0,
              "ticks": ""
             }
            },
            "type": "parcoords"
           }
          ],
          "pie": [
           {
            "automargin": true,
            "type": "pie"
           }
          ],
          "scatter": [
           {
            "fillpattern": {
             "fillmode": "overlay",
             "size": 10,
             "solidity": 0.2
            },
            "type": "scatter"
           }
          ],
          "scatter3d": [
           {
            "line": {
             "colorbar": {
              "outlinewidth": 0,
              "ticks": ""
             }
            },
            "marker": {
             "colorbar": {
              "outlinewidth": 0,
              "ticks": ""
             }
            },
            "type": "scatter3d"
           }
          ],
          "scattercarpet": [
           {
            "marker": {
             "colorbar": {
              "outlinewidth": 0,
              "ticks": ""
             }
            },
            "type": "scattercarpet"
           }
          ],
          "scattergeo": [
           {
            "marker": {
             "colorbar": {
              "outlinewidth": 0,
              "ticks": ""
             }
            },
            "type": "scattergeo"
           }
          ],
          "scattergl": [
           {
            "marker": {
             "colorbar": {
              "outlinewidth": 0,
              "ticks": ""
             }
            },
            "type": "scattergl"
           }
          ],
          "scattermapbox": [
           {
            "marker": {
             "colorbar": {
              "outlinewidth": 0,
              "ticks": ""
             }
            },
            "type": "scattermapbox"
           }
          ],
          "scatterpolar": [
           {
            "marker": {
             "colorbar": {
              "outlinewidth": 0,
              "ticks": ""
             }
            },
            "type": "scatterpolar"
           }
          ],
          "scatterpolargl": [
           {
            "marker": {
             "colorbar": {
              "outlinewidth": 0,
              "ticks": ""
             }
            },
            "type": "scatterpolargl"
           }
          ],
          "scatterternary": [
           {
            "marker": {
             "colorbar": {
              "outlinewidth": 0,
              "ticks": ""
             }
            },
            "type": "scatterternary"
           }
          ],
          "surface": [
           {
            "colorbar": {
             "outlinewidth": 0,
             "ticks": ""
            },
            "colorscale": [
             [
              0,
              "#0d0887"
             ],
             [
              0.1111111111111111,
              "#46039f"
             ],
             [
              0.2222222222222222,
              "#7201a8"
             ],
             [
              0.3333333333333333,
              "#9c179e"
             ],
             [
              0.4444444444444444,
              "#bd3786"
             ],
             [
              0.5555555555555556,
              "#d8576b"
             ],
             [
              0.6666666666666666,
              "#ed7953"
             ],
             [
              0.7777777777777778,
              "#fb9f3a"
             ],
             [
              0.8888888888888888,
              "#fdca26"
             ],
             [
              1,
              "#f0f921"
             ]
            ],
            "type": "surface"
           }
          ],
          "table": [
           {
            "cells": {
             "fill": {
              "color": "#EBF0F8"
             },
             "line": {
              "color": "white"
             }
            },
            "header": {
             "fill": {
              "color": "#C8D4E3"
             },
             "line": {
              "color": "white"
             }
            },
            "type": "table"
           }
          ]
         },
         "layout": {
          "annotationdefaults": {
           "arrowcolor": "#2a3f5f",
           "arrowhead": 0,
           "arrowwidth": 1
          },
          "autotypenumbers": "strict",
          "coloraxis": {
           "colorbar": {
            "outlinewidth": 0,
            "ticks": ""
           }
          },
          "colorscale": {
           "diverging": [
            [
             0,
             "#8e0152"
            ],
            [
             0.1,
             "#c51b7d"
            ],
            [
             0.2,
             "#de77ae"
            ],
            [
             0.3,
             "#f1b6da"
            ],
            [
             0.4,
             "#fde0ef"
            ],
            [
             0.5,
             "#f7f7f7"
            ],
            [
             0.6,
             "#e6f5d0"
            ],
            [
             0.7,
             "#b8e186"
            ],
            [
             0.8,
             "#7fbc41"
            ],
            [
             0.9,
             "#4d9221"
            ],
            [
             1,
             "#276419"
            ]
           ],
           "sequential": [
            [
             0,
             "#0d0887"
            ],
            [
             0.1111111111111111,
             "#46039f"
            ],
            [
             0.2222222222222222,
             "#7201a8"
            ],
            [
             0.3333333333333333,
             "#9c179e"
            ],
            [
             0.4444444444444444,
             "#bd3786"
            ],
            [
             0.5555555555555556,
             "#d8576b"
            ],
            [
             0.6666666666666666,
             "#ed7953"
            ],
            [
             0.7777777777777778,
             "#fb9f3a"
            ],
            [
             0.8888888888888888,
             "#fdca26"
            ],
            [
             1,
             "#f0f921"
            ]
           ],
           "sequentialminus": [
            [
             0,
             "#0d0887"
            ],
            [
             0.1111111111111111,
             "#46039f"
            ],
            [
             0.2222222222222222,
             "#7201a8"
            ],
            [
             0.3333333333333333,
             "#9c179e"
            ],
            [
             0.4444444444444444,
             "#bd3786"
            ],
            [
             0.5555555555555556,
             "#d8576b"
            ],
            [
             0.6666666666666666,
             "#ed7953"
            ],
            [
             0.7777777777777778,
             "#fb9f3a"
            ],
            [
             0.8888888888888888,
             "#fdca26"
            ],
            [
             1,
             "#f0f921"
            ]
           ]
          },
          "colorway": [
           "#636efa",
           "#EF553B",
           "#00cc96",
           "#ab63fa",
           "#FFA15A",
           "#19d3f3",
           "#FF6692",
           "#B6E880",
           "#FF97FF",
           "#FECB52"
          ],
          "font": {
           "color": "#2a3f5f"
          },
          "geo": {
           "bgcolor": "white",
           "lakecolor": "white",
           "landcolor": "#E5ECF6",
           "showlakes": true,
           "showland": true,
           "subunitcolor": "white"
          },
          "hoverlabel": {
           "align": "left"
          },
          "hovermode": "closest",
          "mapbox": {
           "style": "light"
          },
          "paper_bgcolor": "white",
          "plot_bgcolor": "#E5ECF6",
          "polar": {
           "angularaxis": {
            "gridcolor": "white",
            "linecolor": "white",
            "ticks": ""
           },
           "bgcolor": "#E5ECF6",
           "radialaxis": {
            "gridcolor": "white",
            "linecolor": "white",
            "ticks": ""
           }
          },
          "scene": {
           "xaxis": {
            "backgroundcolor": "#E5ECF6",
            "gridcolor": "white",
            "gridwidth": 2,
            "linecolor": "white",
            "showbackground": true,
            "ticks": "",
            "zerolinecolor": "white"
           },
           "yaxis": {
            "backgroundcolor": "#E5ECF6",
            "gridcolor": "white",
            "gridwidth": 2,
            "linecolor": "white",
            "showbackground": true,
            "ticks": "",
            "zerolinecolor": "white"
           },
           "zaxis": {
            "backgroundcolor": "#E5ECF6",
            "gridcolor": "white",
            "gridwidth": 2,
            "linecolor": "white",
            "showbackground": true,
            "ticks": "",
            "zerolinecolor": "white"
           }
          },
          "shapedefaults": {
           "line": {
            "color": "#2a3f5f"
           }
          },
          "ternary": {
           "aaxis": {
            "gridcolor": "white",
            "linecolor": "white",
            "ticks": ""
           },
           "baxis": {
            "gridcolor": "white",
            "linecolor": "white",
            "ticks": ""
           },
           "bgcolor": "#E5ECF6",
           "caxis": {
            "gridcolor": "white",
            "linecolor": "white",
            "ticks": ""
           }
          },
          "title": {
           "x": 0.05
          },
          "xaxis": {
           "automargin": true,
           "gridcolor": "white",
           "linecolor": "white",
           "ticks": "",
           "title": {
            "standoff": 15
           },
           "zerolinecolor": "white",
           "zerolinewidth": 2
          },
          "yaxis": {
           "automargin": true,
           "gridcolor": "white",
           "linecolor": "white",
           "ticks": "",
           "title": {
            "standoff": 15
           },
           "zerolinecolor": "white",
           "zerolinewidth": 2
          }
         }
        }
       }
      }
     },
     "metadata": {},
     "output_type": "display_data"
    }
   ],
   "source": [
    "DF = df.loc[df['LP'] == \"Point\"]\n",
    "DF = DF.drop_duplicates(subset=\"ID\")\n",
    "\n",
    "fig = go.Figure()\n",
    "fig.add_trace(go.Pie(\n",
    "    labels=DF.groupby('layer')['layer'].count().sort_values(ascending=False).index.tolist(),\n",
    "    values=DF.groupby('layer')['layer'].count().sort_values(ascending=False).values.tolist(),\n",
    "    marker_colors=['rgb(33, 75, 99)', 'rgb(79, 129, 102)', 'rgb(151, 179, 100)',\n",
    "                 'rgb(175, 49, 35)', 'rgb(36, 73, 147)'], \n",
    "    pull=[0, 0.2, 0.2, 0.2])\n",
    ")\n",
    "fig.update_layout(\n",
    "    legend_title=\"Layers\",\n",
    "    font=dict(\n",
    "        size=18\n",
    "    )\n",
    ")\n",
    "fig\n",
    "#fig.write_image(\"nodes.png\")"
   ]
  },
  {
   "cell_type": "code",
   "execution_count": 10,
   "metadata": {},
   "outputs": [
    {
     "data": {
      "application/vnd.plotly.v1+json": {
       "config": {
        "plotlyServerURL": "https://plot.ly"
       },
       "data": [
        {
         "labels": [
          "road",
          "crosslayer",
          "metro",
          "train",
          "tram"
         ],
         "marker": {
          "colors": [
           "rgb(33, 75, 99)",
           "rgb(79, 129, 102)",
           "rgb(151, 179, 100)",
           "rgb(175, 49, 35)",
           "rgb(36, 73, 147)"
          ]
         },
         "pull": [
          0,
          0.1,
          0,
          0,
          0
         ],
         "type": "pie",
         "values": [
          22357,
          4071,
          367,
          246,
          140
         ]
        }
       ],
       "layout": {
        "font": {
         "size": 18
        },
        "legend": {
         "title": {
          "text": "Layers"
         }
        },
        "template": {
         "data": {
          "bar": [
           {
            "error_x": {
             "color": "#2a3f5f"
            },
            "error_y": {
             "color": "#2a3f5f"
            },
            "marker": {
             "line": {
              "color": "#E5ECF6",
              "width": 0.5
             },
             "pattern": {
              "fillmode": "overlay",
              "size": 10,
              "solidity": 0.2
             }
            },
            "type": "bar"
           }
          ],
          "barpolar": [
           {
            "marker": {
             "line": {
              "color": "#E5ECF6",
              "width": 0.5
             },
             "pattern": {
              "fillmode": "overlay",
              "size": 10,
              "solidity": 0.2
             }
            },
            "type": "barpolar"
           }
          ],
          "carpet": [
           {
            "aaxis": {
             "endlinecolor": "#2a3f5f",
             "gridcolor": "white",
             "linecolor": "white",
             "minorgridcolor": "white",
             "startlinecolor": "#2a3f5f"
            },
            "baxis": {
             "endlinecolor": "#2a3f5f",
             "gridcolor": "white",
             "linecolor": "white",
             "minorgridcolor": "white",
             "startlinecolor": "#2a3f5f"
            },
            "type": "carpet"
           }
          ],
          "choropleth": [
           {
            "colorbar": {
             "outlinewidth": 0,
             "ticks": ""
            },
            "type": "choropleth"
           }
          ],
          "contour": [
           {
            "colorbar": {
             "outlinewidth": 0,
             "ticks": ""
            },
            "colorscale": [
             [
              0,
              "#0d0887"
             ],
             [
              0.1111111111111111,
              "#46039f"
             ],
             [
              0.2222222222222222,
              "#7201a8"
             ],
             [
              0.3333333333333333,
              "#9c179e"
             ],
             [
              0.4444444444444444,
              "#bd3786"
             ],
             [
              0.5555555555555556,
              "#d8576b"
             ],
             [
              0.6666666666666666,
              "#ed7953"
             ],
             [
              0.7777777777777778,
              "#fb9f3a"
             ],
             [
              0.8888888888888888,
              "#fdca26"
             ],
             [
              1,
              "#f0f921"
             ]
            ],
            "type": "contour"
           }
          ],
          "contourcarpet": [
           {
            "colorbar": {
             "outlinewidth": 0,
             "ticks": ""
            },
            "type": "contourcarpet"
           }
          ],
          "heatmap": [
           {
            "colorbar": {
             "outlinewidth": 0,
             "ticks": ""
            },
            "colorscale": [
             [
              0,
              "#0d0887"
             ],
             [
              0.1111111111111111,
              "#46039f"
             ],
             [
              0.2222222222222222,
              "#7201a8"
             ],
             [
              0.3333333333333333,
              "#9c179e"
             ],
             [
              0.4444444444444444,
              "#bd3786"
             ],
             [
              0.5555555555555556,
              "#d8576b"
             ],
             [
              0.6666666666666666,
              "#ed7953"
             ],
             [
              0.7777777777777778,
              "#fb9f3a"
             ],
             [
              0.8888888888888888,
              "#fdca26"
             ],
             [
              1,
              "#f0f921"
             ]
            ],
            "type": "heatmap"
           }
          ],
          "heatmapgl": [
           {
            "colorbar": {
             "outlinewidth": 0,
             "ticks": ""
            },
            "colorscale": [
             [
              0,
              "#0d0887"
             ],
             [
              0.1111111111111111,
              "#46039f"
             ],
             [
              0.2222222222222222,
              "#7201a8"
             ],
             [
              0.3333333333333333,
              "#9c179e"
             ],
             [
              0.4444444444444444,
              "#bd3786"
             ],
             [
              0.5555555555555556,
              "#d8576b"
             ],
             [
              0.6666666666666666,
              "#ed7953"
             ],
             [
              0.7777777777777778,
              "#fb9f3a"
             ],
             [
              0.8888888888888888,
              "#fdca26"
             ],
             [
              1,
              "#f0f921"
             ]
            ],
            "type": "heatmapgl"
           }
          ],
          "histogram": [
           {
            "marker": {
             "pattern": {
              "fillmode": "overlay",
              "size": 10,
              "solidity": 0.2
             }
            },
            "type": "histogram"
           }
          ],
          "histogram2d": [
           {
            "colorbar": {
             "outlinewidth": 0,
             "ticks": ""
            },
            "colorscale": [
             [
              0,
              "#0d0887"
             ],
             [
              0.1111111111111111,
              "#46039f"
             ],
             [
              0.2222222222222222,
              "#7201a8"
             ],
             [
              0.3333333333333333,
              "#9c179e"
             ],
             [
              0.4444444444444444,
              "#bd3786"
             ],
             [
              0.5555555555555556,
              "#d8576b"
             ],
             [
              0.6666666666666666,
              "#ed7953"
             ],
             [
              0.7777777777777778,
              "#fb9f3a"
             ],
             [
              0.8888888888888888,
              "#fdca26"
             ],
             [
              1,
              "#f0f921"
             ]
            ],
            "type": "histogram2d"
           }
          ],
          "histogram2dcontour": [
           {
            "colorbar": {
             "outlinewidth": 0,
             "ticks": ""
            },
            "colorscale": [
             [
              0,
              "#0d0887"
             ],
             [
              0.1111111111111111,
              "#46039f"
             ],
             [
              0.2222222222222222,
              "#7201a8"
             ],
             [
              0.3333333333333333,
              "#9c179e"
             ],
             [
              0.4444444444444444,
              "#bd3786"
             ],
             [
              0.5555555555555556,
              "#d8576b"
             ],
             [
              0.6666666666666666,
              "#ed7953"
             ],
             [
              0.7777777777777778,
              "#fb9f3a"
             ],
             [
              0.8888888888888888,
              "#fdca26"
             ],
             [
              1,
              "#f0f921"
             ]
            ],
            "type": "histogram2dcontour"
           }
          ],
          "mesh3d": [
           {
            "colorbar": {
             "outlinewidth": 0,
             "ticks": ""
            },
            "type": "mesh3d"
           }
          ],
          "parcoords": [
           {
            "line": {
             "colorbar": {
              "outlinewidth": 0,
              "ticks": ""
             }
            },
            "type": "parcoords"
           }
          ],
          "pie": [
           {
            "automargin": true,
            "type": "pie"
           }
          ],
          "scatter": [
           {
            "fillpattern": {
             "fillmode": "overlay",
             "size": 10,
             "solidity": 0.2
            },
            "type": "scatter"
           }
          ],
          "scatter3d": [
           {
            "line": {
             "colorbar": {
              "outlinewidth": 0,
              "ticks": ""
             }
            },
            "marker": {
             "colorbar": {
              "outlinewidth": 0,
              "ticks": ""
             }
            },
            "type": "scatter3d"
           }
          ],
          "scattercarpet": [
           {
            "marker": {
             "colorbar": {
              "outlinewidth": 0,
              "ticks": ""
             }
            },
            "type": "scattercarpet"
           }
          ],
          "scattergeo": [
           {
            "marker": {
             "colorbar": {
              "outlinewidth": 0,
              "ticks": ""
             }
            },
            "type": "scattergeo"
           }
          ],
          "scattergl": [
           {
            "marker": {
             "colorbar": {
              "outlinewidth": 0,
              "ticks": ""
             }
            },
            "type": "scattergl"
           }
          ],
          "scattermapbox": [
           {
            "marker": {
             "colorbar": {
              "outlinewidth": 0,
              "ticks": ""
             }
            },
            "type": "scattermapbox"
           }
          ],
          "scatterpolar": [
           {
            "marker": {
             "colorbar": {
              "outlinewidth": 0,
              "ticks": ""
             }
            },
            "type": "scatterpolar"
           }
          ],
          "scatterpolargl": [
           {
            "marker": {
             "colorbar": {
              "outlinewidth": 0,
              "ticks": ""
             }
            },
            "type": "scatterpolargl"
           }
          ],
          "scatterternary": [
           {
            "marker": {
             "colorbar": {
              "outlinewidth": 0,
              "ticks": ""
             }
            },
            "type": "scatterternary"
           }
          ],
          "surface": [
           {
            "colorbar": {
             "outlinewidth": 0,
             "ticks": ""
            },
            "colorscale": [
             [
              0,
              "#0d0887"
             ],
             [
              0.1111111111111111,
              "#46039f"
             ],
             [
              0.2222222222222222,
              "#7201a8"
             ],
             [
              0.3333333333333333,
              "#9c179e"
             ],
             [
              0.4444444444444444,
              "#bd3786"
             ],
             [
              0.5555555555555556,
              "#d8576b"
             ],
             [
              0.6666666666666666,
              "#ed7953"
             ],
             [
              0.7777777777777778,
              "#fb9f3a"
             ],
             [
              0.8888888888888888,
              "#fdca26"
             ],
             [
              1,
              "#f0f921"
             ]
            ],
            "type": "surface"
           }
          ],
          "table": [
           {
            "cells": {
             "fill": {
              "color": "#EBF0F8"
             },
             "line": {
              "color": "white"
             }
            },
            "header": {
             "fill": {
              "color": "#C8D4E3"
             },
             "line": {
              "color": "white"
             }
            },
            "type": "table"
           }
          ]
         },
         "layout": {
          "annotationdefaults": {
           "arrowcolor": "#2a3f5f",
           "arrowhead": 0,
           "arrowwidth": 1
          },
          "autotypenumbers": "strict",
          "coloraxis": {
           "colorbar": {
            "outlinewidth": 0,
            "ticks": ""
           }
          },
          "colorscale": {
           "diverging": [
            [
             0,
             "#8e0152"
            ],
            [
             0.1,
             "#c51b7d"
            ],
            [
             0.2,
             "#de77ae"
            ],
            [
             0.3,
             "#f1b6da"
            ],
            [
             0.4,
             "#fde0ef"
            ],
            [
             0.5,
             "#f7f7f7"
            ],
            [
             0.6,
             "#e6f5d0"
            ],
            [
             0.7,
             "#b8e186"
            ],
            [
             0.8,
             "#7fbc41"
            ],
            [
             0.9,
             "#4d9221"
            ],
            [
             1,
             "#276419"
            ]
           ],
           "sequential": [
            [
             0,
             "#0d0887"
            ],
            [
             0.1111111111111111,
             "#46039f"
            ],
            [
             0.2222222222222222,
             "#7201a8"
            ],
            [
             0.3333333333333333,
             "#9c179e"
            ],
            [
             0.4444444444444444,
             "#bd3786"
            ],
            [
             0.5555555555555556,
             "#d8576b"
            ],
            [
             0.6666666666666666,
             "#ed7953"
            ],
            [
             0.7777777777777778,
             "#fb9f3a"
            ],
            [
             0.8888888888888888,
             "#fdca26"
            ],
            [
             1,
             "#f0f921"
            ]
           ],
           "sequentialminus": [
            [
             0,
             "#0d0887"
            ],
            [
             0.1111111111111111,
             "#46039f"
            ],
            [
             0.2222222222222222,
             "#7201a8"
            ],
            [
             0.3333333333333333,
             "#9c179e"
            ],
            [
             0.4444444444444444,
             "#bd3786"
            ],
            [
             0.5555555555555556,
             "#d8576b"
            ],
            [
             0.6666666666666666,
             "#ed7953"
            ],
            [
             0.7777777777777778,
             "#fb9f3a"
            ],
            [
             0.8888888888888888,
             "#fdca26"
            ],
            [
             1,
             "#f0f921"
            ]
           ]
          },
          "colorway": [
           "#636efa",
           "#EF553B",
           "#00cc96",
           "#ab63fa",
           "#FFA15A",
           "#19d3f3",
           "#FF6692",
           "#B6E880",
           "#FF97FF",
           "#FECB52"
          ],
          "font": {
           "color": "#2a3f5f"
          },
          "geo": {
           "bgcolor": "white",
           "lakecolor": "white",
           "landcolor": "#E5ECF6",
           "showlakes": true,
           "showland": true,
           "subunitcolor": "white"
          },
          "hoverlabel": {
           "align": "left"
          },
          "hovermode": "closest",
          "mapbox": {
           "style": "light"
          },
          "paper_bgcolor": "white",
          "plot_bgcolor": "#E5ECF6",
          "polar": {
           "angularaxis": {
            "gridcolor": "white",
            "linecolor": "white",
            "ticks": ""
           },
           "bgcolor": "#E5ECF6",
           "radialaxis": {
            "gridcolor": "white",
            "linecolor": "white",
            "ticks": ""
           }
          },
          "scene": {
           "xaxis": {
            "backgroundcolor": "#E5ECF6",
            "gridcolor": "white",
            "gridwidth": 2,
            "linecolor": "white",
            "showbackground": true,
            "ticks": "",
            "zerolinecolor": "white"
           },
           "yaxis": {
            "backgroundcolor": "#E5ECF6",
            "gridcolor": "white",
            "gridwidth": 2,
            "linecolor": "white",
            "showbackground": true,
            "ticks": "",
            "zerolinecolor": "white"
           },
           "zaxis": {
            "backgroundcolor": "#E5ECF6",
            "gridcolor": "white",
            "gridwidth": 2,
            "linecolor": "white",
            "showbackground": true,
            "ticks": "",
            "zerolinecolor": "white"
           }
          },
          "shapedefaults": {
           "line": {
            "color": "#2a3f5f"
           }
          },
          "ternary": {
           "aaxis": {
            "gridcolor": "white",
            "linecolor": "white",
            "ticks": ""
           },
           "baxis": {
            "gridcolor": "white",
            "linecolor": "white",
            "ticks": ""
           },
           "bgcolor": "#E5ECF6",
           "caxis": {
            "gridcolor": "white",
            "linecolor": "white",
            "ticks": ""
           }
          },
          "title": {
           "x": 0.05
          },
          "xaxis": {
           "automargin": true,
           "gridcolor": "white",
           "linecolor": "white",
           "ticks": "",
           "title": {
            "standoff": 15
           },
           "zerolinecolor": "white",
           "zerolinewidth": 2
          },
          "yaxis": {
           "automargin": true,
           "gridcolor": "white",
           "linecolor": "white",
           "ticks": "",
           "title": {
            "standoff": 15
           },
           "zerolinecolor": "white",
           "zerolinewidth": 2
          }
         }
        }
       }
      }
     },
     "metadata": {},
     "output_type": "display_data"
    }
   ],
   "source": [
    "DF = df.loc[df['LP'] == \"LineString\"]\n",
    "DF = DF.drop_duplicates(subset=\"ID\")\n",
    "\n",
    "fig = go.Figure()\n",
    "fig.add_trace(go.Pie(\n",
    "    labels=DF.groupby('layer')['layer'].count().sort_values(ascending=False).index.tolist(),\n",
    "    values=DF.groupby('layer')['layer'].count().sort_values(ascending=False).values.tolist(),\n",
    "    marker_colors=['rgb(33, 75, 99)', 'rgb(79, 129, 102)', 'rgb(151, 179, 100)',\n",
    "                 'rgb(175, 49, 35)', 'rgb(36, 73, 147)'], \n",
    "    pull=[0, 0.1, 0, 0, 0])\n",
    ")\n",
    "fig.update_layout(\n",
    "    legend_title=\"Layers\",\n",
    "    font=dict(\n",
    "        size=18\n",
    "    )\n",
    ")\n",
    "fig\n",
    "#fig.write_image(\"edges.png\")"
   ]
  },
  {
   "cell_type": "markdown",
   "metadata": {},
   "source": [
    "# 3D Plot of Layers"
   ]
  },
  {
   "cell_type": "code",
   "execution_count": 11,
   "metadata": {},
   "outputs": [
    {
     "data": {
      "image/png": "[encoded data removed]",
      "text/plain": [
       "<Figure size 432x288 with 1 Axes>"
      ]
     },
     "metadata": {
      "needs_background": "light"
     },
     "output_type": "display_data"
    }
   ],
   "source": [
    "mpl.rcParams['figure.dpi'] = 300\n",
    "class LayeredNetworkGraph(object):\n",
    "\n",
    "    def __init__(self, graphs, node_labels=None, layout=nx.spring_layout, ax=None):\n",
    "        \"\"\"Given an ordered list of graphs [g1, g2, ..., gn] that represent\n",
    "        different layers in a multi-layer network, plot the network in\n",
    "        3D with the different layers separated along the z-axis.\n",
    "\n",
    "        Within a layer, the corresponding graph defines the connectivity.\n",
    "        Between layers, nodes in subsequent layers are connected if\n",
    "        they have the same node ID.\n",
    "\n",
    "        Arguments:\n",
    "        ----------\n",
    "        graphs : list of networkx.Graph objects\n",
    "            List of graphs, one for each layer.\n",
    "\n",
    "        node_labels : dict node ID : str label or None (default None)\n",
    "            Dictionary mapping nodes to labels.\n",
    "            If None is provided, nodes are not labelled.\n",
    "\n",
    "        layout_func : function handle (default networkx.spring_layout)\n",
    "            Function used to compute the layout.\n",
    "\n",
    "        ax : mpl_toolkits.mplot3d.Axes3d instance or None (default None)\n",
    "            The axis to plot to. If None is given, a new figure and a new axis are created.\n",
    "\n",
    "        \"\"\"\n",
    "\n",
    "        # book-keeping\n",
    "        self.graphs = graphs\n",
    "        self.total_layers = len(graphs)\n",
    "\n",
    "        self.node_labels = node_labels\n",
    "        self.layout = layout\n",
    "\n",
    "        if ax:\n",
    "            self.ax = ax\n",
    "        else:\n",
    "            fig = plt.figure()\n",
    "            self.ax = fig.add_subplot(111, projection='3d')\n",
    "\n",
    "        # create internal representation of nodes and edges\n",
    "        self.get_nodes()\n",
    "        self.get_edges_within_layers()\n",
    "        self.get_edges_between_layers()\n",
    "\n",
    "        # compute layout and plot\n",
    "        self.get_node_positions()\n",
    "        self.draw()\n",
    "\n",
    "\n",
    "    def get_nodes(self):\n",
    "        \"\"\"Construct an internal representation of nodes with the format (node ID, layer).\"\"\"\n",
    "        self.nodes = []\n",
    "        for z, g in enumerate(self.graphs):\n",
    "            self.nodes.extend([(node, z) for node in g.nodes()])\n",
    "\n",
    "\n",
    "    def get_edges_within_layers(self):\n",
    "        \"\"\"Remap edges in the individual layers to the internal representations of the node IDs.\"\"\"\n",
    "        self.edges_within_layers = []\n",
    "        for z, g in enumerate(self.graphs):\n",
    "            self.edges_within_layers.extend([((source, z), (target, z)) for source, target in g.edges()])\n",
    "\n",
    "\n",
    "    def get_edges_between_layers(self):\n",
    "        \"\"\"Determine edges between layers. Nodes in subsequent layers are\n",
    "        thought to be connected if they have the same ID.\"\"\"\n",
    "        self.edges_between_layers = []\n",
    "        for z1, g in enumerate(self.graphs[:-1]):\n",
    "            z2 = z1 + 1\n",
    "            h = self.graphs[z2]\n",
    "            shared_nodes = set(g.nodes()) & set(h.nodes())\n",
    "            self.edges_between_layers.extend([((node, z1), (node, z2)) for node in shared_nodes])\n",
    "\n",
    "\n",
    "    def get_node_positions(self, *args, **kwargs):\n",
    "        \"\"\"Get the node positions in the layered layout.\"\"\"\n",
    "        # What we would like to do, is apply the layout function to a combined, layered network.\n",
    "        # However, networkx layout functions are not implemented for the multi-dimensional case.\n",
    "        # Futhermore, even if there was such a layout function, there probably would be no straightforward way to\n",
    "        # specify the planarity requirement for nodes within a layer.\n",
    "        # Therefor, we compute the layout for the full network in 2D, and then apply the\n",
    "        # positions to the nodes in all planes.\n",
    "        # For a force-directed layout, this will approximately do the right thing.\n",
    "        # TODO: implement FR in 3D with layer constraints.\n",
    "\n",
    "        composition = self.graphs[0]\n",
    "        for h in self.graphs[1:]:\n",
    "            composition = nx.compose(composition, h)\n",
    "\n",
    "        pos = self.layout(composition, *args, **kwargs)\n",
    "\n",
    "        self.node_positions = dict()\n",
    "        for z, g in enumerate(self.graphs):\n",
    "            self.node_positions.update({(node, z) : (*pos[node], z) for node in g.nodes()})\n",
    "\n",
    "\n",
    "    def draw_nodes(self, nodes, *args, **kwargs):\n",
    "        x, y, z = zip(*[self.node_positions[node] for node in nodes])\n",
    "        self.ax.scatter(x, y, z, *args, **kwargs)\n",
    "\n",
    "\n",
    "    def draw_edges(self, edges, *args, **kwargs):\n",
    "        segments = [(self.node_positions[source], self.node_positions[target]) for source, target in edges]\n",
    "        line_collection = Line3DCollection(segments, *args, **kwargs)\n",
    "        self.ax.add_collection3d(line_collection)\n",
    "\n",
    "\n",
    "    def get_extent(self, pad=0.1):\n",
    "        xyz = np.array(list(self.node_positions.values()))\n",
    "        xmin, ymin, _ = np.min(xyz, axis=0)\n",
    "        xmax, ymax, _ = np.max(xyz, axis=0)\n",
    "        dx = xmax - xmin\n",
    "        dy = ymax - ymin\n",
    "        return (xmin - pad * dx, xmax + pad * dx), \\\n",
    "            (ymin - pad * dy, ymax + pad * dy)\n",
    "\n",
    "\n",
    "    def draw_plane(self, z, *args, **kwargs):\n",
    "        (xmin, xmax), (ymin, ymax) = self.get_extent(pad=0.1)\n",
    "        u = np.linspace(xmin, xmax, 10)\n",
    "        v = np.linspace(ymin, ymax, 10)\n",
    "        U, V = np.meshgrid(u ,v)\n",
    "        W = z * np.ones_like(U)\n",
    "        self.ax.plot_surface(U, V, W, *args, **kwargs)\n",
    "\n",
    "\n",
    "    def draw_node_labels(self, node_labels, *args, **kwargs):\n",
    "        for node, z in self.nodes:\n",
    "            if node in node_labels:\n",
    "                ax.text(*self.node_positions[(node, z)], node_labels[node], *args, **kwargs)\n",
    "\n",
    "\n",
    "    def draw(self):\n",
    "\n",
    "        self.draw_edges(self.edges_within_layers,  color='k', alpha=0.3, linestyle='-', zorder=2)\n",
    "        self.draw_edges(self.edges_between_layers, color='k', alpha=0.3, linestyle='--', zorder=2)\n",
    "\n",
    "        for z in range(self.total_layers):\n",
    "            self.draw_plane(z, alpha=0.2, zorder=1)\n",
    "            self.draw_nodes([node for node in self.nodes if node[1]==z], s=5, zorder=3)\n",
    "\n",
    "        if self.node_labels:\n",
    "            self.draw_node_labels(self.node_labels,\n",
    "                                  horizontalalignment='center',\n",
    "                                  verticalalignment='center',\n",
    "                                  zorder=100)\n",
    "\n",
    "\n",
    "if __name__ == '__main__':\n",
    "\n",
    "    # define graphs\n",
    "    n = 5\n",
    "    g = METRO\n",
    "    h = TRAIN\n",
    "    i = TRAM\n",
    "\n",
    "    node_labels = {nn : str(nn) for nn in range(4*n)}\n",
    "\n",
    "    # initialise figure and plot\n",
    "    fig = plt.figure()\n",
    "    ax = fig.add_subplot(111, projection='3d')\n",
    "    LayeredNetworkGraph([g, h, i], ax=ax, layout=graphviz_layout) # graphviz\n",
    "    ax.set_axis_off()\n",
    "    plt.show()"
   ]
  },
  {
   "cell_type": "code",
   "execution_count": null,
   "metadata": {},
   "outputs": [],
   "source": [
    "pd.DataFrame.from_dict(dict(METRO.nodes(data=True)), orient='index')"
   ]
  },
  {
   "cell_type": "code",
   "execution_count": 22,
   "metadata": {},
   "outputs": [
    {
     "name": "stdout",
     "output_type": "stream",
     "text": [
      "HEllo\n"
     ]
    }
   ],
   "source": [
    "print(\"HEllo\")"
   ]
  },
  {
   "cell_type": "code",
   "execution_count": null,
   "metadata": {},
   "outputs": [],
   "source": [
    "metro_df = TransportMap(METRO, TRAIN, TRAM).edges2df(METRO)\n",
    "train_df = TransportMap(METRO, TRAIN, TRAM).edges2df(TRAIN)\n",
    "tram_df = TransportMap(METRO, TRAIN, TRAM).edges2df(TRAM)"
   ]
  },
  {
   "cell_type": "code",
   "execution_count": null,
   "metadata": {},
   "outputs": [],
   "source": [
    "train_df"
   ]
  },
  {
   "cell_type": "code",
   "execution_count": null,
   "metadata": {},
   "outputs": [],
   "source": [
    "TransportMap(METRO, TRAIN, TRAM).drawMap(line_width=3)"
   ]
  },
  {
   "cell_type": "code",
   "execution_count": null,
   "metadata": {},
   "outputs": [],
   "source": [
    "#[[2.50806859096, 48.7709967645], [2.50534535329, 48.7530423598]]\n",
    "ParisTransportation().MapMaker(df).calculate_distance(2.50806859096, 48.7709967645, 2.50534535329, 48.7530423598)"
   ]
  },
  {
   "cell_type": "code",
   "execution_count": null,
   "metadata": {},
   "outputs": [],
   "source": [
    "m = mx.multiplex()\n",
    "m.summary()"
   ]
  },
  {
   "cell_type": "code",
   "execution_count": null,
   "metadata": {},
   "outputs": [],
   "source": [
    "m.add_layers({'metro'   : METRO,\n",
    "              'train' : TRAIN,\n",
    "              'tram' : TRAM })\n",
    "m.summary()"
   ]
  },
  {
   "cell_type": "code",
   "execution_count": null,
   "metadata": {},
   "outputs": [],
   "source": [
    "m.spatial_join2(layer1 = 'metro', # connect every node of metro\n",
    "               layer2 = 'tram', # to the nearest node of streets\n",
    "               distance_threshold = 500, # m of distance between nodes\n",
    "               transfer_speed = 1, # how fast the connection is traversed -- this is essentially 'free'\n",
    "               base_cost = 0, # fixed waiting cost, e.g. average of 5 minutes for the train to come\n",
    "               both = False) # bidirectional transfer"
   ]
  },
  {
   "cell_type": "code",
   "execution_count": null,
   "metadata": {},
   "outputs": [],
   "source": [
    "m.summary()"
   ]
  },
  {
   "cell_type": "code",
   "execution_count": null,
   "metadata": {},
   "outputs": [],
   "source": [
    "N = m.layers_as_subgraph(m.get_layers())\n",
    "N.edges()\n"
   ]
  },
  {
   "cell_type": "code",
   "execution_count": 21,
   "metadata": {},
   "outputs": [
    {
     "data": {
      "image/png": "[encoded data removed]",
      "text/plain": [
       "<Figure size 864x864 with 4 Axes>"
      ]
     },
     "metadata": {
      "needs_background": "light"
     },
     "output_type": "display_data"
    }
   ],
   "source": [
    "def degree_analysis(G, method: str):\n",
    "    fig = plt.figure(\"Degree of a random graph\", figsize=(12, 12))\n",
    "    # Create a gridspec for adding subplots of different sizes\n",
    "    axgrid = fig.add_gridspec(5, 9)\n",
    "\n",
    "    ax0 = fig.add_subplot(axgrid[0:3, :])\n",
    "\n",
    "    if not G.is_directed():\n",
    "        Gcc = G.subgraph(sorted(nx.connected_components(G), key=len, reverse=True)[0])\n",
    "    else:\n",
    "        Gcc = G\n",
    "\n",
    "    n_color = np.asarray([Gcc.degree[n] for n in Gcc.nodes])\n",
    "    pos = graphviz_layout(Gcc)\n",
    "    nx.draw_networkx_nodes(Gcc, pos, ax=ax0, node_size=20, node_color=n_color).set_norm(mcolors.LogNorm())\n",
    "    nx.draw_networkx_edges(Gcc, pos, ax=ax0, alpha=0.4)\n",
    "    ax0.set_title(f\"Connected components of {str(G.nodes()[random.choice(list(G.nodes()))]['layer']).upper()}\") #pick layer name of a random node and set it upper in title\n",
    "    ax0.set_axis_off()\n",
    "\n",
    "    ax1 = fig.add_subplot(axgrid[3:, :3])\n",
    "\n",
    "    if method == \"empiricaldist\":\n",
    "        degrees = [G.degree(u) for u in G]\n",
    "        cdf = Cdf.from_seq(degrees, name=\"distribution\")\n",
    "        (1-cdf).plot(color=\"b\", alpha=.4)\n",
    "        \n",
    "    elif method == \"powerlaw\":\n",
    "        M = nx.to_scipy_sparse_matrix(G)\n",
    "        xmin = min([d[1] for d in G.degree()])\n",
    "        indegrees = M.sum(0).A[0]\n",
    "        degree = np.bincount(indegrees)\n",
    "        fit = powerlaw.Fit(np.array(degree)+1, fit_method = \"KS\")\n",
    "        fit.power_law.plot_pdf(color=\"r\",linestyle=\"--\",label=\"fit ccdf\")\n",
    "        fit.plot_ccdf()\n",
    "\n",
    "    ax1.set_title(f\"CCDF ({method})\")\n",
    "    ax1.set_xlabel(\"Degree\")\n",
    "    ax1.set_ylabel(\"CCDF\")\n",
    "    ax1.set_xscale(\"log\")\n",
    "    ax1.set_yscale(\"log\")\n",
    "    \n",
    "\n",
    "    ax2 = fig.add_subplot(axgrid[3:, 3:6])\n",
    "    degree_sequence = sorted((d for n, d in G.degree()), reverse=True)\n",
    "    ax2.bar(*np.unique(degree_sequence, return_counts=True))\n",
    "    ax2.set_title(\"Degree histogram\")\n",
    "    ax2.set_xlabel(\"Degree\")\n",
    "    ax2.set_ylabel(\"# Nodes\")\n",
    "\n",
    "    ax3 = fig.add_subplot(axgrid[3:, 6:])\n",
    "    B = nx.betweenness_centrality(G, normalized=True)\n",
    "    betweenness_sequence = list(B.values())\n",
    "    plt.hist(betweenness_sequence, bins=20)\n",
    "    ax3.set_title(\"Betweenness distribution\")\n",
    "    ax3.set_xlabel(\"Betweenness\")\n",
    "    ax3.set_ylabel(\"# Nodes\")\n",
    "\n",
    "    fig.tight_layout()\n",
    "    plt.savefig(f\"ccdf_degree_{G.nodes()[random.choice(list(G.nodes()))].get('layer')}.png\", dpi = 400)\n",
    "    plt.show()\n",
    "\n",
    "degree_analysis(ROAD, method=\"empiricaldist\")"
   ]
  },
  {
   "cell_type": "code",
   "execution_count": 11,
   "metadata": {},
   "outputs": [
    {
     "name": "stderr",
     "output_type": "stream",
     "text": [
      "C:\\Users\\Matte\\AppData\\Local\\Temp\\ipykernel_13480\\967961154.py:87: FutureWarning: In future versions `DataFrame.to_latex` is expected to utilise the base implementation of `Styler.to_latex` for formatting and rendering. The arguments signature may therefore change. It is recommended instead to use `DataFrame.style.to_latex` which also contains additional functionality.\n",
      "  network_summary(network_list=[METRO,TRAIN,TRAM]).to_latex(\n"
     ]
    }
   ],
   "source": [
    "def network_summary(network_list: list):\n",
    "    all_data = {}\n",
    "    for net in network_list:\n",
    "        hubs = []\n",
    "        # NET CC for disconnected workaround\n",
    "        if not net.is_directed():\n",
    "            net_cc = net.subgraph(sorted(nx.connected_components(net), key=len, reverse=True)[0])\n",
    "\n",
    "        # get network name (layer)\n",
    "        net_name = str(net.nodes()[random.choice(list(net.nodes()))]['layer']).capitalize()\n",
    "\n",
    "        # nodes with highest degree along with position\n",
    "        degree_sequence = sorted(net.degree, key=lambda x: x[1], reverse=True)\n",
    "        max_degree = degree_sequence[0][1]\n",
    "        for node in degree_sequence:\n",
    "            if node[1] == max_degree:\n",
    "                hubs.append((node[0], net.nodes[node[0]]['pos']))\n",
    "        \n",
    "        # highest degree centrality and node with position\n",
    "        node_degree_centrality = max(nx.degree_centrality(net), key=nx.degree_centrality(net).get)\n",
    "        node_degree_centrality = (node_degree_centrality, net.nodes[node_degree_centrality].get('pos'))\n",
    "        highest_degree_centrality = max(nx.degree_centrality(net).values())\n",
    "\n",
    "        # density of net\n",
    "        density = nx.density(net)\n",
    "\n",
    "        # shortest path\n",
    "        if not net.is_directed():\n",
    "            if not nx.is_connected(net):\n",
    "                shortest_path = nx.average_shortest_path_length(net_cc)\n",
    "            else:\n",
    "                shortest_path = nx.average_shortest_path_length(net)\n",
    "        else:\n",
    "            shortest_path = None\n",
    "\n",
    "        # diameter\n",
    "        if not net.is_directed():\n",
    "            if not nx.is_connected(net):\n",
    "                diameter = nx.diameter(net_cc)\n",
    "            else:\n",
    "                diameter = nx.diameter(net)\n",
    "        else:\n",
    "            diameter = max([max(j.values()) for (i,j) in nx.shortest_path_length(net)])\n",
    "\n",
    "        # cluster\n",
    "        avg_cluster = nx.average_clustering(net)\n",
    "        transitivity = nx.transitivity(net)\n",
    "\n",
    "        # bridge\n",
    "        if not net.is_directed():\n",
    "            bridges = len(list(nx.bridges(net)))\n",
    "        else:\n",
    "            bridges = None\n",
    "\n",
    "        # highest betweenness centrality and node with position\n",
    "        node_between_centrality = max(nx.betweenness_centrality(net), key=nx.betweenness_centrality(net).get)\n",
    "        node_between_centrality = (node_between_centrality, net.nodes[node_between_centrality].get('pos'))\n",
    "        max_between_centrality = max(nx.betweenness_centrality(net).values())\n",
    "        \n",
    "\n",
    "        # highest closeness centrality and node with position\n",
    "        node_closeness_centrality = max(nx.current_flow_closeness_centrality(net), key=nx.current_flow_closeness_centrality(net).get)\n",
    "        node_closeness_centrality = (node_closeness_centrality, net.nodes[node_closeness_centrality].get('pos'))\n",
    "        max_closeness_centrality = max(nx.current_flow_closeness_centrality(net).values())\n",
    "\n",
    "        # highest eigenvector centrality and node with position\n",
    "        node_eigen_centrality = max(nx.eigenvector_centrality(net,max_iter=100), key=nx.eigenvector_centrality(net,max_iter=100).get)\n",
    "        node_eigen_centrality = (node_eigen_centrality, net.nodes[node_eigen_centrality].get('pos'))\n",
    "        max_eigen_centrality = max(nx.eigenvector_centrality(net,max_iter=100).values())\n",
    "\n",
    "        current_data = {\n",
    "            \"max_degree\": max_degree,\n",
    "            #\"hubs\": hubs,\n",
    "            \"density\": density,\n",
    "            \"shortest_path\": shortest_path,\n",
    "            \"diameter\": diameter,\n",
    "            \"avg_cluster\": avg_cluster,\n",
    "            \"transitivity\": transitivity,\n",
    "            \"bridges\": bridges,\n",
    "            \"max_degree_centrality\": highest_degree_centrality,\n",
    "            #\"node_degree_centrality\": node_degree_centrality,\n",
    "            \"max_between_centrality\": max_between_centrality,\n",
    "            #\"node_between_centrality\": node_between_centrality,\n",
    "            \"max_eigen_centrality\": max_eigen_centrality,\n",
    "            #\"node_eigen_centrality\": node_eigen_centrality,\n",
    "            \"max_closeness_centrality\": max_closeness_centrality,\n",
    "        }\n",
    "        all_data[net_name] = current_data\n",
    "        #print(f\"{net_name} network with max degree {max_degree} hold by nodes:\\n{hubs}\\n\")\n",
    "        #print(f\"{net_name} network has a density of {density}\\n\")\n",
    "        #print(\"----------------------------------------\")\n",
    "    df = pd.DataFrame.from_dict(all_data)\n",
    "    return(df)\n",
    "network_summary(network_list=[METRO,TRAIN,TRAM]).to_latex(\n",
    "    'mytable.tex',\n",
    "    float_format=lambda x: '%10.5f' % x,\n",
    "    caption=\"General measure of each layer\",\n",
    "    label=\"table:measures\",\n",
    "    escape=True,\n",
    "    column_format=\"cccc\")"
   ]
  },
  {
   "cell_type": "code",
   "execution_count": 21,
   "metadata": {},
   "outputs": [
    {
     "data": {
      "image/png": "[encoded data removed]",
      "text/plain": [
       "<Figure size 432x288 with 4 Axes>"
      ]
     },
     "metadata": {
      "needs_background": "light"
     },
     "output_type": "display_data"
    }
   ],
   "source": [
    "import seaborn as sns\n",
    "\"\"\"sns.displot(\n",
    "    data=corr_df, \n",
    "    x = \"closeness_centrality\",\n",
    "    kde=True, \n",
    "    color = 'darkblue')\"\"\"\n",
    "\n",
    "def centrality_measure(G, bins: int = 50):\n",
    "    sns.set_context(\"paper\")\n",
    "    # get network name (layer)\n",
    "    net_name = str(G.nodes()[random.choice(list(G.nodes()))]['layer']).capitalize()\n",
    "\n",
    "    degree_centrality = list(nx.degree_centrality(G).values())\n",
    "    closeness_centrality = list(nx.closeness_centrality(G).values())\n",
    "    eigenvector_centrality = list(nx.eigenvector_centrality(G,max_iter=100).values())\n",
    "    betweenness_centrality = list(nx.betweenness_centrality(G).values())\n",
    "\n",
    "    fig, axs = plt.subplots(2, 2)\n",
    "    sns.histplot(ax=axs[0, 0], x=degree_centrality, bins=bins).set_title(\"Degree centrality\")\n",
    "    sns.histplot(ax=axs[0, 1], x=closeness_centrality, bins=bins, kde=True).set_title(\"Closeness centrality\")\n",
    "    sns.histplot(ax=axs[1, 0], x=eigenvector_centrality, bins=bins).set_title(\"Eigenvector centrality\")\n",
    "    sns.histplot(ax=axs[1, 1], x=betweenness_centrality, bins=bins).set_title(\"Betweenness centrality\")\n",
    "\n",
    "    for ax in axs.flat:\n",
    "        ax.set(xlabel='x-label', ylabel='y-label')\n",
    "\n",
    "    df = pd.DataFrame({\n",
    "        \"degree_centrality\": degree_centrality,\n",
    "        \"closeness_centrality\": closeness_centrality,\n",
    "        \"eigenvector_centrality\": eigenvector_centrality,\n",
    "        \"betweenness_centrality\": betweenness_centrality\n",
    "    })\n",
    "\n",
    "    return fig, df\n",
    "\n",
    "fig, corr_df = centrality_measure(N, bins=50)"
   ]
  },
  {
   "cell_type": "code",
   "execution_count": 23,
   "metadata": {},
   "outputs": [],
   "source": [
    "fig.savefig(\"full_network.png\",dpi='figure')"
   ]
  },
  {
   "cell_type": "code",
   "execution_count": null,
   "metadata": {},
   "outputs": [],
   "source": [
    "corr = corr_df.corr()\n",
    "corr.style.background_gradient(axis=None).set_precision(3).set_properties(**{'font-size': '13pt'})"
   ]
  },
  {
   "cell_type": "code",
   "execution_count": 63,
   "metadata": {},
   "outputs": [
    {
     "data": {
      "text/plain": [
       "A86     133\n",
       "D1      127\n",
       "D19     125\n",
       "D9      124\n",
       "D11     118\n",
       "D17     117\n",
       "D130    109\n",
       "D14     108\n",
       "D10      99\n",
       "N186     96\n",
       "Name: name, dtype: int64"
      ]
     },
     "execution_count": 63,
     "metadata": {},
     "output_type": "execute_result"
    }
   ],
   "source": [
    "df[df.layer==\"road\"].name.value_counts().head(10)"
   ]
  },
  {
   "cell_type": "code",
   "execution_count": null,
   "metadata": {},
   "outputs": [],
   "source": [
    "#[nan, 'RER E', 'RER A', 'RER C', 'RER B', 'RER D'] train\n",
    "#[nan, 'T1', 'T7', 'T5', 'T4', 'T3a', 'T2', 'T3b'] tram\n",
    "# "
   ]
  }
 ],
 "metadata": {
  "interpreter": {
   "hash": "9974ed1e0e3209fc712a83f89896e0249685223056d5b00c26a959a0c83b9849"
  },
  "kernelspec": {
   "display_name": "Python 3.8.8 64-bit",
   "language": "python",
   "name": "python3"
  },
  "language_info": {
   "codemirror_mode": {
    "name": "ipython",
    "version": 3
   },
   "file_extension": ".py",
   "mimetype": "text/x-python",
   "name": "python",
   "nbconvert_exporter": "python",
   "pygments_lexer": "ipython3",
   "version": "3.8.8"
  },
  "orig_nbformat": 4
 },
 "nbformat": 4,
 "nbformat_minor": 2
}
